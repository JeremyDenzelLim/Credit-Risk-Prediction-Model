{
 "cells": [
  {
   "cell_type": "markdown",
   "metadata": {},
   "source": [
    "## Lim Jin Ming, Jeremy Denzel - A0172720M\n",
    "## Sung Zheng Jie - A0168188M"
   ]
  },
  {
   "cell_type": "code",
   "execution_count": 1,
   "metadata": {},
   "outputs": [],
   "source": [
    "import warnings\n",
    "warnings.filterwarnings(\"ignore\")"
   ]
  },
  {
   "cell_type": "code",
   "execution_count": 2,
   "metadata": {},
   "outputs": [
    {
     "name": "stderr",
     "output_type": "stream",
     "text": [
      "Using TensorFlow backend.\n"
     ]
    }
   ],
   "source": [
    "import graphviz\n",
    "import numpy as np\n",
    "import pandas as pd\n",
    "import matplotlib.pyplot as plt\n",
    "import random\n",
    "import seaborn as sns\n",
    "import xgboost as xgb\n",
    "import pickle\n",
    "import os\n",
    "\n",
    "from math import sqrt, log\n",
    "from copy import deepcopy\n",
    "from collections import defaultdict\n",
    "\n",
    "# Import libraries\n",
    "from sklearn import datasets\n",
    "from sklearn.model_selection import (train_test_split,\n",
    "                                     StratifiedKFold\n",
    "                                    )\n",
    "from sklearn.tree import DecisionTreeClassifier, export_graphviz\n",
    "from sklearn.metrics import (accuracy_score, \n",
    "                             f1_score, \n",
    "                             precision_score, \n",
    "                             recall_score, \n",
    "                             classification_report, \n",
    "                             confusion_matrix, \n",
    "                             roc_curve, \n",
    "                             auc, \n",
    "                             matthews_corrcoef,\n",
    "                             roc_auc_score\n",
    "                            )\n",
    "\n",
    "from sklearn.preprocessing import StandardScaler\n",
    "from sklearn.linear_model import LogisticRegression\n",
    "from sklearn.model_selection import validation_curve\n",
    "\n",
    "\n",
    "from imblearn.over_sampling import SMOTE\n",
    "from imblearn.pipeline import make_pipeline as make_pipeline_imb, Pipeline\n",
    "\n",
    "\n",
    "sns.set_style(style=\"whitegrid\")\n",
    "%matplotlib inline"
   ]
  },
  {
   "cell_type": "markdown",
   "metadata": {},
   "source": [
    "# Full Model"
   ]
  },
  {
   "cell_type": "markdown",
   "metadata": {},
   "source": [
    "## Question 1"
   ]
  },
  {
   "cell_type": "markdown",
   "metadata": {},
   "source": [
    "(3 points) Apply three different techniques (logistic regression, tree classification, XGBoost) to all attrbibutes in the dataset (FULL-MODEL) to predict loan default."
   ]
  },
  {
   "cell_type": "markdown",
   "metadata": {},
   "source": [
    "Compute the accuracy and MCC of each measure to compare how good each technique is at using these attributes at predicting default, using a test set. "
   ]
  },
  {
   "cell_type": "markdown",
   "metadata": {},
   "source": [
    "### 1. Data Overview"
   ]
  },
  {
   "cell_type": "code",
   "execution_count": 3,
   "metadata": {},
   "outputs": [
    {
     "data": {
      "text/html": [
       "<div>\n",
       "<style scoped>\n",
       "    .dataframe tbody tr th:only-of-type {\n",
       "        vertical-align: middle;\n",
       "    }\n",
       "\n",
       "    .dataframe tbody tr th {\n",
       "        vertical-align: top;\n",
       "    }\n",
       "\n",
       "    .dataframe thead th {\n",
       "        text-align: right;\n",
       "    }\n",
       "</style>\n",
       "<table border=\"1\" class=\"dataframe\">\n",
       "  <thead>\n",
       "    <tr style=\"text-align: right;\">\n",
       "      <th></th>\n",
       "      <th>acc_now_delinq</th>\n",
       "      <th>acc_open_past_24mths</th>\n",
       "      <th>all_util</th>\n",
       "      <th>annual_inc</th>\n",
       "      <th>avg_cur_bal</th>\n",
       "      <th>bc_open_to_buy</th>\n",
       "      <th>bc_util</th>\n",
       "      <th>chargeoff_within_12_mths</th>\n",
       "      <th>collections_12_mths_ex_med</th>\n",
       "      <th>delinq_amnt</th>\n",
       "      <th>...</th>\n",
       "      <th>total_cu_tl</th>\n",
       "      <th>total_il_high_credit_limit</th>\n",
       "      <th>total_pymnt</th>\n",
       "      <th>total_pymnt_inv</th>\n",
       "      <th>total_rec_int</th>\n",
       "      <th>total_rec_late_fee</th>\n",
       "      <th>total_rec_prncp</th>\n",
       "      <th>total_rev_hi_lim</th>\n",
       "      <th>delinq_2yrs</th>\n",
       "      <th>bad_loans</th>\n",
       "    </tr>\n",
       "  </thead>\n",
       "  <tbody>\n",
       "    <tr>\n",
       "      <td>0</td>\n",
       "      <td>0.0</td>\n",
       "      <td>3.0</td>\n",
       "      <td>1.0</td>\n",
       "      <td>52000.0</td>\n",
       "      <td>25099.0</td>\n",
       "      <td>30359.0</td>\n",
       "      <td>0.5</td>\n",
       "      <td>0.0</td>\n",
       "      <td>0.0</td>\n",
       "      <td>0.0</td>\n",
       "      <td>...</td>\n",
       "      <td>2.0</td>\n",
       "      <td>0.0</td>\n",
       "      <td>3011.577285</td>\n",
       "      <td>3011.58</td>\n",
       "      <td>11.58</td>\n",
       "      <td>0.0</td>\n",
       "      <td>3000.0</td>\n",
       "      <td>31000.0</td>\n",
       "      <td>0.0</td>\n",
       "      <td>0</td>\n",
       "    </tr>\n",
       "    <tr>\n",
       "      <td>1</td>\n",
       "      <td>0.0</td>\n",
       "      <td>2.0</td>\n",
       "      <td>47.0</td>\n",
       "      <td>55000.0</td>\n",
       "      <td>2222.0</td>\n",
       "      <td>10551.0</td>\n",
       "      <td>52.0</td>\n",
       "      <td>0.0</td>\n",
       "      <td>0.0</td>\n",
       "      <td>0.0</td>\n",
       "      <td>...</td>\n",
       "      <td>1.0</td>\n",
       "      <td>27751.0</td>\n",
       "      <td>5013.306667</td>\n",
       "      <td>5013.31</td>\n",
       "      <td>13.31</td>\n",
       "      <td>0.0</td>\n",
       "      <td>5000.0</td>\n",
       "      <td>33800.0</td>\n",
       "      <td>0.0</td>\n",
       "      <td>0</td>\n",
       "    </tr>\n",
       "    <tr>\n",
       "      <td>2</td>\n",
       "      <td>0.0</td>\n",
       "      <td>3.0</td>\n",
       "      <td>86.0</td>\n",
       "      <td>51000.0</td>\n",
       "      <td>4541.0</td>\n",
       "      <td>2498.0</td>\n",
       "      <td>0.1</td>\n",
       "      <td>0.0</td>\n",
       "      <td>0.0</td>\n",
       "      <td>0.0</td>\n",
       "      <td>...</td>\n",
       "      <td>0.0</td>\n",
       "      <td>24001.0</td>\n",
       "      <td>1032.903619</td>\n",
       "      <td>1032.90</td>\n",
       "      <td>32.90</td>\n",
       "      <td>0.0</td>\n",
       "      <td>1000.0</td>\n",
       "      <td>2500.0</td>\n",
       "      <td>0.0</td>\n",
       "      <td>0</td>\n",
       "    </tr>\n",
       "    <tr>\n",
       "      <td>3</td>\n",
       "      <td>0.0</td>\n",
       "      <td>2.0</td>\n",
       "      <td>41.0</td>\n",
       "      <td>62000.0</td>\n",
       "      <td>18520.0</td>\n",
       "      <td>18310.0</td>\n",
       "      <td>51.2</td>\n",
       "      <td>0.0</td>\n",
       "      <td>0.0</td>\n",
       "      <td>0.0</td>\n",
       "      <td>...</td>\n",
       "      <td>0.0</td>\n",
       "      <td>21976.0</td>\n",
       "      <td>20009.805556</td>\n",
       "      <td>19984.79</td>\n",
       "      <td>9.81</td>\n",
       "      <td>0.0</td>\n",
       "      <td>20000.0</td>\n",
       "      <td>39500.0</td>\n",
       "      <td>0.0</td>\n",
       "      <td>0</td>\n",
       "    </tr>\n",
       "    <tr>\n",
       "      <td>4</td>\n",
       "      <td>0.0</td>\n",
       "      <td>11.0</td>\n",
       "      <td>60.0</td>\n",
       "      <td>30000.0</td>\n",
       "      <td>5990.0</td>\n",
       "      <td>7898.0</td>\n",
       "      <td>7.1</td>\n",
       "      <td>0.0</td>\n",
       "      <td>0.0</td>\n",
       "      <td>0.0</td>\n",
       "      <td>...</td>\n",
       "      <td>5.0</td>\n",
       "      <td>62319.0</td>\n",
       "      <td>24334.736554</td>\n",
       "      <td>24334.74</td>\n",
       "      <td>334.74</td>\n",
       "      <td>0.0</td>\n",
       "      <td>24000.0</td>\n",
       "      <td>12000.0</td>\n",
       "      <td>0.0</td>\n",
       "      <td>0</td>\n",
       "    </tr>\n",
       "  </tbody>\n",
       "</table>\n",
       "<p>5 rows × 71 columns</p>\n",
       "</div>"
      ],
      "text/plain": [
       "   acc_now_delinq  acc_open_past_24mths  all_util  annual_inc  avg_cur_bal  \\\n",
       "0             0.0                   3.0       1.0     52000.0      25099.0   \n",
       "1             0.0                   2.0      47.0     55000.0       2222.0   \n",
       "2             0.0                   3.0      86.0     51000.0       4541.0   \n",
       "3             0.0                   2.0      41.0     62000.0      18520.0   \n",
       "4             0.0                  11.0      60.0     30000.0       5990.0   \n",
       "\n",
       "   bc_open_to_buy  bc_util  chargeoff_within_12_mths  \\\n",
       "0         30359.0      0.5                       0.0   \n",
       "1         10551.0     52.0                       0.0   \n",
       "2          2498.0      0.1                       0.0   \n",
       "3         18310.0     51.2                       0.0   \n",
       "4          7898.0      7.1                       0.0   \n",
       "\n",
       "   collections_12_mths_ex_med  delinq_amnt  ...  total_cu_tl  \\\n",
       "0                         0.0          0.0  ...          2.0   \n",
       "1                         0.0          0.0  ...          1.0   \n",
       "2                         0.0          0.0  ...          0.0   \n",
       "3                         0.0          0.0  ...          0.0   \n",
       "4                         0.0          0.0  ...          5.0   \n",
       "\n",
       "   total_il_high_credit_limit   total_pymnt  total_pymnt_inv  total_rec_int  \\\n",
       "0                         0.0   3011.577285          3011.58          11.58   \n",
       "1                     27751.0   5013.306667          5013.31          13.31   \n",
       "2                     24001.0   1032.903619          1032.90          32.90   \n",
       "3                     21976.0  20009.805556         19984.79           9.81   \n",
       "4                     62319.0  24334.736554         24334.74         334.74   \n",
       "\n",
       "   total_rec_late_fee  total_rec_prncp  total_rev_hi_lim  delinq_2yrs  \\\n",
       "0                 0.0           3000.0           31000.0          0.0   \n",
       "1                 0.0           5000.0           33800.0          0.0   \n",
       "2                 0.0           1000.0            2500.0          0.0   \n",
       "3                 0.0          20000.0           39500.0          0.0   \n",
       "4                 0.0          24000.0           12000.0          0.0   \n",
       "\n",
       "   bad_loans  \n",
       "0          0  \n",
       "1          0  \n",
       "2          0  \n",
       "3          0  \n",
       "4          0  \n",
       "\n",
       "[5 rows x 71 columns]"
      ]
     },
     "execution_count": 3,
     "metadata": {},
     "output_type": "execute_result"
    }
   ],
   "source": [
    "# read in the data as a pandas dataframe\n",
    "loans = pd.read_csv(\"Data/Assignment2Data.csv\")\n",
    "loans.head()"
   ]
  },
  {
   "cell_type": "code",
   "execution_count": 4,
   "metadata": {
    "scrolled": true
   },
   "outputs": [
    {
     "name": "stdout",
     "output_type": "stream",
     "text": [
      "\u001b[1mRows     : \u001b[0m 2992\n",
      "\u001b[1mColumns  : \u001b[0m 71\n",
      "\u001b[1m\n",
      "Column Names : \n",
      "\u001b[0m ['acc_now_delinq', 'acc_open_past_24mths', 'all_util', 'annual_inc', 'avg_cur_bal', 'bc_open_to_buy', 'bc_util', 'chargeoff_within_12_mths', 'collections_12_mths_ex_med', 'delinq_amnt', 'dti', 'inq_fi', 'inq_last_12m', 'inq_last_6mths', 'installment', 'int_rate', 'last_pymnt_amnt', 'loan_amnt', 'max_bal_bc', 'mo_sin_old_il_acct', 'mo_sin_old_rev_tl_op', 'mo_sin_rcnt_rev_tl_op', 'mo_sin_rcnt_tl', 'mort_acc', 'mths_since_last_delinq', 'mths_since_rcnt_il', 'num_accts_ever_120_pd', 'num_actv_bc_tl', 'num_actv_rev_tl', 'num_bc_sats', 'num_bc_tl', 'num_il_tl', 'num_op_rev_tl', 'num_rev_accts', 'num_rev_tl_bal_gt_0', 'num_sats', 'num_tl_30dpd', 'num_tl_90g_dpd_24m', 'num_tl_op_past_12m', 'open_acc', 'open_acc_6m', 'open_act_il', 'open_il_12m', 'open_il_24m', 'open_rv_12m', 'open_rv_24m', 'out_prncp', 'out_prncp_inv', 'pct_tl_nvr_dlq', 'percent_bc_gt_75', 'pub_rec_bankruptcies', 'revol_bal', 'revol_util', 'tax_liens', 'tot_coll_amt', 'tot_cur_bal', 'tot_hi_cred_lim', 'total_acc', 'total_bal_ex_mort', 'total_bal_il', 'total_bc_limit', 'total_cu_tl', 'total_il_high_credit_limit', 'total_pymnt', 'total_pymnt_inv', 'total_rec_int', 'total_rec_late_fee', 'total_rec_prncp', 'total_rev_hi_lim', 'delinq_2yrs', 'bad_loans']\n"
     ]
    }
   ],
   "source": [
    "print (\"\\033[1m\" + \"Rows     : \" +  \"\\033[0m\", loans.shape[0])\n",
    "print (\"\\033[1m\" + \"Columns  : \" + \"\\033[0m\", loans.shape[1])\n",
    "print (\"\\033[1m\" + \"\\nColumn Names : \\n\" + \"\\033[0m\", loans.columns.tolist())"
   ]
  },
  {
   "cell_type": "code",
   "execution_count": 5,
   "metadata": {
    "scrolled": true
   },
   "outputs": [
    {
     "name": "stdout",
     "output_type": "stream",
     "text": [
      "<class 'pandas.core.frame.DataFrame'>\n",
      "RangeIndex: 2992 entries, 0 to 2991\n",
      "Data columns (total 71 columns):\n",
      "acc_now_delinq                2992 non-null float64\n",
      "acc_open_past_24mths          2992 non-null float64\n",
      "all_util                      2992 non-null float64\n",
      "annual_inc                    2992 non-null float64\n",
      "avg_cur_bal                   2992 non-null float64\n",
      "bc_open_to_buy                2992 non-null float64\n",
      "bc_util                       2992 non-null float64\n",
      "chargeoff_within_12_mths      2992 non-null float64\n",
      "collections_12_mths_ex_med    2992 non-null float64\n",
      "delinq_amnt                   2992 non-null float64\n",
      "dti                           2992 non-null float64\n",
      "inq_fi                        2992 non-null float64\n",
      "inq_last_12m                  2992 non-null float64\n",
      "inq_last_6mths                2992 non-null float64\n",
      "installment                   2992 non-null float64\n",
      "int_rate                      2992 non-null float64\n",
      "last_pymnt_amnt               2992 non-null float64\n",
      "loan_amnt                     2992 non-null float64\n",
      "max_bal_bc                    2992 non-null float64\n",
      "mo_sin_old_il_acct            2992 non-null float64\n",
      "mo_sin_old_rev_tl_op          2992 non-null float64\n",
      "mo_sin_rcnt_rev_tl_op         2992 non-null float64\n",
      "mo_sin_rcnt_tl                2992 non-null float64\n",
      "mort_acc                      2992 non-null float64\n",
      "mths_since_last_delinq        2992 non-null float64\n",
      "mths_since_rcnt_il            2992 non-null float64\n",
      "num_accts_ever_120_pd         2992 non-null float64\n",
      "num_actv_bc_tl                2992 non-null float64\n",
      "num_actv_rev_tl               2992 non-null float64\n",
      "num_bc_sats                   2992 non-null float64\n",
      "num_bc_tl                     2992 non-null float64\n",
      "num_il_tl                     2992 non-null float64\n",
      "num_op_rev_tl                 2992 non-null float64\n",
      "num_rev_accts                 2992 non-null float64\n",
      "num_rev_tl_bal_gt_0           2992 non-null float64\n",
      "num_sats                      2992 non-null float64\n",
      "num_tl_30dpd                  2992 non-null float64\n",
      "num_tl_90g_dpd_24m            2992 non-null float64\n",
      "num_tl_op_past_12m            2992 non-null float64\n",
      "open_acc                      2992 non-null float64\n",
      "open_acc_6m                   2992 non-null float64\n",
      "open_act_il                   2992 non-null float64\n",
      "open_il_12m                   2992 non-null float64\n",
      "open_il_24m                   2992 non-null float64\n",
      "open_rv_12m                   2992 non-null float64\n",
      "open_rv_24m                   2992 non-null float64\n",
      "out_prncp                     2992 non-null float64\n",
      "out_prncp_inv                 2992 non-null float64\n",
      "pct_tl_nvr_dlq                2992 non-null float64\n",
      "percent_bc_gt_75              2992 non-null float64\n",
      "pub_rec_bankruptcies          2992 non-null float64\n",
      "revol_bal                     2992 non-null float64\n",
      "revol_util                    2992 non-null float64\n",
      "tax_liens                     2992 non-null float64\n",
      "tot_coll_amt                  2992 non-null float64\n",
      "tot_cur_bal                   2992 non-null float64\n",
      "tot_hi_cred_lim               2992 non-null float64\n",
      "total_acc                     2992 non-null float64\n",
      "total_bal_ex_mort             2992 non-null float64\n",
      "total_bal_il                  2992 non-null float64\n",
      "total_bc_limit                2992 non-null float64\n",
      "total_cu_tl                   2992 non-null float64\n",
      "total_il_high_credit_limit    2992 non-null float64\n",
      "total_pymnt                   2992 non-null float64\n",
      "total_pymnt_inv               2992 non-null float64\n",
      "total_rec_int                 2992 non-null float64\n",
      "total_rec_late_fee            2992 non-null float64\n",
      "total_rec_prncp               2992 non-null float64\n",
      "total_rev_hi_lim              2992 non-null float64\n",
      "delinq_2yrs                   2992 non-null float64\n",
      "bad_loans                     2992 non-null int64\n",
      "dtypes: float64(70), int64(1)\n",
      "memory usage: 1.6 MB\n"
     ]
    }
   ],
   "source": [
    "# see the data types\n",
    "loans.info()"
   ]
  },
  {
   "cell_type": "markdown",
   "metadata": {},
   "source": [
    "Hence, all features are numeric."
   ]
  },
  {
   "cell_type": "markdown",
   "metadata": {},
   "source": [
    "### 2. Data Cleaning"
   ]
  },
  {
   "cell_type": "code",
   "execution_count": 6,
   "metadata": {},
   "outputs": [
    {
     "name": "stdout",
     "output_type": "stream",
     "text": [
      "0\n"
     ]
    }
   ],
   "source": [
    "missing_values = loans.isna().sum()\n",
    "counter = 0\n",
    "for val in missing_values:\n",
    "    if val > 0:\n",
    "        counter += 0\n",
    "print(counter)"
   ]
  },
  {
   "cell_type": "markdown",
   "metadata": {},
   "source": [
    "**Observation:**\n",
    "There are no missing values."
   ]
  },
  {
   "cell_type": "markdown",
   "metadata": {},
   "source": [
    "### 3. Exploratory Data Analysis"
   ]
  },
  {
   "cell_type": "markdown",
   "metadata": {},
   "source": [
    "#### 3.1 Overall Bad Loans Rate "
   ]
  },
  {
   "cell_type": "code",
   "execution_count": 7,
   "metadata": {},
   "outputs": [
    {
     "data": {
      "text/plain": [
       "0    2516\n",
       "1     476\n",
       "Name: bad_loans, dtype: int64"
      ]
     },
     "execution_count": 7,
     "metadata": {},
     "output_type": "execute_result"
    }
   ],
   "source": [
    "loans[\"bad_loans\"].value_counts()"
   ]
  },
  {
   "cell_type": "code",
   "execution_count": 8,
   "metadata": {},
   "outputs": [
    {
     "data": {
      "image/png": "[encoded data removed]",
      "text/plain": [
       "<Figure size 1008x432 with 2 Axes>"
      ]
     },
     "metadata": {
      "needs_background": "light"
     },
     "output_type": "display_data"
    }
   ],
   "source": [
    "# Pie Chart showing percentages\n",
    "plt.figure(figsize=(14,6))\n",
    "plt.subplot(121)\n",
    "loans[\"bad_loans\"].value_counts().plot.pie(autopct  = \"%.2f%%\", fontsize=12)\n",
    "plt.title(\"Bad Loans Pie Chart\")\n",
    "plt.ylabel(\"\")\n",
    "\n",
    "# Bar Chart Raw Number\n",
    "plt.subplot(122)\n",
    "ax = sns.countplot(x=\"bad_loans\", data=loans)\n",
    "for i, j in enumerate(loans[\"bad_loans\"].value_counts().values):\n",
    "    ax.annotate(str(j), (i, j), ha=\"center\", va=\"bottom\", fontsize=12)\n",
    "\n",
    "plt.title(\"Bad Loans Bar Chart\")\n",
    "plt.show()"
   ]
  },
  {
   "cell_type": "markdown",
   "metadata": {},
   "source": [
    "**Observation:** The dataset is unbalanced on bad_loans."
   ]
  },
  {
   "cell_type": "markdown",
   "metadata": {},
   "source": [
    "### 4. Dataset Preparation\n",
    "- Train-Test Split\n",
    "- Normalise Features\n",
    "- SMOTE Oversampling"
   ]
  },
  {
   "cell_type": "markdown",
   "metadata": {},
   "source": [
    "#### 4.1 Train-Test Split 80/20"
   ]
  },
  {
   "cell_type": "code",
   "execution_count": 9,
   "metadata": {},
   "outputs": [],
   "source": [
    "# Split the dataset: 80% for train, 20% for test\n",
    "output = \"bad_loans\"\n",
    "X = loans.drop(output, axis=1)\n",
    "y = loans[output]\n",
    "\n",
    "X_train, X_test, y_train, y_test = train_test_split(X, y, test_size=0.2, random_state=1234, stratify=y)\n"
   ]
  },
  {
   "cell_type": "markdown",
   "metadata": {},
   "source": [
    "#### 4.2 Normalize Features using Standard Scaler\n",
    "- Normalise train and test set separately to prevent leaking of information from the test set\n",
    "- Use the scaler fitted on the train set to scale the test set. This ensures consistency in the transformation and makes it possible to evaluate if the model can generalize well"
   ]
  },
  {
   "cell_type": "code",
   "execution_count": 10,
   "metadata": {},
   "outputs": [],
   "source": [
    "features = X_train.columns"
   ]
  },
  {
   "cell_type": "code",
   "execution_count": 11,
   "metadata": {},
   "outputs": [],
   "source": [
    "X_train_scaled = deepcopy(X_train)\n",
    "X_test_scaled = deepcopy(X_test)"
   ]
  },
  {
   "cell_type": "code",
   "execution_count": 12,
   "metadata": {
    "scrolled": true
   },
   "outputs": [],
   "source": [
    "# Normalize features\n",
    "scaler = StandardScaler()\n",
    "scaler = scaler.fit(X_train)\n",
    "\n",
    "X_train_scaled[features] = scaler.transform(X_train)\n",
    "X_test_scaled[features] = scaler.transform(X_test)"
   ]
  },
  {
   "cell_type": "code",
   "execution_count": 13,
   "metadata": {},
   "outputs": [
    {
     "data": {
      "text/html": [
       "<div>\n",
       "<style scoped>\n",
       "    .dataframe tbody tr th:only-of-type {\n",
       "        vertical-align: middle;\n",
       "    }\n",
       "\n",
       "    .dataframe tbody tr th {\n",
       "        vertical-align: top;\n",
       "    }\n",
       "\n",
       "    .dataframe thead th {\n",
       "        text-align: right;\n",
       "    }\n",
       "</style>\n",
       "<table border=\"1\" class=\"dataframe\">\n",
       "  <thead>\n",
       "    <tr style=\"text-align: right;\">\n",
       "      <th></th>\n",
       "      <th>acc_now_delinq</th>\n",
       "      <th>acc_open_past_24mths</th>\n",
       "      <th>all_util</th>\n",
       "      <th>annual_inc</th>\n",
       "      <th>avg_cur_bal</th>\n",
       "      <th>bc_open_to_buy</th>\n",
       "      <th>bc_util</th>\n",
       "      <th>chargeoff_within_12_mths</th>\n",
       "      <th>collections_12_mths_ex_med</th>\n",
       "      <th>delinq_amnt</th>\n",
       "      <th>...</th>\n",
       "      <th>total_bc_limit</th>\n",
       "      <th>total_cu_tl</th>\n",
       "      <th>total_il_high_credit_limit</th>\n",
       "      <th>total_pymnt</th>\n",
       "      <th>total_pymnt_inv</th>\n",
       "      <th>total_rec_int</th>\n",
       "      <th>total_rec_late_fee</th>\n",
       "      <th>total_rec_prncp</th>\n",
       "      <th>total_rev_hi_lim</th>\n",
       "      <th>delinq_2yrs</th>\n",
       "    </tr>\n",
       "  </thead>\n",
       "  <tbody>\n",
       "    <tr>\n",
       "      <td>1200</td>\n",
       "      <td>0.0</td>\n",
       "      <td>1.0</td>\n",
       "      <td>92.0</td>\n",
       "      <td>400000.0</td>\n",
       "      <td>1991.0</td>\n",
       "      <td>843.0</td>\n",
       "      <td>92.2</td>\n",
       "      <td>0.0</td>\n",
       "      <td>0.0</td>\n",
       "      <td>0.0</td>\n",
       "      <td>...</td>\n",
       "      <td>10800.0</td>\n",
       "      <td>0.0</td>\n",
       "      <td>0.0</td>\n",
       "      <td>1630.710000</td>\n",
       "      <td>1630.71</td>\n",
       "      <td>692.87</td>\n",
       "      <td>0.0</td>\n",
       "      <td>937.84</td>\n",
       "      <td>10800.0</td>\n",
       "      <td>0.0</td>\n",
       "    </tr>\n",
       "    <tr>\n",
       "      <td>1083</td>\n",
       "      <td>0.0</td>\n",
       "      <td>2.0</td>\n",
       "      <td>37.0</td>\n",
       "      <td>15300.0</td>\n",
       "      <td>1818.0</td>\n",
       "      <td>7760.0</td>\n",
       "      <td>28.1</td>\n",
       "      <td>0.0</td>\n",
       "      <td>0.0</td>\n",
       "      <td>0.0</td>\n",
       "      <td>...</td>\n",
       "      <td>10800.0</td>\n",
       "      <td>0.0</td>\n",
       "      <td>0.0</td>\n",
       "      <td>3239.212599</td>\n",
       "      <td>3239.21</td>\n",
       "      <td>39.21</td>\n",
       "      <td>0.0</td>\n",
       "      <td>3200.00</td>\n",
       "      <td>19700.0</td>\n",
       "      <td>0.0</td>\n",
       "    </tr>\n",
       "    <tr>\n",
       "      <td>2593</td>\n",
       "      <td>0.0</td>\n",
       "      <td>8.0</td>\n",
       "      <td>86.0</td>\n",
       "      <td>120000.0</td>\n",
       "      <td>76200.0</td>\n",
       "      <td>249.0</td>\n",
       "      <td>50.2</td>\n",
       "      <td>0.0</td>\n",
       "      <td>0.0</td>\n",
       "      <td>0.0</td>\n",
       "      <td>...</td>\n",
       "      <td>500.0</td>\n",
       "      <td>3.0</td>\n",
       "      <td>54925.0</td>\n",
       "      <td>1623.250000</td>\n",
       "      <td>1623.25</td>\n",
       "      <td>491.95</td>\n",
       "      <td>0.0</td>\n",
       "      <td>1131.30</td>\n",
       "      <td>2500.0</td>\n",
       "      <td>0.0</td>\n",
       "    </tr>\n",
       "    <tr>\n",
       "      <td>1316</td>\n",
       "      <td>0.0</td>\n",
       "      <td>4.0</td>\n",
       "      <td>61.0</td>\n",
       "      <td>58000.0</td>\n",
       "      <td>9697.0</td>\n",
       "      <td>3617.0</td>\n",
       "      <td>59.4</td>\n",
       "      <td>0.0</td>\n",
       "      <td>0.0</td>\n",
       "      <td>0.0</td>\n",
       "      <td>...</td>\n",
       "      <td>8900.0</td>\n",
       "      <td>0.0</td>\n",
       "      <td>59819.0</td>\n",
       "      <td>488.160000</td>\n",
       "      <td>488.16</td>\n",
       "      <td>139.88</td>\n",
       "      <td>0.0</td>\n",
       "      <td>348.28</td>\n",
       "      <td>11000.0</td>\n",
       "      <td>0.0</td>\n",
       "    </tr>\n",
       "    <tr>\n",
       "      <td>2500</td>\n",
       "      <td>0.0</td>\n",
       "      <td>3.0</td>\n",
       "      <td>92.0</td>\n",
       "      <td>132000.0</td>\n",
       "      <td>6605.0</td>\n",
       "      <td>24513.0</td>\n",
       "      <td>47.6</td>\n",
       "      <td>0.0</td>\n",
       "      <td>0.0</td>\n",
       "      <td>0.0</td>\n",
       "      <td>...</td>\n",
       "      <td>46800.0</td>\n",
       "      <td>1.0</td>\n",
       "      <td>81670.0</td>\n",
       "      <td>15574.523117</td>\n",
       "      <td>15574.52</td>\n",
       "      <td>574.52</td>\n",
       "      <td>0.0</td>\n",
       "      <td>15000.00</td>\n",
       "      <td>47600.0</td>\n",
       "      <td>0.0</td>\n",
       "    </tr>\n",
       "  </tbody>\n",
       "</table>\n",
       "<p>5 rows × 70 columns</p>\n",
       "</div>"
      ],
      "text/plain": [
       "      acc_now_delinq  acc_open_past_24mths  all_util  annual_inc  avg_cur_bal  \\\n",
       "1200             0.0                   1.0      92.0    400000.0       1991.0   \n",
       "1083             0.0                   2.0      37.0     15300.0       1818.0   \n",
       "2593             0.0                   8.0      86.0    120000.0      76200.0   \n",
       "1316             0.0                   4.0      61.0     58000.0       9697.0   \n",
       "2500             0.0                   3.0      92.0    132000.0       6605.0   \n",
       "\n",
       "      bc_open_to_buy  bc_util  chargeoff_within_12_mths  \\\n",
       "1200           843.0     92.2                       0.0   \n",
       "1083          7760.0     28.1                       0.0   \n",
       "2593           249.0     50.2                       0.0   \n",
       "1316          3617.0     59.4                       0.0   \n",
       "2500         24513.0     47.6                       0.0   \n",
       "\n",
       "      collections_12_mths_ex_med  delinq_amnt  ...  total_bc_limit  \\\n",
       "1200                         0.0          0.0  ...         10800.0   \n",
       "1083                         0.0          0.0  ...         10800.0   \n",
       "2593                         0.0          0.0  ...           500.0   \n",
       "1316                         0.0          0.0  ...          8900.0   \n",
       "2500                         0.0          0.0  ...         46800.0   \n",
       "\n",
       "      total_cu_tl  total_il_high_credit_limit   total_pymnt  total_pymnt_inv  \\\n",
       "1200          0.0                         0.0   1630.710000          1630.71   \n",
       "1083          0.0                         0.0   3239.212599          3239.21   \n",
       "2593          3.0                     54925.0   1623.250000          1623.25   \n",
       "1316          0.0                     59819.0    488.160000           488.16   \n",
       "2500          1.0                     81670.0  15574.523117         15574.52   \n",
       "\n",
       "      total_rec_int  total_rec_late_fee  total_rec_prncp  total_rev_hi_lim  \\\n",
       "1200         692.87                 0.0           937.84           10800.0   \n",
       "1083          39.21                 0.0          3200.00           19700.0   \n",
       "2593         491.95                 0.0          1131.30            2500.0   \n",
       "1316         139.88                 0.0           348.28           11000.0   \n",
       "2500         574.52                 0.0         15000.00           47600.0   \n",
       "\n",
       "      delinq_2yrs  \n",
       "1200          0.0  \n",
       "1083          0.0  \n",
       "2593          0.0  \n",
       "1316          0.0  \n",
       "2500          0.0  \n",
       "\n",
       "[5 rows x 70 columns]"
      ]
     },
     "execution_count": 13,
     "metadata": {},
     "output_type": "execute_result"
    }
   ],
   "source": [
    "X_train.head()"
   ]
  },
  {
   "cell_type": "code",
   "execution_count": 14,
   "metadata": {},
   "outputs": [
    {
     "data": {
      "text/html": [
       "<div>\n",
       "<style scoped>\n",
       "    .dataframe tbody tr th:only-of-type {\n",
       "        vertical-align: middle;\n",
       "    }\n",
       "\n",
       "    .dataframe tbody tr th {\n",
       "        vertical-align: top;\n",
       "    }\n",
       "\n",
       "    .dataframe thead th {\n",
       "        text-align: right;\n",
       "    }\n",
       "</style>\n",
       "<table border=\"1\" class=\"dataframe\">\n",
       "  <thead>\n",
       "    <tr style=\"text-align: right;\">\n",
       "      <th></th>\n",
       "      <th>acc_now_delinq</th>\n",
       "      <th>acc_open_past_24mths</th>\n",
       "      <th>all_util</th>\n",
       "      <th>annual_inc</th>\n",
       "      <th>avg_cur_bal</th>\n",
       "      <th>bc_open_to_buy</th>\n",
       "      <th>bc_util</th>\n",
       "      <th>chargeoff_within_12_mths</th>\n",
       "      <th>collections_12_mths_ex_med</th>\n",
       "      <th>delinq_amnt</th>\n",
       "      <th>...</th>\n",
       "      <th>total_bc_limit</th>\n",
       "      <th>total_cu_tl</th>\n",
       "      <th>total_il_high_credit_limit</th>\n",
       "      <th>total_pymnt</th>\n",
       "      <th>total_pymnt_inv</th>\n",
       "      <th>total_rec_int</th>\n",
       "      <th>total_rec_late_fee</th>\n",
       "      <th>total_rec_prncp</th>\n",
       "      <th>total_rev_hi_lim</th>\n",
       "      <th>delinq_2yrs</th>\n",
       "    </tr>\n",
       "  </thead>\n",
       "  <tbody>\n",
       "    <tr>\n",
       "      <td>1200</td>\n",
       "      <td>-0.028922</td>\n",
       "      <td>-1.194271</td>\n",
       "      <td>1.648873</td>\n",
       "      <td>3.983099</td>\n",
       "      <td>-0.729644</td>\n",
       "      <td>-0.722667</td>\n",
       "      <td>1.518049</td>\n",
       "      <td>-0.133139</td>\n",
       "      <td>-0.163745</td>\n",
       "      <td>-0.027817</td>\n",
       "      <td>...</td>\n",
       "      <td>-0.546420</td>\n",
       "      <td>-0.604186</td>\n",
       "      <td>-1.046418</td>\n",
       "      <td>-0.880171</td>\n",
       "      <td>-0.880064</td>\n",
       "      <td>0.615512</td>\n",
       "      <td>-0.151844</td>\n",
       "      <td>-0.917089</td>\n",
       "      <td>-0.593372</td>\n",
       "      <td>-0.543827</td>\n",
       "    </tr>\n",
       "    <tr>\n",
       "      <td>1083</td>\n",
       "      <td>-0.028922</td>\n",
       "      <td>-0.911591</td>\n",
       "      <td>-0.814731</td>\n",
       "      <td>-0.909573</td>\n",
       "      <td>-0.738275</td>\n",
       "      <td>-0.318528</td>\n",
       "      <td>-0.602306</td>\n",
       "      <td>-0.133139</td>\n",
       "      <td>-0.163745</td>\n",
       "      <td>-0.027817</td>\n",
       "      <td>...</td>\n",
       "      <td>-0.546420</td>\n",
       "      <td>-0.604186</td>\n",
       "      <td>-1.046418</td>\n",
       "      <td>-0.730620</td>\n",
       "      <td>-0.730487</td>\n",
       "      <td>-0.778175</td>\n",
       "      <td>-0.151844</td>\n",
       "      <td>-0.704409</td>\n",
       "      <td>-0.367847</td>\n",
       "      <td>-0.543827</td>\n",
       "    </tr>\n",
       "    <tr>\n",
       "      <td>2593</td>\n",
       "      <td>-0.028922</td>\n",
       "      <td>0.784486</td>\n",
       "      <td>1.380116</td>\n",
       "      <td>0.422017</td>\n",
       "      <td>2.972719</td>\n",
       "      <td>-0.757372</td>\n",
       "      <td>0.128737</td>\n",
       "      <td>-0.133139</td>\n",
       "      <td>-0.163745</td>\n",
       "      <td>-0.027817</td>\n",
       "      <td>...</td>\n",
       "      <td>-1.034781</td>\n",
       "      <td>0.356490</td>\n",
       "      <td>0.146048</td>\n",
       "      <td>-0.880864</td>\n",
       "      <td>-0.880758</td>\n",
       "      <td>0.187125</td>\n",
       "      <td>-0.151844</td>\n",
       "      <td>-0.898901</td>\n",
       "      <td>-0.803693</td>\n",
       "      <td>-0.543827</td>\n",
       "    </tr>\n",
       "    <tr>\n",
       "      <td>1316</td>\n",
       "      <td>-0.028922</td>\n",
       "      <td>-0.346232</td>\n",
       "      <td>0.260296</td>\n",
       "      <td>-0.366508</td>\n",
       "      <td>-0.345184</td>\n",
       "      <td>-0.560591</td>\n",
       "      <td>0.433062</td>\n",
       "      <td>-0.133139</td>\n",
       "      <td>-0.163745</td>\n",
       "      <td>-0.027817</td>\n",
       "      <td>...</td>\n",
       "      <td>-0.636506</td>\n",
       "      <td>-0.604186</td>\n",
       "      <td>0.252301</td>\n",
       "      <td>-0.986399</td>\n",
       "      <td>-0.986311</td>\n",
       "      <td>-0.563533</td>\n",
       "      <td>-0.151844</td>\n",
       "      <td>-0.972518</td>\n",
       "      <td>-0.588304</td>\n",
       "      <td>-0.543827</td>\n",
       "    </tr>\n",
       "    <tr>\n",
       "      <td>2500</td>\n",
       "      <td>-0.028922</td>\n",
       "      <td>-0.628912</td>\n",
       "      <td>1.648873</td>\n",
       "      <td>0.574635</td>\n",
       "      <td>-0.499447</td>\n",
       "      <td>0.660295</td>\n",
       "      <td>0.042732</td>\n",
       "      <td>-0.133139</td>\n",
       "      <td>-0.163745</td>\n",
       "      <td>-0.027817</td>\n",
       "      <td>...</td>\n",
       "      <td>1.160472</td>\n",
       "      <td>-0.283961</td>\n",
       "      <td>0.726704</td>\n",
       "      <td>0.416256</td>\n",
       "      <td>0.416591</td>\n",
       "      <td>0.363175</td>\n",
       "      <td>-0.151844</td>\n",
       "      <td>0.404985</td>\n",
       "      <td>0.339137</td>\n",
       "      <td>-0.543827</td>\n",
       "    </tr>\n",
       "  </tbody>\n",
       "</table>\n",
       "<p>5 rows × 70 columns</p>\n",
       "</div>"
      ],
      "text/plain": [
       "      acc_now_delinq  acc_open_past_24mths  all_util  annual_inc  avg_cur_bal  \\\n",
       "1200       -0.028922             -1.194271  1.648873    3.983099    -0.729644   \n",
       "1083       -0.028922             -0.911591 -0.814731   -0.909573    -0.738275   \n",
       "2593       -0.028922              0.784486  1.380116    0.422017     2.972719   \n",
       "1316       -0.028922             -0.346232  0.260296   -0.366508    -0.345184   \n",
       "2500       -0.028922             -0.628912  1.648873    0.574635    -0.499447   \n",
       "\n",
       "      bc_open_to_buy   bc_util  chargeoff_within_12_mths  \\\n",
       "1200       -0.722667  1.518049                 -0.133139   \n",
       "1083       -0.318528 -0.602306                 -0.133139   \n",
       "2593       -0.757372  0.128737                 -0.133139   \n",
       "1316       -0.560591  0.433062                 -0.133139   \n",
       "2500        0.660295  0.042732                 -0.133139   \n",
       "\n",
       "      collections_12_mths_ex_med  delinq_amnt  ...  total_bc_limit  \\\n",
       "1200                   -0.163745    -0.027817  ...       -0.546420   \n",
       "1083                   -0.163745    -0.027817  ...       -0.546420   \n",
       "2593                   -0.163745    -0.027817  ...       -1.034781   \n",
       "1316                   -0.163745    -0.027817  ...       -0.636506   \n",
       "2500                   -0.163745    -0.027817  ...        1.160472   \n",
       "\n",
       "      total_cu_tl  total_il_high_credit_limit  total_pymnt  total_pymnt_inv  \\\n",
       "1200    -0.604186                   -1.046418    -0.880171        -0.880064   \n",
       "1083    -0.604186                   -1.046418    -0.730620        -0.730487   \n",
       "2593     0.356490                    0.146048    -0.880864        -0.880758   \n",
       "1316    -0.604186                    0.252301    -0.986399        -0.986311   \n",
       "2500    -0.283961                    0.726704     0.416256         0.416591   \n",
       "\n",
       "      total_rec_int  total_rec_late_fee  total_rec_prncp  total_rev_hi_lim  \\\n",
       "1200       0.615512           -0.151844        -0.917089         -0.593372   \n",
       "1083      -0.778175           -0.151844        -0.704409         -0.367847   \n",
       "2593       0.187125           -0.151844        -0.898901         -0.803693   \n",
       "1316      -0.563533           -0.151844        -0.972518         -0.588304   \n",
       "2500       0.363175           -0.151844         0.404985          0.339137   \n",
       "\n",
       "      delinq_2yrs  \n",
       "1200    -0.543827  \n",
       "1083    -0.543827  \n",
       "2593    -0.543827  \n",
       "1316    -0.543827  \n",
       "2500    -0.543827  \n",
       "\n",
       "[5 rows x 70 columns]"
      ]
     },
     "execution_count": 14,
     "metadata": {},
     "output_type": "execute_result"
    }
   ],
   "source": [
    "X_train_scaled.head()"
   ]
  },
  {
   "cell_type": "markdown",
   "metadata": {},
   "source": [
    "#### 4.3 Address the Unbalanced Training Set by Oversampling (SMOTE)"
   ]
  },
  {
   "cell_type": "code",
   "execution_count": 15,
   "metadata": {},
   "outputs": [
    {
     "data": {
      "text/plain": [
       "0    2012\n",
       "1     381\n",
       "Name: bad_loans, dtype: int64"
      ]
     },
     "execution_count": 15,
     "metadata": {},
     "output_type": "execute_result"
    }
   ],
   "source": [
    "# Merge X_train and y_train to obtain the training set\n",
    "training_set = X_train_scaled.merge(pd.DataFrame(y_train), left_index=True,right_index=True,how = \"left\")\n",
    "training_set[\"bad_loans\"].value_counts() # Unbalanced Training Set\n"
   ]
  },
  {
   "cell_type": "code",
   "execution_count": 16,
   "metadata": {},
   "outputs": [],
   "source": [
    "# Address the Unbalanced Training Set by Oversampling SMOTE\n",
    "sm = SMOTE(random_state=1234)\n",
    "sm_X_train, sm_y_train = sm.fit_sample(X_train_scaled, y_train.ravel())"
   ]
  },
  {
   "cell_type": "code",
   "execution_count": 17,
   "metadata": {},
   "outputs": [
    {
     "data": {
      "text/plain": [
       "1    2012\n",
       "0    2012\n",
       "dtype: int64"
      ]
     },
     "execution_count": 17,
     "metadata": {},
     "output_type": "execute_result"
    }
   ],
   "source": [
    "pd.Series(sm_y_train).value_counts()"
   ]
  },
  {
   "cell_type": "markdown",
   "metadata": {},
   "source": [
    "### 5. Machine Learning Models\n",
    "- Logistic Regression\n",
    "- Decision Tree Classifier\n",
    "- XGBoost Classifier"
   ]
  },
  {
   "cell_type": "markdown",
   "metadata": {},
   "source": [
    "#### 5.1 Logistic Regression"
   ]
  },
  {
   "cell_type": "code",
   "execution_count": 18,
   "metadata": {},
   "outputs": [],
   "source": [
    "# Initialize logistic regression model with L2 penalty: Ridge model\n",
    "lr = LogisticRegression(fit_intercept=True, \n",
    "                        penalty='l2',\n",
    "                        C = 1,\n",
    "                        random_state=1234)\n"
   ]
  },
  {
   "cell_type": "markdown",
   "metadata": {},
   "source": [
    "##### Evaluation of Logistic Regression\n",
    "- Cross Validation\n",
    "- Accuraucy, MCC, Confusion Matrix, AUC"
   ]
  },
  {
   "cell_type": "markdown",
   "metadata": {},
   "source": [
    "**Cross Validation**"
   ]
  },
  {
   "cell_type": "code",
   "execution_count": 19,
   "metadata": {},
   "outputs": [],
   "source": [
    "# Create a n-fold cross validation\n",
    "def cross_validation_smote(splits, X_train, y_train, classifier):\n",
    " \n",
    "    skf = StratifiedKFold(n_splits=splits,random_state=1234)    \n",
    "    accuracy = []\n",
    "    recall = []\n",
    "    precision = []\n",
    "    f1 = []\n",
    "    roc_auc = []\n",
    "    mcc = []\n",
    "    \n",
    "    for train_index, test_index in skf.split(X_train, y_train):\n",
    "        # train-test split in each fold\n",
    "        X_train_cv, X_test_cv = X_train[train_index], X_train[test_index]\n",
    "        y_train_cv, y_test_cv = y_train[train_index], y_train[test_index]\n",
    "        \n",
    "        # SMOTE oversampling on the training set of the fold \n",
    "        pipeline = make_pipeline_imb(SMOTE(random_state = 1234), classifier)\n",
    "        model = pipeline.fit(X_train_cv, y_train_cv)\n",
    "        y_pred = model.predict(X_test_cv)\n",
    "                \n",
    "        accuracy.append(accuracy_score(y_test_cv, y_pred))\n",
    "        recall.append(recall_score(y_test_cv, y_pred))\n",
    "        precision.append(precision_score(y_test_cv, y_pred))\n",
    "        f1.append(f1_score(y_test_cv, y_pred))\n",
    "        roc_auc.append(roc_auc_score(y_test_cv, y_pred))\n",
    "        mcc.append(matthews_corrcoef(y_test_cv, y_pred))\n",
    "        \n",
    "    result = {}\n",
    "    result[\"accuracy\"] = np.mean(accuracy)\n",
    "    result[\"recall_score\"] = np.mean(recall)\n",
    "    result[\"precision\"] = np.mean(precision)\n",
    "    result[\"f1_score\"] = np.mean(f1)\n",
    "    result[\"roc_auc_score\"] = np.mean(roc_auc)\n",
    "    result[\"mcc\"] = np.mean(mcc)\n",
    "        \n",
    "    compiler_acc = []\n",
    "    compiler_mcc = []\n",
    "\n",
    "    for fold, acc in enumerate(accuracy):\n",
    "        compiler_acc.append([fold+1, acc])         \n",
    "\n",
    "    for fold, mcc_ in enumerate(mcc):\n",
    "        compiler_mcc.append([fold+1, mcc_])\n",
    "    \n",
    "    result_acc = pd.DataFrame(compiler_acc,columns=[\"Fold\",\"Accuracy\"])\n",
    "    result_mcc = pd.DataFrame(compiler_mcc,columns=[\"Fold\",\"MCC\"])\n",
    "    \n",
    "    fig = plt.figure(figsize=(12,4))\n",
    "    \n",
    "    plt.subplot(121)    \n",
    "    plt.plot(result_acc.Fold,result_acc.Accuracy)\n",
    "    plt.hlines(np.mean(accuracy),1,splits,colors='r', linestyles='dashed')\n",
    "    plt.text(splits-1.5,np.mean(accuracy)+0.001, f\"Average Accuracy:{round(np.mean(accuracy),4)}\")\n",
    "    plt.xticks(np.arange(1, 6, step=1))\n",
    "    plt.title('Cross Validation Accuracy')\n",
    "    plt.ylabel('Accuracy')\n",
    "    plt.xlabel('Iteration')\n",
    "        \n",
    "    plt.subplot(122)\n",
    "    plt.plot(result_mcc.Fold,result_mcc.MCC)\n",
    "    plt.hlines(np.mean(mcc),1,splits,colors='r', linestyles='dashed')\n",
    "    plt.text(splits-1.5,np.mean(mcc)+0.001, f\"Average MCC:{round(np.mean(mcc),4)}\")\n",
    "    plt.xticks(np.arange(1, 6, step=1))\n",
    "    plt.title('Cross Validation MCC')\n",
    "    plt.ylabel('MCC')\n",
    "    plt.xlabel('Iteration')\n",
    "    \n",
    "    return result"
   ]
  },
  {
   "cell_type": "code",
   "execution_count": 20,
   "metadata": {
    "scrolled": true
   },
   "outputs": [
    {
     "data": {
      "image/png": "[encoded data removed]",
      "text/plain": [
       "<Figure size 864x288 with 2 Axes>"
      ]
     },
     "metadata": {
      "needs_background": "light"
     },
     "output_type": "display_data"
    }
   ],
   "source": [
    "results = cross_validation_smote(5, X_train_scaled.values, y_train.values, lr)"
   ]
  },
  {
   "cell_type": "code",
   "execution_count": 21,
   "metadata": {},
   "outputs": [
    {
     "name": "stdout",
     "output_type": "stream",
     "text": [
      "Cross Validation Results\n",
      "accuracy: 0.8700463104503513\n",
      "recall_score: 0.9107655502392344\n",
      "precision: 0.5563261416856621\n",
      "f1_score: 0.6906533497777116\n",
      "roc_auc_score: 0.8865476702469582\n",
      "mcc: 0.6443789427177233\n"
     ]
    }
   ],
   "source": [
    "print(\"Cross Validation Results\")\n",
    "\n",
    "for key in results:\n",
    "    print(\"{0}: {1}\".format(key, np.mean(results[key])))\n"
   ]
  },
  {
   "cell_type": "markdown",
   "metadata": {},
   "source": [
    "**Test Results**"
   ]
  },
  {
   "cell_type": "code",
   "execution_count": 22,
   "metadata": {},
   "outputs": [],
   "source": [
    "# Initialize logistic regression model with L2 penalty: Ridge model\n",
    "lr = LogisticRegression(fit_intercept=True, \n",
    "                        penalty='l2',\n",
    "                        C = 1,\n",
    "                        random_state=1234)\n"
   ]
  },
  {
   "cell_type": "code",
   "execution_count": 23,
   "metadata": {
    "scrolled": true
   },
   "outputs": [
    {
     "data": {
      "text/plain": [
       "LogisticRegression(C=1, class_weight=None, dual=False, fit_intercept=True,\n",
       "                   intercept_scaling=1, l1_ratio=None, max_iter=100,\n",
       "                   multi_class='warn', n_jobs=None, penalty='l2',\n",
       "                   random_state=1234, solver='warn', tol=0.0001, verbose=0,\n",
       "                   warm_start=False)"
      ]
     },
     "execution_count": 23,
     "metadata": {},
     "output_type": "execute_result"
    }
   ],
   "source": [
    "lr.fit(sm_X_train, sm_y_train)"
   ]
  },
  {
   "cell_type": "code",
   "execution_count": 24,
   "metadata": {},
   "outputs": [],
   "source": [
    "y_pred_lr = lr.predict(X_test_scaled)"
   ]
  },
  {
   "cell_type": "code",
   "execution_count": 25,
   "metadata": {},
   "outputs": [
    {
     "name": "stdout",
     "output_type": "stream",
     "text": [
      "[[432  72]\n",
      " [  9  86]]\n",
      "432 72 9 86\n"
     ]
    }
   ],
   "source": [
    "# Create confusion matrix\n",
    "cm = confusion_matrix(y_test, y_pred_lr)\n",
    "TN, FP, FN, TP = cm.ravel()\n",
    "print (cm)\n",
    "print (TN, FP, FN, TP)"
   ]
  },
  {
   "cell_type": "code",
   "execution_count": 26,
   "metadata": {},
   "outputs": [
    {
     "name": "stdout",
     "output_type": "stream",
     "text": [
      "Accuracy:  0.8647746243739566\n",
      "Sensitivity:  0.9052631578947369\n",
      "Precision:  0.5443037974683544\n",
      "f1 Score:  0.6798418972332017\n",
      "ROC_AUC_Score: 0.8812030075187971\n",
      "MCC:  0.6319977711735533\n"
     ]
    }
   ],
   "source": [
    "# Performance of Logistic Regression with L2\n",
    "print (\"Accuracy: \", accuracy_score(y_test, y_pred_lr))\n",
    "print(\"Sensitivity: \", recall_score(y_test, y_pred_lr))\n",
    "print(\"Precision: \", precision_score(y_test, y_pred_lr))\n",
    "print (\"f1 Score: \", f1_score(y_test, y_pred_lr))\n",
    "print(\"ROC_AUC_Score:\", roc_auc_score(y_test, y_pred_lr))\n",
    "print(\"MCC: \", matthews_corrcoef(y_test, y_pred_lr))\n"
   ]
  },
  {
   "cell_type": "code",
   "execution_count": 27,
   "metadata": {},
   "outputs": [],
   "source": [
    "def cm_and_roc(confusion_matrix, class_names, Y_test, testPredict, figsize = (15,5), fontsize=12):\n",
    "    df_cm = pd.DataFrame(\n",
    "        confusion_matrix, index=class_names, columns=class_names, \n",
    "    )\n",
    "    fig = plt.figure(figsize=figsize)\n",
    "    \n",
    "    # Confusion Matrix\n",
    "    plt.subplot(121)\n",
    "    heatmap = sns.heatmap(df_cm, annot=True, fmt=\"d\")\n",
    "    heatmap.yaxis.set_ticklabels(heatmap.yaxis.get_ticklabels(), rotation=0, ha='right', fontsize=fontsize)\n",
    "    heatmap.xaxis.set_ticklabels(heatmap.xaxis.get_ticklabels(), rotation=45, ha='right', fontsize=fontsize)\n",
    "    plt.ylabel('True label')\n",
    "    plt.xlabel('Predicted label')\n",
    "    plt.title(\"Confusion Matrix\")\n",
    "    \n",
    "    # ROC \n",
    "    plt.subplot(122)\n",
    "\n",
    "    # Plot ROC Curve\n",
    "    fpr, tpr, thresholds = roc_curve(Y_test, testPredict) # fpr: FP Rate, tpr: TP Rate, thresholds: Pr(y=1)\n",
    "    roc_auc = auc(fpr, tpr)\n",
    "\n",
    "    plt.plot(fpr, tpr, label='AUC = %0.2f'% roc_auc)\n",
    "    plt.legend(loc='lower right')\n",
    "    plt.plot([0,1],[0,1],'r--')\n",
    "    plt.xlim([-0.1,1.1])\n",
    "    plt.ylim([-0.1,1.1])\n",
    "    plt.title('Receiver operating characteristic')\n",
    "    plt.ylabel('True Positive Rate')\n",
    "    plt.xlabel('False Positive Rate')\n",
    "    plt.show()\n",
    "    \n",
    "    return"
   ]
  },
  {
   "cell_type": "code",
   "execution_count": 28,
   "metadata": {},
   "outputs": [
    {
     "data": {
      "image/png": "[encoded data removed]",
      "text/plain": [
       "<Figure size 1080x360 with 3 Axes>"
      ]
     },
     "metadata": {
      "needs_background": "light"
     },
     "output_type": "display_data"
    }
   ],
   "source": [
    "cm_and_roc(cm, [0, 1], y_test, y_pred_lr, figsize = (15,5), fontsize=12)"
   ]
  },
  {
   "cell_type": "markdown",
   "metadata": {},
   "source": [
    "#### 5.2 Decision Tree Classifier"
   ]
  },
  {
   "cell_type": "code",
   "execution_count": 29,
   "metadata": {},
   "outputs": [],
   "source": [
    "# Initialize Decision Tree Classifier model\n",
    "tree = DecisionTreeClassifier(criterion='entropy', # Entropy and information gain\n",
    "                              max_depth=7, # Stopping condition: maximum tree depth\n",
    "                              min_samples_split=30, # Stopping condition: Minimum number of samples required to split an internal node\n",
    "                              min_samples_leaf=10, # Stopping condition: Minimum number of samples required to be at a leaf node\n",
    "                              min_impurity_decrease=0.005, # Stopping condition: A node will be split if this split induces a decrease of the impurity greater than or equal to this value\n",
    "                              random_state=1234 # Set seed to 1234\n",
    "                             )"
   ]
  },
  {
   "cell_type": "code",
   "execution_count": 30,
   "metadata": {},
   "outputs": [
    {
     "data": {
      "text/plain": [
       "DecisionTreeClassifier(class_weight=None, criterion='entropy', max_depth=7,\n",
       "                       max_features=None, max_leaf_nodes=None,\n",
       "                       min_impurity_decrease=0.005, min_impurity_split=None,\n",
       "                       min_samples_leaf=10, min_samples_split=30,\n",
       "                       min_weight_fraction_leaf=0.0, presort=False,\n",
       "                       random_state=1234, splitter='best')"
      ]
     },
     "execution_count": 30,
     "metadata": {},
     "output_type": "execute_result"
    }
   ],
   "source": [
    "tree.fit(sm_X_train, sm_y_train)"
   ]
  },
  {
   "cell_type": "code",
   "execution_count": 31,
   "metadata": {
    "scrolled": false
   },
   "outputs": [
    {
     "data": {
      "image/svg+xml": [
       "<?xml version=\"1.0\" encoding=\"UTF-8\" standalone=\"no\"?>\n",
       "<!DOCTYPE svg PUBLIC \"-//W3C//DTD SVG 1.1//EN\"\n",
       " \"http://www.w3.org/Graphics/SVG/1.1/DTD/svg11.dtd\">\n",
       "<!-- Generated by graphviz version 2.40.1 (20161225.0304)\n",
       " -->\n",
       "<!-- Title: Tree Pages: 1 -->\n",
       "<svg width=\"932pt\" height=\"790pt\"\n",
       " viewBox=\"0.00 0.00 932.00 790.00\" xmlns=\"http://www.w3.org/2000/svg\" xmlns:xlink=\"http://www.w3.org/1999/xlink\">\n",
       "<g id=\"graph0\" class=\"graph\" transform=\"scale(1 1) rotate(0) translate(4 786)\">\n",
       "<title>Tree</title>\n",
       "<polygon fill=\"#ffffff\" stroke=\"transparent\" points=\"-4,4 -4,-786 928,-786 928,4 -4,4\"/>\n",
       "<!-- 0 -->\n",
       "<g id=\"node1\" class=\"node\">\n",
       "<title>0</title>\n",
       "<path fill=\"#ffffff\" stroke=\"#000000\" d=\"M321,-782C321,-782 233,-782 233,-782 227,-782 221,-776 221,-770 221,-770 221,-711 221,-711 221,-705 227,-699 233,-699 233,-699 321,-699 321,-699 327,-699 333,-705 333,-711 333,-711 333,-770 333,-770 333,-776 327,-782 321,-782\"/>\n",
       "<text text-anchor=\"start\" x=\"238.5\" y=\"-766.8\" font-family=\"Helvetica,sans-Serif\" font-size=\"14.00\" fill=\"#000000\">out_prncp ≤ &#45;0.5</text>\n",
       "<text text-anchor=\"start\" x=\"246\" y=\"-751.8\" font-family=\"Helvetica,sans-Serif\" font-size=\"14.00\" fill=\"#000000\">entropy = 1.0</text>\n",
       "<text text-anchor=\"start\" x=\"239.5\" y=\"-736.8\" font-family=\"Helvetica,sans-Serif\" font-size=\"14.00\" fill=\"#000000\">samples = 4024</text>\n",
       "<text text-anchor=\"start\" x=\"229\" y=\"-721.8\" font-family=\"Helvetica,sans-Serif\" font-size=\"14.00\" fill=\"#000000\">value = [2012, 2012]</text>\n",
       "<text text-anchor=\"start\" x=\"256\" y=\"-706.8\" font-family=\"Helvetica,sans-Serif\" font-size=\"14.00\" fill=\"#000000\">class = b</text>\n",
       "</g>\n",
       "<!-- 1 -->\n",
       "<g id=\"node2\" class=\"node\">\n",
       "<title>1</title>\n",
       "<path fill=\"#e6853f\" stroke=\"#000000\" d=\"M256,-663C256,-663 150,-663 150,-663 144,-663 138,-657 138,-651 138,-651 138,-592 138,-592 138,-586 144,-580 150,-580 150,-580 256,-580 256,-580 262,-580 268,-586 268,-592 268,-592 268,-651 268,-651 268,-657 262,-663 256,-663\"/>\n",
       "<text text-anchor=\"start\" x=\"146\" y=\"-647.8\" font-family=\"Helvetica,sans-Serif\" font-size=\"14.00\" fill=\"#000000\">total_rec_prncp ≤ &#45;0.921</text>\n",
       "<text text-anchor=\"start\" x=\"166\" y=\"-632.8\" font-family=\"Helvetica,sans-Serif\" font-size=\"14.00\" fill=\"#000000\">entropy = 0.195</text>\n",
       "<text text-anchor=\"start\" x=\"165.5\" y=\"-617.8\" font-family=\"Helvetica,sans-Serif\" font-size=\"14.00\" fill=\"#000000\">samples = 1762</text>\n",
       "<text text-anchor=\"start\" x=\"161\" y=\"-602.8\" font-family=\"Helvetica,sans-Serif\" font-size=\"14.00\" fill=\"#000000\">value = [1709, 53]</text>\n",
       "<text text-anchor=\"start\" x=\"182\" y=\"-587.8\" font-family=\"Helvetica,sans-Serif\" font-size=\"14.00\" fill=\"#000000\">class = b</text>\n",
       "</g>\n",
       "<!-- 0&#45;&gt;1 -->\n",
       "<g id=\"edge1\" class=\"edge\">\n",
       "<title>0&#45;&gt;1</title>\n",
       "<path fill=\"none\" stroke=\"#000000\" d=\"M251.1184,-698.8796C245.6858,-690.1434 239.9008,-680.8404 234.2947,-671.8253\"/>\n",
       "<polygon fill=\"#000000\" stroke=\"#000000\" points=\"237.2451,-669.9418 228.9921,-663.2981 231.3007,-673.6383 237.2451,-669.9418\"/>\n",
       "<text text-anchor=\"middle\" x=\"223.3153\" y=\"-683.945\" font-family=\"Helvetica,sans-Serif\" font-size=\"14.00\" fill=\"#000000\">True</text>\n",
       "</g>\n",
       "<!-- 4 -->\n",
       "<g id=\"node5\" class=\"node\">\n",
       "<title>4</title>\n",
       "<path fill=\"#58ace9\" stroke=\"#000000\" d=\"M404,-663C404,-663 298,-663 298,-663 292,-663 286,-657 286,-651 286,-651 286,-592 286,-592 286,-586 292,-580 298,-580 298,-580 404,-580 404,-580 410,-580 416,-586 416,-592 416,-592 416,-651 416,-651 416,-657 410,-663 404,-663\"/>\n",
       "<text text-anchor=\"start\" x=\"294\" y=\"-647.8\" font-family=\"Helvetica,sans-Serif\" font-size=\"14.00\" fill=\"#000000\">total_rec_prncp ≤ &#45;0.944</text>\n",
       "<text text-anchor=\"start\" x=\"314\" y=\"-632.8\" font-family=\"Helvetica,sans-Serif\" font-size=\"14.00\" fill=\"#000000\">entropy = 0.568</text>\n",
       "<text text-anchor=\"start\" x=\"313.5\" y=\"-617.8\" font-family=\"Helvetica,sans-Serif\" font-size=\"14.00\" fill=\"#000000\">samples = 2262</text>\n",
       "<text text-anchor=\"start\" x=\"306\" y=\"-602.8\" font-family=\"Helvetica,sans-Serif\" font-size=\"14.00\" fill=\"#000000\">value = [303, 1959]</text>\n",
       "<text text-anchor=\"start\" x=\"330\" y=\"-587.8\" font-family=\"Helvetica,sans-Serif\" font-size=\"14.00\" fill=\"#000000\">class = a</text>\n",
       "</g>\n",
       "<!-- 0&#45;&gt;4 -->\n",
       "<g id=\"edge4\" class=\"edge\">\n",
       "<title>0&#45;&gt;4</title>\n",
       "<path fill=\"none\" stroke=\"#000000\" d=\"M302.8816,-698.8796C308.3142,-690.1434 314.0992,-680.8404 319.7053,-671.8253\"/>\n",
       "<polygon fill=\"#000000\" stroke=\"#000000\" points=\"322.6993,-673.6383 325.0079,-663.2981 316.7549,-669.9418 322.6993,-673.6383\"/>\n",
       "<text text-anchor=\"middle\" x=\"330.6847\" y=\"-683.945\" font-family=\"Helvetica,sans-Serif\" font-size=\"14.00\" fill=\"#000000\">False</text>\n",
       "</g>\n",
       "<!-- 2 -->\n",
       "<g id=\"node3\" class=\"node\">\n",
       "<title>2</title>\n",
       "<path fill=\"#399de5\" stroke=\"#000000\" d=\"M133.5,-536.5C133.5,-536.5 74.5,-536.5 74.5,-536.5 68.5,-536.5 62.5,-530.5 62.5,-524.5 62.5,-524.5 62.5,-480.5 62.5,-480.5 62.5,-474.5 68.5,-468.5 74.5,-468.5 74.5,-468.5 133.5,-468.5 133.5,-468.5 139.5,-468.5 145.5,-474.5 145.5,-480.5 145.5,-480.5 145.5,-524.5 145.5,-524.5 145.5,-530.5 139.5,-536.5 133.5,-536.5\"/>\n",
       "<text text-anchor=\"start\" x=\"73\" y=\"-521.3\" font-family=\"Helvetica,sans-Serif\" font-size=\"14.00\" fill=\"#000000\">entropy = 0.0</text>\n",
       "<text text-anchor=\"start\" x=\"72.5\" y=\"-506.3\" font-family=\"Helvetica,sans-Serif\" font-size=\"14.00\" fill=\"#000000\">samples = 50</text>\n",
       "<text text-anchor=\"start\" x=\"70.5\" y=\"-491.3\" font-family=\"Helvetica,sans-Serif\" font-size=\"14.00\" fill=\"#000000\">value = [0, 50]</text>\n",
       "<text text-anchor=\"start\" x=\"83\" y=\"-476.3\" font-family=\"Helvetica,sans-Serif\" font-size=\"14.00\" fill=\"#000000\">class = a</text>\n",
       "</g>\n",
       "<!-- 1&#45;&gt;2 -->\n",
       "<g id=\"edge2\" class=\"edge\">\n",
       "<title>1&#45;&gt;2</title>\n",
       "<path fill=\"none\" stroke=\"#000000\" d=\"M168.3746,-579.8796C158.8607,-568.4436 148.5386,-556.0363 139.0035,-544.575\"/>\n",
       "<polygon fill=\"#000000\" stroke=\"#000000\" points=\"141.6339,-542.264 132.5477,-536.8149 136.2526,-546.7409 141.6339,-542.264\"/>\n",
       "</g>\n",
       "<!-- 3 -->\n",
       "<g id=\"node4\" class=\"node\">\n",
       "<title>3</title>\n",
       "<path fill=\"#e58139\" stroke=\"#000000\" d=\"M246,-536.5C246,-536.5 176,-536.5 176,-536.5 170,-536.5 164,-530.5 164,-524.5 164,-524.5 164,-480.5 164,-480.5 164,-474.5 170,-468.5 176,-468.5 176,-468.5 246,-468.5 246,-468.5 252,-468.5 258,-474.5 258,-480.5 258,-480.5 258,-524.5 258,-524.5 258,-530.5 252,-536.5 246,-536.5\"/>\n",
       "<text text-anchor=\"start\" x=\"174\" y=\"-521.3\" font-family=\"Helvetica,sans-Serif\" font-size=\"14.00\" fill=\"#000000\">entropy = 0.019</text>\n",
       "<text text-anchor=\"start\" x=\"173.5\" y=\"-506.3\" font-family=\"Helvetica,sans-Serif\" font-size=\"14.00\" fill=\"#000000\">samples = 1712</text>\n",
       "<text text-anchor=\"start\" x=\"172\" y=\"-491.3\" font-family=\"Helvetica,sans-Serif\" font-size=\"14.00\" fill=\"#000000\">value = [1709, 3]</text>\n",
       "<text text-anchor=\"start\" x=\"190\" y=\"-476.3\" font-family=\"Helvetica,sans-Serif\" font-size=\"14.00\" fill=\"#000000\">class = b</text>\n",
       "</g>\n",
       "<!-- 1&#45;&gt;3 -->\n",
       "<g id=\"edge3\" class=\"edge\">\n",
       "<title>1&#45;&gt;3</title>\n",
       "<path fill=\"none\" stroke=\"#000000\" d=\"M205.798,-579.8796C206.5151,-569.2134 207.2889,-557.7021 208.015,-546.9015\"/>\n",
       "<polygon fill=\"#000000\" stroke=\"#000000\" points=\"211.5144,-547.0272 208.6931,-536.8149 204.5301,-546.5576 211.5144,-547.0272\"/>\n",
       "</g>\n",
       "<!-- 5 -->\n",
       "<g id=\"node6\" class=\"node\">\n",
       "<title>5</title>\n",
       "<path fill=\"#4aa6e7\" stroke=\"#000000\" d=\"M385.5,-544C385.5,-544 302.5,-544 302.5,-544 296.5,-544 290.5,-538 290.5,-532 290.5,-532 290.5,-473 290.5,-473 290.5,-467 296.5,-461 302.5,-461 302.5,-461 385.5,-461 385.5,-461 391.5,-461 397.5,-467 397.5,-473 397.5,-473 397.5,-532 397.5,-532 397.5,-538 391.5,-544 385.5,-544\"/>\n",
       "<text text-anchor=\"start\" x=\"298.5\" y=\"-528.8\" font-family=\"Helvetica,sans-Serif\" font-size=\"14.00\" fill=\"#000000\">loan_amnt ≤ &#45;1.013</text>\n",
       "<text text-anchor=\"start\" x=\"307\" y=\"-513.8\" font-family=\"Helvetica,sans-Serif\" font-size=\"14.00\" fill=\"#000000\">entropy = 0.403</text>\n",
       "<text text-anchor=\"start\" x=\"306.5\" y=\"-498.8\" font-family=\"Helvetica,sans-Serif\" font-size=\"14.00\" fill=\"#000000\">samples = 1473</text>\n",
       "<text text-anchor=\"start\" x=\"299\" y=\"-483.8\" font-family=\"Helvetica,sans-Serif\" font-size=\"14.00\" fill=\"#000000\">value = [118, 1355]</text>\n",
       "<text text-anchor=\"start\" x=\"323\" y=\"-468.8\" font-family=\"Helvetica,sans-Serif\" font-size=\"14.00\" fill=\"#000000\">class = a</text>\n",
       "</g>\n",
       "<!-- 4&#45;&gt;5 -->\n",
       "<g id=\"edge5\" class=\"edge\">\n",
       "<title>4&#45;&gt;5</title>\n",
       "<path fill=\"none\" stroke=\"#000000\" d=\"M348.5517,-579.8796C348.0696,-571.6838 347.5582,-562.9891 347.0589,-554.5013\"/>\n",
       "<polygon fill=\"#000000\" stroke=\"#000000\" points=\"350.54,-554.0753 346.4587,-544.2981 343.5521,-554.4864 350.54,-554.0753\"/>\n",
       "</g>\n",
       "<!-- 16 -->\n",
       "<g id=\"node17\" class=\"node\">\n",
       "<title>16</title>\n",
       "<path fill=\"#76bbed\" stroke=\"#000000\" d=\"M631,-544C631,-544 553,-544 553,-544 547,-544 541,-538 541,-532 541,-532 541,-473 541,-473 541,-467 547,-461 553,-461 553,-461 631,-461 631,-461 637,-461 643,-467 643,-473 643,-473 643,-532 643,-532 643,-538 637,-544 631,-544\"/>\n",
       "<text text-anchor=\"start\" x=\"549\" y=\"-528.8\" font-family=\"Helvetica,sans-Serif\" font-size=\"14.00\" fill=\"#000000\">open_act_il ≤ 0.08</text>\n",
       "<text text-anchor=\"start\" x=\"555\" y=\"-513.8\" font-family=\"Helvetica,sans-Serif\" font-size=\"14.00\" fill=\"#000000\">entropy = 0.786</text>\n",
       "<text text-anchor=\"start\" x=\"557.5\" y=\"-498.8\" font-family=\"Helvetica,sans-Serif\" font-size=\"14.00\" fill=\"#000000\">samples = 789</text>\n",
       "<text text-anchor=\"start\" x=\"550\" y=\"-483.8\" font-family=\"Helvetica,sans-Serif\" font-size=\"14.00\" fill=\"#000000\">value = [185, 604]</text>\n",
       "<text text-anchor=\"start\" x=\"571\" y=\"-468.8\" font-family=\"Helvetica,sans-Serif\" font-size=\"14.00\" fill=\"#000000\">class = a</text>\n",
       "</g>\n",
       "<!-- 4&#45;&gt;16 -->\n",
       "<g id=\"edge16\" class=\"edge\">\n",
       "<title>4&#45;&gt;16</title>\n",
       "<path fill=\"none\" stroke=\"#000000\" d=\"M416.2181,-589.2969C452.1764,-571.5415 496.5198,-549.6458 531.6724,-532.2883\"/>\n",
       "<polygon fill=\"#000000\" stroke=\"#000000\" points=\"533.4467,-535.3157 540.8636,-527.7499 530.3475,-529.0391 533.4467,-535.3157\"/>\n",
       "</g>\n",
       "<!-- 6 -->\n",
       "<g id=\"node7\" class=\"node\">\n",
       "<title>6</title>\n",
       "<path fill=\"#7abdee\" stroke=\"#000000\" d=\"M210,-425C210,-425 104,-425 104,-425 98,-425 92,-419 92,-413 92,-413 92,-354 92,-354 92,-348 98,-342 104,-342 104,-342 210,-342 210,-342 216,-342 222,-348 222,-354 222,-354 222,-413 222,-413 222,-419 216,-425 210,-425\"/>\n",
       "<text text-anchor=\"start\" x=\"100\" y=\"-409.8\" font-family=\"Helvetica,sans-Serif\" font-size=\"14.00\" fill=\"#000000\">total_rec_prncp ≤ &#45;0.972</text>\n",
       "<text text-anchor=\"start\" x=\"120\" y=\"-394.8\" font-family=\"Helvetica,sans-Serif\" font-size=\"14.00\" fill=\"#000000\">entropy = 0.809</text>\n",
       "<text text-anchor=\"start\" x=\"122.5\" y=\"-379.8\" font-family=\"Helvetica,sans-Serif\" font-size=\"14.00\" fill=\"#000000\">samples = 153</text>\n",
       "<text text-anchor=\"start\" x=\"118\" y=\"-364.8\" font-family=\"Helvetica,sans-Serif\" font-size=\"14.00\" fill=\"#000000\">value = [38, 115]</text>\n",
       "<text text-anchor=\"start\" x=\"136\" y=\"-349.8\" font-family=\"Helvetica,sans-Serif\" font-size=\"14.00\" fill=\"#000000\">class = a</text>\n",
       "</g>\n",
       "<!-- 5&#45;&gt;6 -->\n",
       "<g id=\"edge6\" class=\"edge\">\n",
       "<title>5&#45;&gt;6</title>\n",
       "<path fill=\"none\" stroke=\"#000000\" d=\"M290.4133,-468.3994C271.8096,-456.5606 250.6105,-443.0703 230.6723,-430.3824\"/>\n",
       "<polygon fill=\"#000000\" stroke=\"#000000\" points=\"232.5316,-427.417 222.2158,-425.001 228.7734,-433.3226 232.5316,-427.417\"/>\n",
       "</g>\n",
       "<!-- 9 -->\n",
       "<g id=\"node10\" class=\"node\">\n",
       "<title>9</title>\n",
       "<path fill=\"#46a3e7\" stroke=\"#000000\" d=\"M388,-425C388,-425 300,-425 300,-425 294,-425 288,-419 288,-413 288,-413 288,-354 288,-354 288,-348 294,-342 300,-342 300,-342 388,-342 388,-342 394,-342 400,-348 400,-354 400,-354 400,-413 400,-413 400,-419 394,-425 388,-425\"/>\n",
       "<text text-anchor=\"start\" x=\"296\" y=\"-409.8\" font-family=\"Helvetica,sans-Serif\" font-size=\"14.00\" fill=\"#000000\">total_pymnt ≤ &#45;0.997</text>\n",
       "<text text-anchor=\"start\" x=\"310\" y=\"-394.8\" font-family=\"Helvetica,sans-Serif\" font-size=\"14.00\" fill=\"#000000\">entropy = 0.33</text>\n",
       "<text text-anchor=\"start\" x=\"306.5\" y=\"-379.8\" font-family=\"Helvetica,sans-Serif\" font-size=\"14.00\" fill=\"#000000\">samples = 1320</text>\n",
       "<text text-anchor=\"start\" x=\"302\" y=\"-364.8\" font-family=\"Helvetica,sans-Serif\" font-size=\"14.00\" fill=\"#000000\">value = [80, 1240]</text>\n",
       "<text text-anchor=\"start\" x=\"323\" y=\"-349.8\" font-family=\"Helvetica,sans-Serif\" font-size=\"14.00\" fill=\"#000000\">class = a</text>\n",
       "</g>\n",
       "<!-- 5&#45;&gt;9 -->\n",
       "<g id=\"edge9\" class=\"edge\">\n",
       "<title>5&#45;&gt;9</title>\n",
       "<path fill=\"none\" stroke=\"#000000\" d=\"M344,-460.8796C344,-452.6838 344,-443.9891 344,-435.5013\"/>\n",
       "<polygon fill=\"#000000\" stroke=\"#000000\" points=\"347.5001,-435.298 344,-425.2981 340.5001,-435.2981 347.5001,-435.298\"/>\n",
       "</g>\n",
       "<!-- 7 -->\n",
       "<g id=\"node8\" class=\"node\">\n",
       "<title>7</title>\n",
       "<path fill=\"#66b3eb\" stroke=\"#000000\" d=\"M82,-298.5C82,-298.5 12,-298.5 12,-298.5 6,-298.5 0,-292.5 0,-286.5 0,-286.5 0,-242.5 0,-242.5 0,-236.5 6,-230.5 12,-230.5 12,-230.5 82,-230.5 82,-230.5 88,-230.5 94,-236.5 94,-242.5 94,-242.5 94,-286.5 94,-286.5 94,-292.5 88,-298.5 82,-298.5\"/>\n",
       "<text text-anchor=\"start\" x=\"10\" y=\"-283.3\" font-family=\"Helvetica,sans-Serif\" font-size=\"14.00\" fill=\"#000000\">entropy = 0.692</text>\n",
       "<text text-anchor=\"start\" x=\"12.5\" y=\"-268.3\" font-family=\"Helvetica,sans-Serif\" font-size=\"14.00\" fill=\"#000000\">samples = 140</text>\n",
       "<text text-anchor=\"start\" x=\"8\" y=\"-253.3\" font-family=\"Helvetica,sans-Serif\" font-size=\"14.00\" fill=\"#000000\">value = [26, 114]</text>\n",
       "<text text-anchor=\"start\" x=\"26\" y=\"-238.3\" font-family=\"Helvetica,sans-Serif\" font-size=\"14.00\" fill=\"#000000\">class = a</text>\n",
       "</g>\n",
       "<!-- 6&#45;&gt;7 -->\n",
       "<g id=\"edge7\" class=\"edge\">\n",
       "<title>6&#45;&gt;7</title>\n",
       "<path fill=\"none\" stroke=\"#000000\" d=\"M118.5273,-341.8796C107.8547,-330.3337 96.2667,-317.7976 85.5875,-306.2446\"/>\n",
       "<polygon fill=\"#000000\" stroke=\"#000000\" points=\"88.0778,-303.7825 78.7197,-298.8149 82.9375,-308.534 88.0778,-303.7825\"/>\n",
       "</g>\n",
       "<!-- 8 -->\n",
       "<g id=\"node9\" class=\"node\">\n",
       "<title>8</title>\n",
       "<path fill=\"#e78c49\" stroke=\"#000000\" d=\"M190,-298.5C190,-298.5 124,-298.5 124,-298.5 118,-298.5 112,-292.5 112,-286.5 112,-286.5 112,-242.5 112,-242.5 112,-236.5 118,-230.5 124,-230.5 124,-230.5 190,-230.5 190,-230.5 196,-230.5 202,-236.5 202,-242.5 202,-242.5 202,-286.5 202,-286.5 202,-292.5 196,-298.5 190,-298.5\"/>\n",
       "<text text-anchor=\"start\" x=\"120\" y=\"-283.3\" font-family=\"Helvetica,sans-Serif\" font-size=\"14.00\" fill=\"#000000\">entropy = 0.391</text>\n",
       "<text text-anchor=\"start\" x=\"125.5\" y=\"-268.3\" font-family=\"Helvetica,sans-Serif\" font-size=\"14.00\" fill=\"#000000\">samples = 13</text>\n",
       "<text text-anchor=\"start\" x=\"123.5\" y=\"-253.3\" font-family=\"Helvetica,sans-Serif\" font-size=\"14.00\" fill=\"#000000\">value = [12, 1]</text>\n",
       "<text text-anchor=\"start\" x=\"136\" y=\"-238.3\" font-family=\"Helvetica,sans-Serif\" font-size=\"14.00\" fill=\"#000000\">class = b</text>\n",
       "</g>\n",
       "<!-- 6&#45;&gt;8 -->\n",
       "<g id=\"edge8\" class=\"edge\">\n",
       "<title>6&#45;&gt;8</title>\n",
       "<path fill=\"none\" stroke=\"#000000\" d=\"M157,-341.8796C157,-331.2134 157,-319.7021 157,-308.9015\"/>\n",
       "<polygon fill=\"#000000\" stroke=\"#000000\" points=\"160.5001,-308.8149 157,-298.8149 153.5001,-308.815 160.5001,-308.8149\"/>\n",
       "</g>\n",
       "<!-- 10 -->\n",
       "<g id=\"node11\" class=\"node\">\n",
       "<title>10</title>\n",
       "<path fill=\"#399de5\" stroke=\"#000000\" d=\"M297.5,-298.5C297.5,-298.5 232.5,-298.5 232.5,-298.5 226.5,-298.5 220.5,-292.5 220.5,-286.5 220.5,-286.5 220.5,-242.5 220.5,-242.5 220.5,-236.5 226.5,-230.5 232.5,-230.5 232.5,-230.5 297.5,-230.5 297.5,-230.5 303.5,-230.5 309.5,-236.5 309.5,-242.5 309.5,-242.5 309.5,-286.5 309.5,-286.5 309.5,-292.5 303.5,-298.5 297.5,-298.5\"/>\n",
       "<text text-anchor=\"start\" x=\"234\" y=\"-283.3\" font-family=\"Helvetica,sans-Serif\" font-size=\"14.00\" fill=\"#000000\">entropy = 0.0</text>\n",
       "<text text-anchor=\"start\" x=\"230.5\" y=\"-268.3\" font-family=\"Helvetica,sans-Serif\" font-size=\"14.00\" fill=\"#000000\">samples = 297</text>\n",
       "<text text-anchor=\"start\" x=\"228.5\" y=\"-253.3\" font-family=\"Helvetica,sans-Serif\" font-size=\"14.00\" fill=\"#000000\">value = [0, 297]</text>\n",
       "<text text-anchor=\"start\" x=\"244\" y=\"-238.3\" font-family=\"Helvetica,sans-Serif\" font-size=\"14.00\" fill=\"#000000\">class = a</text>\n",
       "</g>\n",
       "<!-- 9&#45;&gt;10 -->\n",
       "<g id=\"edge10\" class=\"edge\">\n",
       "<title>9&#45;&gt;10</title>\n",
       "<path fill=\"none\" stroke=\"#000000\" d=\"M316.3696,-341.8796C308.9237,-330.6636 300.8575,-318.5131 293.3718,-307.2372\"/>\n",
       "<polygon fill=\"#000000\" stroke=\"#000000\" points=\"296.2273,-305.2104 287.7805,-298.8149 290.3954,-309.082 296.2273,-305.2104\"/>\n",
       "</g>\n",
       "<!-- 11 -->\n",
       "<g id=\"node12\" class=\"node\">\n",
       "<title>11</title>\n",
       "<path fill=\"#4aa5e7\" stroke=\"#000000\" d=\"M444,-306C444,-306 340,-306 340,-306 334,-306 328,-300 328,-294 328,-294 328,-235 328,-235 328,-229 334,-223 340,-223 340,-223 444,-223 444,-223 450,-223 456,-229 456,-235 456,-235 456,-294 456,-294 456,-300 450,-306 444,-306\"/>\n",
       "<text text-anchor=\"start\" x=\"336\" y=\"-290.8\" font-family=\"Helvetica,sans-Serif\" font-size=\"14.00\" fill=\"#000000\">inq_last_6mths ≤ &#45;0.727</text>\n",
       "<text text-anchor=\"start\" x=\"355\" y=\"-275.8\" font-family=\"Helvetica,sans-Serif\" font-size=\"14.00\" fill=\"#000000\">entropy = 0.396</text>\n",
       "<text text-anchor=\"start\" x=\"354.5\" y=\"-260.8\" font-family=\"Helvetica,sans-Serif\" font-size=\"14.00\" fill=\"#000000\">samples = 1023</text>\n",
       "<text text-anchor=\"start\" x=\"353\" y=\"-245.8\" font-family=\"Helvetica,sans-Serif\" font-size=\"14.00\" fill=\"#000000\">value = [80, 943]</text>\n",
       "<text text-anchor=\"start\" x=\"371\" y=\"-230.8\" font-family=\"Helvetica,sans-Serif\" font-size=\"14.00\" fill=\"#000000\">class = a</text>\n",
       "</g>\n",
       "<!-- 9&#45;&gt;11 -->\n",
       "<g id=\"edge11\" class=\"edge\">\n",
       "<title>9&#45;&gt;11</title>\n",
       "<path fill=\"none\" stroke=\"#000000\" d=\"M360.7881,-341.8796C364.2029,-333.4136 367.8325,-324.4153 371.363,-315.6626\"/>\n",
       "<polygon fill=\"#000000\" stroke=\"#000000\" points=\"374.6453,-316.8813 375.1403,-306.2981 368.1536,-314.2628 374.6453,-316.8813\"/>\n",
       "</g>\n",
       "<!-- 12 -->\n",
       "<g id=\"node13\" class=\"node\">\n",
       "<title>12</title>\n",
       "<path fill=\"#5aade9\" stroke=\"#000000\" d=\"M303,-179.5C303,-179.5 233,-179.5 233,-179.5 227,-179.5 221,-173.5 221,-167.5 221,-167.5 221,-123.5 221,-123.5 221,-117.5 227,-111.5 233,-111.5 233,-111.5 303,-111.5 303,-111.5 309,-111.5 315,-117.5 315,-123.5 315,-123.5 315,-167.5 315,-167.5 315,-173.5 309,-179.5 303,-179.5\"/>\n",
       "<text text-anchor=\"start\" x=\"231\" y=\"-164.3\" font-family=\"Helvetica,sans-Serif\" font-size=\"14.00\" fill=\"#000000\">entropy = 0.589</text>\n",
       "<text text-anchor=\"start\" x=\"233.5\" y=\"-149.3\" font-family=\"Helvetica,sans-Serif\" font-size=\"14.00\" fill=\"#000000\">samples = 360</text>\n",
       "<text text-anchor=\"start\" x=\"229\" y=\"-134.3\" font-family=\"Helvetica,sans-Serif\" font-size=\"14.00\" fill=\"#000000\">value = [51, 309]</text>\n",
       "<text text-anchor=\"start\" x=\"247\" y=\"-119.3\" font-family=\"Helvetica,sans-Serif\" font-size=\"14.00\" fill=\"#000000\">class = a</text>\n",
       "</g>\n",
       "<!-- 11&#45;&gt;12 -->\n",
       "<g id=\"edge12\" class=\"edge\">\n",
       "<title>11&#45;&gt;12</title>\n",
       "<path fill=\"none\" stroke=\"#000000\" d=\"M348.6308,-222.8796C336.4852,-211.2237 323.2881,-198.5587 311.1549,-186.9148\"/>\n",
       "<polygon fill=\"#000000\" stroke=\"#000000\" points=\"313.3953,-184.2138 303.7567,-179.8149 308.5484,-189.2643 313.3953,-184.2138\"/>\n",
       "</g>\n",
       "<!-- 13 -->\n",
       "<g id=\"node14\" class=\"node\">\n",
       "<title>13</title>\n",
       "<path fill=\"#42a1e6\" stroke=\"#000000\" d=\"M446.5,-187C446.5,-187 345.5,-187 345.5,-187 339.5,-187 333.5,-181 333.5,-175 333.5,-175 333.5,-116 333.5,-116 333.5,-110 339.5,-104 345.5,-104 345.5,-104 446.5,-104 446.5,-104 452.5,-104 458.5,-110 458.5,-116 458.5,-116 458.5,-175 458.5,-175 458.5,-181 452.5,-187 446.5,-187\"/>\n",
       "<text text-anchor=\"start\" x=\"341.5\" y=\"-171.8\" font-family=\"Helvetica,sans-Serif\" font-size=\"14.00\" fill=\"#000000\">inq_last_6mths ≤ 0.437</text>\n",
       "<text text-anchor=\"start\" x=\"359\" y=\"-156.8\" font-family=\"Helvetica,sans-Serif\" font-size=\"14.00\" fill=\"#000000\">entropy = 0.259</text>\n",
       "<text text-anchor=\"start\" x=\"361.5\" y=\"-141.8\" font-family=\"Helvetica,sans-Serif\" font-size=\"14.00\" fill=\"#000000\">samples = 663</text>\n",
       "<text text-anchor=\"start\" x=\"357\" y=\"-126.8\" font-family=\"Helvetica,sans-Serif\" font-size=\"14.00\" fill=\"#000000\">value = [29, 634]</text>\n",
       "<text text-anchor=\"start\" x=\"375\" y=\"-111.8\" font-family=\"Helvetica,sans-Serif\" font-size=\"14.00\" fill=\"#000000\">class = a</text>\n",
       "</g>\n",
       "<!-- 11&#45;&gt;13 -->\n",
       "<g id=\"edge13\" class=\"edge\">\n",
       "<title>11&#45;&gt;13</title>\n",
       "<path fill=\"none\" stroke=\"#000000\" d=\"M393.399,-222.8796C393.6745,-214.6838 393.9668,-205.9891 394.2521,-197.5013\"/>\n",
       "<polygon fill=\"#000000\" stroke=\"#000000\" points=\"397.757,-197.41 394.595,-187.2981 390.761,-197.1748 397.757,-197.41\"/>\n",
       "</g>\n",
       "<!-- 14 -->\n",
       "<g id=\"node15\" class=\"node\">\n",
       "<title>14</title>\n",
       "<path fill=\"#399de5\" stroke=\"#000000\" d=\"M373.5,-68C373.5,-68 308.5,-68 308.5,-68 302.5,-68 296.5,-62 296.5,-56 296.5,-56 296.5,-12 296.5,-12 296.5,-6 302.5,0 308.5,0 308.5,0 373.5,0 373.5,0 379.5,0 385.5,-6 385.5,-12 385.5,-12 385.5,-56 385.5,-56 385.5,-62 379.5,-68 373.5,-68\"/>\n",
       "<text text-anchor=\"start\" x=\"310\" y=\"-52.8\" font-family=\"Helvetica,sans-Serif\" font-size=\"14.00\" fill=\"#000000\">entropy = 0.0</text>\n",
       "<text text-anchor=\"start\" x=\"306.5\" y=\"-37.8\" font-family=\"Helvetica,sans-Serif\" font-size=\"14.00\" fill=\"#000000\">samples = 267</text>\n",
       "<text text-anchor=\"start\" x=\"304.5\" y=\"-22.8\" font-family=\"Helvetica,sans-Serif\" font-size=\"14.00\" fill=\"#000000\">value = [0, 267]</text>\n",
       "<text text-anchor=\"start\" x=\"320\" y=\"-7.8\" font-family=\"Helvetica,sans-Serif\" font-size=\"14.00\" fill=\"#000000\">class = a</text>\n",
       "</g>\n",
       "<!-- 13&#45;&gt;14 -->\n",
       "<g id=\"edge14\" class=\"edge\">\n",
       "<title>13&#45;&gt;14</title>\n",
       "<path fill=\"none\" stroke=\"#000000\" d=\"M375.52,-103.9815C371.2585,-95.3423 366.756,-86.2144 362.4603,-77.5059\"/>\n",
       "<polygon fill=\"#000000\" stroke=\"#000000\" points=\"365.4641,-75.6836 357.9014,-68.2637 359.1863,-78.7803 365.4641,-75.6836\"/>\n",
       "</g>\n",
       "<!-- 15 -->\n",
       "<g id=\"node16\" class=\"node\">\n",
       "<title>15</title>\n",
       "<path fill=\"#49a5e7\" stroke=\"#000000\" d=\"M486,-68C486,-68 416,-68 416,-68 410,-68 404,-62 404,-56 404,-56 404,-12 404,-12 404,-6 410,0 416,0 416,0 486,0 486,0 492,0 498,-6 498,-12 498,-12 498,-56 498,-56 498,-62 492,-68 486,-68\"/>\n",
       "<text text-anchor=\"start\" x=\"414\" y=\"-52.8\" font-family=\"Helvetica,sans-Serif\" font-size=\"14.00\" fill=\"#000000\">entropy = 0.378</text>\n",
       "<text text-anchor=\"start\" x=\"416.5\" y=\"-37.8\" font-family=\"Helvetica,sans-Serif\" font-size=\"14.00\" fill=\"#000000\">samples = 396</text>\n",
       "<text text-anchor=\"start\" x=\"412\" y=\"-22.8\" font-family=\"Helvetica,sans-Serif\" font-size=\"14.00\" fill=\"#000000\">value = [29, 367]</text>\n",
       "<text text-anchor=\"start\" x=\"430\" y=\"-7.8\" font-family=\"Helvetica,sans-Serif\" font-size=\"14.00\" fill=\"#000000\">class = a</text>\n",
       "</g>\n",
       "<!-- 13&#45;&gt;15 -->\n",
       "<g id=\"edge15\" class=\"edge\">\n",
       "<title>13&#45;&gt;15</title>\n",
       "<path fill=\"none\" stroke=\"#000000\" d=\"M416.48,-103.9815C420.7415,-95.3423 425.244,-86.2144 429.5397,-77.5059\"/>\n",
       "<polygon fill=\"#000000\" stroke=\"#000000\" points=\"432.8137,-78.7803 434.0986,-68.2637 426.5359,-75.6836 432.8137,-78.7803\"/>\n",
       "</g>\n",
       "<!-- 17 -->\n",
       "<g id=\"node18\" class=\"node\">\n",
       "<title>17</title>\n",
       "<path fill=\"#61b1ea\" stroke=\"#000000\" d=\"M636,-425C636,-425 548,-425 548,-425 542,-425 536,-419 536,-413 536,-413 536,-354 536,-354 536,-348 542,-342 548,-342 548,-342 636,-342 636,-342 642,-342 648,-348 648,-354 648,-354 648,-413 648,-413 648,-419 642,-425 636,-425\"/>\n",
       "<text text-anchor=\"start\" x=\"544\" y=\"-409.8\" font-family=\"Helvetica,sans-Serif\" font-size=\"14.00\" fill=\"#000000\">open_act_il ≤ &#45;0.258</text>\n",
       "<text text-anchor=\"start\" x=\"555\" y=\"-394.8\" font-family=\"Helvetica,sans-Serif\" font-size=\"14.00\" fill=\"#000000\">entropy = 0.651</text>\n",
       "<text text-anchor=\"start\" x=\"557.5\" y=\"-379.8\" font-family=\"Helvetica,sans-Serif\" font-size=\"14.00\" fill=\"#000000\">samples = 538</text>\n",
       "<text text-anchor=\"start\" x=\"553\" y=\"-364.8\" font-family=\"Helvetica,sans-Serif\" font-size=\"14.00\" fill=\"#000000\">value = [90, 448]</text>\n",
       "<text text-anchor=\"start\" x=\"571\" y=\"-349.8\" font-family=\"Helvetica,sans-Serif\" font-size=\"14.00\" fill=\"#000000\">class = a</text>\n",
       "</g>\n",
       "<!-- 16&#45;&gt;17 -->\n",
       "<g id=\"edge17\" class=\"edge\">\n",
       "<title>16&#45;&gt;17</title>\n",
       "<path fill=\"none\" stroke=\"#000000\" d=\"M592,-460.8796C592,-452.6838 592,-443.9891 592,-435.5013\"/>\n",
       "<polygon fill=\"#000000\" stroke=\"#000000\" points=\"595.5001,-435.298 592,-425.2981 588.5001,-435.2981 595.5001,-435.298\"/>\n",
       "</g>\n",
       "<!-- 22 -->\n",
       "<g id=\"node23\" class=\"node\">\n",
       "<title>22</title>\n",
       "<path fill=\"#b2d9f5\" stroke=\"#000000\" d=\"M806,-425C806,-425 732,-425 732,-425 726,-425 720,-419 720,-413 720,-413 720,-354 720,-354 720,-348 726,-342 732,-342 732,-342 806,-342 806,-342 812,-342 818,-348 818,-354 818,-354 818,-413 818,-413 818,-419 812,-425 806,-425\"/>\n",
       "<text text-anchor=\"start\" x=\"728\" y=\"-409.8\" font-family=\"Helvetica,sans-Serif\" font-size=\"14.00\" fill=\"#000000\">mort_acc ≤ 0.602</text>\n",
       "<text text-anchor=\"start\" x=\"732\" y=\"-394.8\" font-family=\"Helvetica,sans-Serif\" font-size=\"14.00\" fill=\"#000000\">entropy = 0.957</text>\n",
       "<text text-anchor=\"start\" x=\"734.5\" y=\"-379.8\" font-family=\"Helvetica,sans-Serif\" font-size=\"14.00\" fill=\"#000000\">samples = 251</text>\n",
       "<text text-anchor=\"start\" x=\"730\" y=\"-364.8\" font-family=\"Helvetica,sans-Serif\" font-size=\"14.00\" fill=\"#000000\">value = [95, 156]</text>\n",
       "<text text-anchor=\"start\" x=\"748\" y=\"-349.8\" font-family=\"Helvetica,sans-Serif\" font-size=\"14.00\" fill=\"#000000\">class = a</text>\n",
       "</g>\n",
       "<!-- 16&#45;&gt;22 -->\n",
       "<g id=\"edge22\" class=\"edge\">\n",
       "<title>16&#45;&gt;22</title>\n",
       "<path fill=\"none\" stroke=\"#000000\" d=\"M643.1957,-468.0803C664.4675,-453.7789 689.2587,-437.1114 711.1827,-422.3715\"/>\n",
       "<polygon fill=\"#000000\" stroke=\"#000000\" points=\"713.4011,-425.0976 719.7471,-416.6135 709.4954,-419.2884 713.4011,-425.0976\"/>\n",
       "</g>\n",
       "<!-- 18 -->\n",
       "<g id=\"node19\" class=\"node\">\n",
       "<title>18</title>\n",
       "<path fill=\"#6cb6ec\" stroke=\"#000000\" d=\"M590,-306C590,-306 486,-306 486,-306 480,-306 474,-300 474,-294 474,-294 474,-235 474,-235 474,-229 480,-223 486,-223 486,-223 590,-223 590,-223 596,-223 602,-229 602,-235 602,-235 602,-294 602,-294 602,-300 596,-306 590,-306\"/>\n",
       "<text text-anchor=\"start\" x=\"482\" y=\"-290.8\" font-family=\"Helvetica,sans-Serif\" font-size=\"14.00\" fill=\"#000000\">num_actv_bc_tl ≤ 0.794</text>\n",
       "<text text-anchor=\"start\" x=\"501\" y=\"-275.8\" font-family=\"Helvetica,sans-Serif\" font-size=\"14.00\" fill=\"#000000\">entropy = 0.731</text>\n",
       "<text text-anchor=\"start\" x=\"503.5\" y=\"-260.8\" font-family=\"Helvetica,sans-Serif\" font-size=\"14.00\" fill=\"#000000\">samples = 440</text>\n",
       "<text text-anchor=\"start\" x=\"499\" y=\"-245.8\" font-family=\"Helvetica,sans-Serif\" font-size=\"14.00\" fill=\"#000000\">value = [90, 350]</text>\n",
       "<text text-anchor=\"start\" x=\"517\" y=\"-230.8\" font-family=\"Helvetica,sans-Serif\" font-size=\"14.00\" fill=\"#000000\">class = a</text>\n",
       "</g>\n",
       "<!-- 17&#45;&gt;18 -->\n",
       "<g id=\"edge18\" class=\"edge\">\n",
       "<title>17&#45;&gt;18</title>\n",
       "<path fill=\"none\" stroke=\"#000000\" d=\"M573.1134,-341.8796C569.2717,-333.4136 565.1885,-324.4153 561.2166,-315.6626\"/>\n",
       "<polygon fill=\"#000000\" stroke=\"#000000\" points=\"564.2867,-313.9581 556.9672,-306.2981 557.9123,-316.8507 564.2867,-313.9581\"/>\n",
       "</g>\n",
       "<!-- 21 -->\n",
       "<g id=\"node22\" class=\"node\">\n",
       "<title>21</title>\n",
       "<path fill=\"#399de5\" stroke=\"#000000\" d=\"M691.5,-298.5C691.5,-298.5 632.5,-298.5 632.5,-298.5 626.5,-298.5 620.5,-292.5 620.5,-286.5 620.5,-286.5 620.5,-242.5 620.5,-242.5 620.5,-236.5 626.5,-230.5 632.5,-230.5 632.5,-230.5 691.5,-230.5 691.5,-230.5 697.5,-230.5 703.5,-236.5 703.5,-242.5 703.5,-242.5 703.5,-286.5 703.5,-286.5 703.5,-292.5 697.5,-298.5 691.5,-298.5\"/>\n",
       "<text text-anchor=\"start\" x=\"631\" y=\"-283.3\" font-family=\"Helvetica,sans-Serif\" font-size=\"14.00\" fill=\"#000000\">entropy = 0.0</text>\n",
       "<text text-anchor=\"start\" x=\"630.5\" y=\"-268.3\" font-family=\"Helvetica,sans-Serif\" font-size=\"14.00\" fill=\"#000000\">samples = 98</text>\n",
       "<text text-anchor=\"start\" x=\"628.5\" y=\"-253.3\" font-family=\"Helvetica,sans-Serif\" font-size=\"14.00\" fill=\"#000000\">value = [0, 98]</text>\n",
       "<text text-anchor=\"start\" x=\"641\" y=\"-238.3\" font-family=\"Helvetica,sans-Serif\" font-size=\"14.00\" fill=\"#000000\">class = a</text>\n",
       "</g>\n",
       "<!-- 17&#45;&gt;21 -->\n",
       "<g id=\"edge21\" class=\"edge\">\n",
       "<title>17&#45;&gt;21</title>\n",
       "<path fill=\"none\" stroke=\"#000000\" d=\"M616.4826,-341.8796C623.0156,-330.7735 630.0875,-318.7513 636.6652,-307.5691\"/>\n",
       "<polygon fill=\"#000000\" stroke=\"#000000\" points=\"639.7613,-309.2089 641.8147,-298.8149 633.7277,-305.6597 639.7613,-309.2089\"/>\n",
       "</g>\n",
       "<!-- 19 -->\n",
       "<g id=\"node20\" class=\"node\">\n",
       "<title>19</title>\n",
       "<path fill=\"#5eafea\" stroke=\"#000000\" d=\"M568,-179.5C568,-179.5 498,-179.5 498,-179.5 492,-179.5 486,-173.5 486,-167.5 486,-167.5 486,-123.5 486,-123.5 486,-117.5 492,-111.5 498,-111.5 498,-111.5 568,-111.5 568,-111.5 574,-111.5 580,-117.5 580,-123.5 580,-123.5 580,-167.5 580,-167.5 580,-173.5 574,-179.5 568,-179.5\"/>\n",
       "<text text-anchor=\"start\" x=\"496\" y=\"-164.3\" font-family=\"Helvetica,sans-Serif\" font-size=\"14.00\" fill=\"#000000\">entropy = 0.626</text>\n",
       "<text text-anchor=\"start\" x=\"498.5\" y=\"-149.3\" font-family=\"Helvetica,sans-Serif\" font-size=\"14.00\" fill=\"#000000\">samples = 383</text>\n",
       "<text text-anchor=\"start\" x=\"494\" y=\"-134.3\" font-family=\"Helvetica,sans-Serif\" font-size=\"14.00\" fill=\"#000000\">value = [60, 323]</text>\n",
       "<text text-anchor=\"start\" x=\"512\" y=\"-119.3\" font-family=\"Helvetica,sans-Serif\" font-size=\"14.00\" fill=\"#000000\">class = a</text>\n",
       "</g>\n",
       "<!-- 18&#45;&gt;19 -->\n",
       "<g id=\"edge19\" class=\"edge\">\n",
       "<title>18&#45;&gt;19</title>\n",
       "<path fill=\"none\" stroke=\"#000000\" d=\"M536.2512,-222.8796C535.8031,-212.2134 535.3194,-200.7021 534.8656,-189.9015\"/>\n",
       "<polygon fill=\"#000000\" stroke=\"#000000\" points=\"538.3586,-189.6592 534.4418,-179.8149 531.3648,-189.9531 538.3586,-189.6592\"/>\n",
       "</g>\n",
       "<!-- 20 -->\n",
       "<g id=\"node21\" class=\"node\">\n",
       "<title>20</title>\n",
       "<path fill=\"#fcf2eb\" stroke=\"#000000\" d=\"M676,-179.5C676,-179.5 610,-179.5 610,-179.5 604,-179.5 598,-173.5 598,-167.5 598,-167.5 598,-123.5 598,-123.5 598,-117.5 604,-111.5 610,-111.5 610,-111.5 676,-111.5 676,-111.5 682,-111.5 688,-117.5 688,-123.5 688,-123.5 688,-167.5 688,-167.5 688,-173.5 682,-179.5 676,-179.5\"/>\n",
       "<text text-anchor=\"start\" x=\"606\" y=\"-164.3\" font-family=\"Helvetica,sans-Serif\" font-size=\"14.00\" fill=\"#000000\">entropy = 0.998</text>\n",
       "<text text-anchor=\"start\" x=\"611.5\" y=\"-149.3\" font-family=\"Helvetica,sans-Serif\" font-size=\"14.00\" fill=\"#000000\">samples = 57</text>\n",
       "<text text-anchor=\"start\" x=\"606.5\" y=\"-134.3\" font-family=\"Helvetica,sans-Serif\" font-size=\"14.00\" fill=\"#000000\">value = [30, 27]</text>\n",
       "<text text-anchor=\"start\" x=\"622\" y=\"-119.3\" font-family=\"Helvetica,sans-Serif\" font-size=\"14.00\" fill=\"#000000\">class = b</text>\n",
       "</g>\n",
       "<!-- 18&#45;&gt;20 -->\n",
       "<g id=\"edge20\" class=\"edge\">\n",
       "<title>18&#45;&gt;20</title>\n",
       "<path fill=\"none\" stroke=\"#000000\" d=\"M574.7239,-222.8796C584.8144,-211.4436 595.7621,-199.0363 605.875,-187.575\"/>\n",
       "<polygon fill=\"#000000\" stroke=\"#000000\" points=\"608.7303,-189.629 612.7221,-179.8149 603.4814,-184.9977 608.7303,-189.629\"/>\n",
       "</g>\n",
       "<!-- 23 -->\n",
       "<g id=\"node24\" class=\"node\">\n",
       "<title>23</title>\n",
       "<path fill=\"#88c4ef\" stroke=\"#000000\" d=\"M804,-298.5C804,-298.5 734,-298.5 734,-298.5 728,-298.5 722,-292.5 722,-286.5 722,-286.5 722,-242.5 722,-242.5 722,-236.5 728,-230.5 734,-230.5 734,-230.5 804,-230.5 804,-230.5 810,-230.5 816,-236.5 816,-242.5 816,-242.5 816,-286.5 816,-286.5 816,-292.5 810,-298.5 804,-298.5\"/>\n",
       "<text text-anchor=\"start\" x=\"732\" y=\"-283.3\" font-family=\"Helvetica,sans-Serif\" font-size=\"14.00\" fill=\"#000000\">entropy = 0.862</text>\n",
       "<text text-anchor=\"start\" x=\"734.5\" y=\"-268.3\" font-family=\"Helvetica,sans-Serif\" font-size=\"14.00\" fill=\"#000000\">samples = 193</text>\n",
       "<text text-anchor=\"start\" x=\"730\" y=\"-253.3\" font-family=\"Helvetica,sans-Serif\" font-size=\"14.00\" fill=\"#000000\">value = [55, 138]</text>\n",
       "<text text-anchor=\"start\" x=\"748\" y=\"-238.3\" font-family=\"Helvetica,sans-Serif\" font-size=\"14.00\" fill=\"#000000\">class = a</text>\n",
       "</g>\n",
       "<!-- 22&#45;&gt;23 -->\n",
       "<g id=\"edge23\" class=\"edge\">\n",
       "<title>22&#45;&gt;23</title>\n",
       "<path fill=\"none\" stroke=\"#000000\" d=\"M769,-341.8796C769,-331.2134 769,-319.7021 769,-308.9015\"/>\n",
       "<polygon fill=\"#000000\" stroke=\"#000000\" points=\"772.5001,-308.8149 769,-298.8149 765.5001,-308.815 772.5001,-308.8149\"/>\n",
       "</g>\n",
       "<!-- 24 -->\n",
       "<g id=\"node25\" class=\"node\">\n",
       "<title>24</title>\n",
       "<path fill=\"#f1ba92\" stroke=\"#000000\" d=\"M912,-298.5C912,-298.5 846,-298.5 846,-298.5 840,-298.5 834,-292.5 834,-286.5 834,-286.5 834,-242.5 834,-242.5 834,-236.5 840,-230.5 846,-230.5 846,-230.5 912,-230.5 912,-230.5 918,-230.5 924,-236.5 924,-242.5 924,-242.5 924,-286.5 924,-286.5 924,-292.5 918,-298.5 912,-298.5\"/>\n",
       "<text text-anchor=\"start\" x=\"842\" y=\"-283.3\" font-family=\"Helvetica,sans-Serif\" font-size=\"14.00\" fill=\"#000000\">entropy = 0.894</text>\n",
       "<text text-anchor=\"start\" x=\"847.5\" y=\"-268.3\" font-family=\"Helvetica,sans-Serif\" font-size=\"14.00\" fill=\"#000000\">samples = 58</text>\n",
       "<text text-anchor=\"start\" x=\"842.5\" y=\"-253.3\" font-family=\"Helvetica,sans-Serif\" font-size=\"14.00\" fill=\"#000000\">value = [40, 18]</text>\n",
       "<text text-anchor=\"start\" x=\"858\" y=\"-238.3\" font-family=\"Helvetica,sans-Serif\" font-size=\"14.00\" fill=\"#000000\">class = b</text>\n",
       "</g>\n",
       "<!-- 22&#45;&gt;24 -->\n",
       "<g id=\"edge24\" class=\"edge\">\n",
       "<title>22&#45;&gt;24</title>\n",
       "<path fill=\"none\" stroke=\"#000000\" d=\"M807.4727,-341.8796C818.1453,-330.3337 829.7333,-317.7976 840.4125,-306.2446\"/>\n",
       "<polygon fill=\"#000000\" stroke=\"#000000\" points=\"843.0625,-308.534 847.2803,-298.8149 837.9222,-303.7825 843.0625,-308.534\"/>\n",
       "</g>\n",
       "</g>\n",
       "</svg>\n"
      ],
      "text/plain": [
       "<graphviz.files.Source at 0x147a10748>"
      ]
     },
     "execution_count": 31,
     "metadata": {},
     "output_type": "execute_result"
    }
   ],
   "source": [
    "dot_data = export_graphviz(tree, out_file=None, feature_names=features.tolist(), class_names=output, \n",
    "                           filled=True, rounded=True, special_characters=True)  \n",
    "graph = graphviz.Source(dot_data)  \n",
    "graph"
   ]
  },
  {
   "cell_type": "markdown",
   "metadata": {},
   "source": [
    "##### Evaluation of Decision Tree Classifier\n",
    "- Cross Validation\n",
    "- Accuraucy, MCC, Confusion Matrix, AUC"
   ]
  },
  {
   "cell_type": "markdown",
   "metadata": {},
   "source": [
    "**Cross Validation**"
   ]
  },
  {
   "cell_type": "code",
   "execution_count": 32,
   "metadata": {},
   "outputs": [],
   "source": [
    "# Initialize Decision Tree Classifier model\n",
    "tree = DecisionTreeClassifier(criterion='entropy', # Entropy and information gain\n",
    "                              max_depth=7, # Stopping condition: maximum tree depth\n",
    "                              min_samples_split=30, # Stopping condition: Minimum number of samples required to split an internal node\n",
    "                              min_samples_leaf=10, # Stopping condition: Minimum number of samples required to be at a leaf node\n",
    "                              min_impurity_decrease=0.005, # Stopping condition: A node will be split if this split induces a decrease of the impurity greater than or equal to this value\n",
    "                              random_state=1234 # Set seed to 1234\n",
    "                             )"
   ]
  },
  {
   "cell_type": "code",
   "execution_count": 33,
   "metadata": {
    "scrolled": true
   },
   "outputs": [
    {
     "data": {
      "image/png": "[encoded data removed]",
      "text/plain": [
       "<Figure size 864x288 with 2 Axes>"
      ]
     },
     "metadata": {
      "needs_background": "light"
     },
     "output_type": "display_data"
    }
   ],
   "source": [
    "results = cross_validation_smote(5, X_train_scaled.values, y_train.values, tree)\n"
   ]
  },
  {
   "cell_type": "code",
   "execution_count": 34,
   "metadata": {},
   "outputs": [
    {
     "name": "stdout",
     "output_type": "stream",
     "text": [
      "Cross Validation Results\n",
      "accuracy: 0.8775663428865925\n",
      "recall_score: 0.9105604921394395\n",
      "precision: 0.5745055052328066\n",
      "f1_score: 0.7029482242950678\n",
      "roc_auc_score: 0.890921518615181\n",
      "mcc: 0.6589197545914296\n"
     ]
    }
   ],
   "source": [
    "print(\"Cross Validation Results\")\n",
    "\n",
    "for key in results:\n",
    "    print(\"{0}: {1}\".format(key, np.mean(results[key])))\n"
   ]
  },
  {
   "cell_type": "markdown",
   "metadata": {},
   "source": [
    "**Test Results**"
   ]
  },
  {
   "cell_type": "code",
   "execution_count": 35,
   "metadata": {},
   "outputs": [],
   "source": [
    "# Initialize Decision Tree Classifier model\n",
    "tree = DecisionTreeClassifier(criterion='entropy', # Entropy and information gain\n",
    "                              max_depth=7, # Stopping condition: maximum tree depth\n",
    "                              min_samples_split=30, # Stopping condition: Minimum number of samples required to split an internal node\n",
    "                              min_samples_leaf=10, # Stopping condition: Minimum number of samples required to be at a leaf node\n",
    "                              min_impurity_decrease=0.005, # Stopping condition: A node will be split if this split induces a decrease of the impurity greater than or equal to this value\n",
    "                              random_state=1234 # Set seed to 1234\n",
    "                             )"
   ]
  },
  {
   "cell_type": "code",
   "execution_count": 36,
   "metadata": {},
   "outputs": [
    {
     "data": {
      "text/plain": [
       "DecisionTreeClassifier(class_weight=None, criterion='entropy', max_depth=7,\n",
       "                       max_features=None, max_leaf_nodes=None,\n",
       "                       min_impurity_decrease=0.005, min_impurity_split=None,\n",
       "                       min_samples_leaf=10, min_samples_split=30,\n",
       "                       min_weight_fraction_leaf=0.0, presort=False,\n",
       "                       random_state=1234, splitter='best')"
      ]
     },
     "execution_count": 36,
     "metadata": {},
     "output_type": "execute_result"
    }
   ],
   "source": [
    "tree.fit(sm_X_train, sm_y_train)"
   ]
  },
  {
   "cell_type": "code",
   "execution_count": 37,
   "metadata": {},
   "outputs": [],
   "source": [
    "y_pred_tree = tree.predict(X_test_scaled)"
   ]
  },
  {
   "cell_type": "code",
   "execution_count": 38,
   "metadata": {},
   "outputs": [
    {
     "name": "stdout",
     "output_type": "stream",
     "text": [
      "[[447  57]\n",
      " [ 14  81]]\n",
      "447 57 14 81\n"
     ]
    }
   ],
   "source": [
    "# Create confusion matrix\n",
    "cm = confusion_matrix(y_test, y_pred_tree)\n",
    "TN, FP, FN, TP = cm.ravel()\n",
    "print (cm)\n",
    "print (TN, FP, FN, TP)"
   ]
  },
  {
   "cell_type": "code",
   "execution_count": 39,
   "metadata": {},
   "outputs": [
    {
     "name": "stdout",
     "output_type": "stream",
     "text": [
      "Accuracy:  0.8814691151919867\n",
      "Sensitivity:  0.8526315789473684\n",
      "Precision:  0.5869565217391305\n",
      "f1 Score:  0.6952789699570816\n",
      "ROC_AUC_Score: 0.8697681704260651\n",
      "MCC:  0.641573747942312\n"
     ]
    }
   ],
   "source": [
    "# Performance of Logistic Regression with L1\n",
    "print (\"Accuracy: \", accuracy_score(y_test, y_pred_tree))\n",
    "print(\"Sensitivity: \", recall_score(y_test, y_pred_tree))\n",
    "print(\"Precision: \", precision_score(y_test, y_pred_tree))\n",
    "print (\"f1 Score: \", f1_score(y_test, y_pred_tree))\n",
    "print(\"ROC_AUC_Score:\", roc_auc_score(y_test, y_pred_tree))\n",
    "print(\"MCC: \", matthews_corrcoef(y_test, y_pred_tree))\n"
   ]
  },
  {
   "cell_type": "code",
   "execution_count": 40,
   "metadata": {},
   "outputs": [
    {
     "data": {
      "image/png": "[encoded data removed]",
      "text/plain": [
       "<Figure size 1080x360 with 3 Axes>"
      ]
     },
     "metadata": {
      "needs_background": "light"
     },
     "output_type": "display_data"
    }
   ],
   "source": [
    "cm_and_roc(cm, [0, 1], y_test, y_pred_tree, figsize = (15,5), fontsize=12)\n",
    "\n"
   ]
  },
  {
   "cell_type": "markdown",
   "metadata": {},
   "source": [
    "#### 5.3 XGBoost"
   ]
  },
  {
   "cell_type": "code",
   "execution_count": 41,
   "metadata": {},
   "outputs": [],
   "source": [
    "# Initialize XGBoost\n",
    "xgboost = xgb.XGBClassifier(n_estimators=500, \n",
    "                            random_state=1234,\n",
    "                            max_depth=7, \n",
    "                            reg_alpha=1, \n",
    "                            reg_lambda=2,\n",
    "                            gamma=1,\n",
    "                            min_child_weight=5\n",
    "                           )\n"
   ]
  },
  {
   "cell_type": "markdown",
   "metadata": {},
   "source": [
    "##### Evaluation of Decision Tree Classifier\n",
    "- Cross Validation\n",
    "- Accuraucy, MCC, Confusion Matrix, AUC"
   ]
  },
  {
   "cell_type": "markdown",
   "metadata": {},
   "source": [
    "**Cross Validation**"
   ]
  },
  {
   "cell_type": "code",
   "execution_count": 42,
   "metadata": {
    "scrolled": false
   },
   "outputs": [
    {
     "data": {
      "image/png": "[encoded data removed]",
      "text/plain": [
       "<Figure size 864x288 with 2 Axes>"
      ]
     },
     "metadata": {
      "needs_background": "light"
     },
     "output_type": "display_data"
    }
   ],
   "source": [
    "results = cross_validation_smote(5, X_train_scaled.values, y_train.values, xgboost)\n"
   ]
  },
  {
   "cell_type": "code",
   "execution_count": 43,
   "metadata": {},
   "outputs": [
    {
     "name": "stdout",
     "output_type": "stream",
     "text": [
      "Cross Validation Results\n",
      "accuracy: 0.8892556697909114\n",
      "recall_score: 0.7873205741626796\n",
      "precision: 0.6207097576820297\n",
      "f1_score: 0.693710796301666\n",
      "roc_auc_score: 0.8479317338178802\n",
      "mcc: 0.6342564678950552\n"
     ]
    }
   ],
   "source": [
    "print(\"Cross Validation Results\")\n",
    "\n",
    "for key in results:\n",
    "    print(\"{0}: {1}\".format(key, np.mean(results[key])))\n"
   ]
  },
  {
   "cell_type": "markdown",
   "metadata": {},
   "source": [
    "**Test Results**"
   ]
  },
  {
   "cell_type": "code",
   "execution_count": 44,
   "metadata": {},
   "outputs": [],
   "source": [
    "# Initialize XGBoost\n",
    "xgboost = xgb.XGBClassifier(n_estimators=500, \n",
    "                            random_state=1234,\n",
    "                            max_depth=7, \n",
    "                            reg_alpha=1, \n",
    "                            reg_lambda=2,\n",
    "                            gamma=1,\n",
    "                            min_child_weight=5\n",
    "                           )\n"
   ]
  },
  {
   "cell_type": "code",
   "execution_count": 45,
   "metadata": {},
   "outputs": [
    {
     "data": {
      "text/plain": [
       "XGBClassifier(base_score=0.5, booster='gbtree', colsample_bylevel=1,\n",
       "              colsample_bynode=1, colsample_bytree=1, gamma=1,\n",
       "              learning_rate=0.1, max_delta_step=0, max_depth=7,\n",
       "              min_child_weight=5, missing=None, n_estimators=500, n_jobs=1,\n",
       "              nthread=None, objective='binary:logistic', random_state=1234,\n",
       "              reg_alpha=1, reg_lambda=2, scale_pos_weight=1, seed=None,\n",
       "              silent=None, subsample=1, verbosity=1)"
      ]
     },
     "execution_count": 45,
     "metadata": {},
     "output_type": "execute_result"
    }
   ],
   "source": [
    "xgboost.fit(sm_X_train, sm_y_train)"
   ]
  },
  {
   "cell_type": "code",
   "execution_count": 46,
   "metadata": {},
   "outputs": [],
   "source": [
    "y_pred_xgb = xgboost.predict(X_test_scaled.values)"
   ]
  },
  {
   "cell_type": "code",
   "execution_count": 47,
   "metadata": {},
   "outputs": [
    {
     "name": "stdout",
     "output_type": "stream",
     "text": [
      "[[463  41]\n",
      " [ 17  78]]\n",
      "463 41 17 78\n"
     ]
    }
   ],
   "source": [
    "# Create confusion matrix\n",
    "cm = confusion_matrix(y_test, y_pred_xgb)\n",
    "TN, FP, FN, TP = cm.ravel()\n",
    "print (cm)\n",
    "print (TN, FP, FN, TP)"
   ]
  },
  {
   "cell_type": "code",
   "execution_count": 48,
   "metadata": {},
   "outputs": [
    {
     "name": "stdout",
     "output_type": "stream",
     "text": [
      "Accuracy:  0.9031719532554258\n",
      "Sensitivity:  0.8210526315789474\n",
      "Precision:  0.6554621848739496\n",
      "f1 Score:  0.7289719626168224\n",
      "ROC_AUC_Score: 0.8698517126148704\n",
      "MCC:  0.6772368814648807\n"
     ]
    }
   ],
   "source": [
    "# Performance of Logistic Regression with L1\n",
    "print (\"Accuracy: \", accuracy_score(y_test, y_pred_xgb))\n",
    "print(\"Sensitivity: \", recall_score(y_test, y_pred_xgb))\n",
    "print(\"Precision: \", precision_score(y_test, y_pred_xgb))\n",
    "print (\"f1 Score: \", f1_score(y_test, y_pred_xgb))\n",
    "print(\"ROC_AUC_Score:\", roc_auc_score(y_test, y_pred_xgb))\n",
    "print(\"MCC: \", matthews_corrcoef(y_test, y_pred_xgb))\n"
   ]
  },
  {
   "cell_type": "code",
   "execution_count": 49,
   "metadata": {},
   "outputs": [
    {
     "data": {
      "image/png": "[encoded data removed]",
      "text/plain": [
       "<Figure size 1080x360 with 3 Axes>"
      ]
     },
     "metadata": {
      "needs_background": "light"
     },
     "output_type": "display_data"
    }
   ],
   "source": [
    "cm_and_roc(cm, [0, 1], y_test, y_pred_xgb, figsize = (15,5), fontsize=12)\n",
    "\n"
   ]
  },
  {
   "cell_type": "markdown",
   "metadata": {},
   "source": [
    "## Question 2"
   ]
  },
  {
   "cell_type": "markdown",
   "metadata": {},
   "source": [
    "(2 points) Describe the strategy you took in terms of training the data and selecting the appropriate parameters to best avoid overfitting. This should also be applied in the above and subsequent questions for consistency. *Hint -you may further divide the training data*\n",
    "\n",
    "<u>Data used for Training</u>\n",
    "\n",
    "1. SMOTE Oversampling instead of Resampling on existing dataset\n",
    "\n",
    "SMOTE addresses the unbalanced training set and reduces information leakage by creating synthetic data points which are similar to the existing ones using nearest neighbors classification instead of duplicating existing data points. This, therefore, helps to reduce overfitting.\n",
    "\n",
    "2. Oversample only on the training set rather than on the entire dataset\n",
    "\n",
    "If oversampling is done before splitting into the training and test sets, there will be information leakage from test set into the training set. SMOTE algorithm works by using nearest neighbors of observations to create synthetic data. \n",
    "\n",
    "When SMOTE is applied to the entire data, there is a chance that the nearest neighbors of minority class observations in the training setare in the test set. This means that information in the test set is partially captured by the synthetic data in the training set. \n",
    "\n",
    "As a result, the model will be able to better predict the test set values than a completely unseen data, causing an overfitting problem.\n",
    "\n",
    "3. Stratified Cross-Validation\n",
    "\n",
    "The goal of cross validation is to assess how the model will generalise to an independent data set. This can be evaluated by looking at the deviation between the validation and test error. If there is a large deviation, then there is a high chance of overfitting. \n",
    "\n",
    "Specifically, in k-fold cross validation, every data point gets to be in a validation set exactly once, and gets to be in a training set k-1 times. This significantly reduces underfitting and  as we are using most of the data for fitting, and also significantly reduces overfitting as most of the data is also being used in the validation set.\n",
    "\n",
    "Stratification is also factor into the cross validation. Stratification is a technique where we rearrange the data in a way that each fold has a good representation of the whole dataset. This approach ensures that one class of data is not overrepresented especially when the target variable is unbalanced.\n",
    "\n",
    "4. Oversample during Cross-Validation instead of before Cross-Validation\n",
    "\n",
    "SMOTE oversampling is done on all training folds during the process of cross validation rather than on the entire training set before cross validation. This is achieved by creating a SMOTE pipeline at each iteration. This will give us a more representative cross validation results when we compare it to the test results. This is because the test set does not contain any SMOTE oversampled data points and only data from the original dataset. Therefore, our validation set should not contain SMOTE oversampled data points as well.\n",
    "\n",
    "**Refer to report for explanation of selected parameters to avoid overfitting**"
   ]
  },
  {
   "cell_type": "markdown",
   "metadata": {},
   "source": [
    "# Reduced model"
   ]
  },
  {
   "cell_type": "markdown",
   "metadata": {},
   "source": [
    "Not all of the attributes will be useful for predicting if a loan will default. The next step is to reduce this number of attributes to get a more parsimonious model, while still being able to predict default well. "
   ]
  },
  {
   "cell_type": "markdown",
   "metadata": {},
   "source": [
    "## Question 3"
   ]
  },
  {
   "cell_type": "markdown",
   "metadata": {},
   "source": [
    "(2 points) Which loan attributes do you believe are the most informative? Please use your **knoweledge and intuition** to choose 10 of the attributes available, and explain why you chose these attributes. Let's call this the REDUCED-MODEL.\n",
    "\n",
    "**Refer to report for explanation of the 10 selected features/attributes**"
   ]
  },
  {
   "cell_type": "markdown",
   "metadata": {},
   "source": [
    "**10 Features**:\n",
    "- int_rate\n",
    "- total_pymnt\n",
    "- total_pymnt_inv\n",
    "- revol_bal\n",
    "- dti\n",
    "- out_prncp\n",
    "- pub_rec_bankruptcies\n",
    "- chargeoff_within_12_mths\n",
    "- tot_cur_bal\n",
    "- tot_hi_cred_lim"
   ]
  },
  {
   "cell_type": "code",
   "execution_count": 50,
   "metadata": {},
   "outputs": [],
   "source": [
    "selected_ten_features = [\"int_rate\", \n",
    "                         \"total_pymnt\", \n",
    "                         \"total_pymnt_inv\", \n",
    "                         \"revol_bal\", \n",
    "                         \"dti\", \n",
    "                         \"out_prncp\", \n",
    "                         \"pub_rec_bankruptcies\", \n",
    "                         \"chargeoff_within_12_mths\", \n",
    "                         \"tot_cur_bal\", \n",
    "                         \"tot_hi_cred_lim\"\n",
    "                        ]\n"
   ]
  },
  {
   "cell_type": "markdown",
   "metadata": {},
   "source": [
    "## Question 4"
   ]
  },
  {
   "cell_type": "markdown",
   "metadata": {},
   "source": [
    "(2 points) Let's use the attributes you've selected for the reduced model to predict default, and check the performance of the resulting models. Apply the same three techniques (logistic regression, tree classification, and xgboost) to the REDUCED-MODEL (i.e. only using the attributes you selected) to predict loan default. Again, compute their accuracy and MCC"
   ]
  },
  {
   "cell_type": "markdown",
   "metadata": {},
   "source": [
    "### 4.1 Dataset Preparation\n",
    "- Train-Test Split\n",
    "- Normalise Features\n",
    "- SMOTE Oversampling"
   ]
  },
  {
   "cell_type": "markdown",
   "metadata": {},
   "source": [
    "#### 4.1.1 Train-Test Split 80/20"
   ]
  },
  {
   "cell_type": "code",
   "execution_count": 51,
   "metadata": {},
   "outputs": [],
   "source": [
    "# Split the dataset: 80% for train, 20% for test\n",
    "output = \"bad_loans\"\n",
    "X_r = loans[selected_ten_features]\n",
    "y_r = loans[output]\n",
    "\n",
    "X_train_r, X_test_r, y_train_r, y_test_r = train_test_split(X_r, y_r, test_size=0.2, random_state=1234, stratify=y_r)\n"
   ]
  },
  {
   "cell_type": "markdown",
   "metadata": {},
   "source": [
    "#### 4.1.2 Normalize Features using Standard Scaler\n",
    "- Normalise train and test set separately to prevent leaking of information from the test set\n",
    "- Use the scaler fitted on the train set to scale the test set. This ensures consistency in the transformation and makes it possible to evaluate if the model can generalize well"
   ]
  },
  {
   "cell_type": "code",
   "execution_count": 52,
   "metadata": {},
   "outputs": [],
   "source": [
    "X_train_scaled_r = deepcopy(X_train_r)\n",
    "X_test_scaled_r = deepcopy(X_test_r)"
   ]
  },
  {
   "cell_type": "code",
   "execution_count": 53,
   "metadata": {
    "scrolled": true
   },
   "outputs": [],
   "source": [
    "# Normalize features\n",
    "scaler = StandardScaler()\n",
    "scaler = scaler.fit(X_train_r)\n",
    "\n",
    "X_train_scaled_r[selected_ten_features] = scaler.transform(X_train_r)\n",
    "X_test_scaled_r[selected_ten_features] = scaler.transform(X_test_r)"
   ]
  },
  {
   "cell_type": "code",
   "execution_count": 54,
   "metadata": {},
   "outputs": [
    {
     "data": {
      "text/html": [
       "<div>\n",
       "<style scoped>\n",
       "    .dataframe tbody tr th:only-of-type {\n",
       "        vertical-align: middle;\n",
       "    }\n",
       "\n",
       "    .dataframe tbody tr th {\n",
       "        vertical-align: top;\n",
       "    }\n",
       "\n",
       "    .dataframe thead th {\n",
       "        text-align: right;\n",
       "    }\n",
       "</style>\n",
       "<table border=\"1\" class=\"dataframe\">\n",
       "  <thead>\n",
       "    <tr style=\"text-align: right;\">\n",
       "      <th></th>\n",
       "      <th>int_rate</th>\n",
       "      <th>total_pymnt</th>\n",
       "      <th>total_pymnt_inv</th>\n",
       "      <th>revol_bal</th>\n",
       "      <th>dti</th>\n",
       "      <th>out_prncp</th>\n",
       "      <th>pub_rec_bankruptcies</th>\n",
       "      <th>chargeoff_within_12_mths</th>\n",
       "      <th>tot_cur_bal</th>\n",
       "      <th>tot_hi_cred_lim</th>\n",
       "    </tr>\n",
       "  </thead>\n",
       "  <tbody>\n",
       "    <tr>\n",
       "      <td>1200</td>\n",
       "      <td>20.00</td>\n",
       "      <td>1630.710000</td>\n",
       "      <td>1630.71</td>\n",
       "      <td>9957.0</td>\n",
       "      <td>1.04</td>\n",
       "      <td>14062.16</td>\n",
       "      <td>1.0</td>\n",
       "      <td>0.0</td>\n",
       "      <td>9957.0</td>\n",
       "      <td>10800.0</td>\n",
       "    </tr>\n",
       "    <tr>\n",
       "      <td>1083</td>\n",
       "      <td>11.99</td>\n",
       "      <td>3239.212599</td>\n",
       "      <td>3239.21</td>\n",
       "      <td>7271.0</td>\n",
       "      <td>18.82</td>\n",
       "      <td>0.00</td>\n",
       "      <td>0.0</td>\n",
       "      <td>0.0</td>\n",
       "      <td>7271.0</td>\n",
       "      <td>19700.0</td>\n",
       "    </tr>\n",
       "    <tr>\n",
       "      <td>2593</td>\n",
       "      <td>11.99</td>\n",
       "      <td>1623.250000</td>\n",
       "      <td>1623.25</td>\n",
       "      <td>1034.0</td>\n",
       "      <td>10.69</td>\n",
       "      <td>10868.70</td>\n",
       "      <td>0.0</td>\n",
       "      <td>0.0</td>\n",
       "      <td>381000.0</td>\n",
       "      <td>390910.0</td>\n",
       "    </tr>\n",
       "    <tr>\n",
       "      <td>1316</td>\n",
       "      <td>11.99</td>\n",
       "      <td>488.160000</td>\n",
       "      <td>488.16</td>\n",
       "      <td>6695.0</td>\n",
       "      <td>12.91</td>\n",
       "      <td>14651.72</td>\n",
       "      <td>0.0</td>\n",
       "      <td>0.0</td>\n",
       "      <td>67876.0</td>\n",
       "      <td>70819.0</td>\n",
       "    </tr>\n",
       "    <tr>\n",
       "      <td>2500</td>\n",
       "      <td>16.02</td>\n",
       "      <td>15574.523117</td>\n",
       "      <td>15574.52</td>\n",
       "      <td>22794.0</td>\n",
       "      <td>14.84</td>\n",
       "      <td>0.00</td>\n",
       "      <td>0.0</td>\n",
       "      <td>0.0</td>\n",
       "      <td>118898.0</td>\n",
       "      <td>129270.0</td>\n",
       "    </tr>\n",
       "  </tbody>\n",
       "</table>\n",
       "</div>"
      ],
      "text/plain": [
       "      int_rate   total_pymnt  total_pymnt_inv  revol_bal    dti  out_prncp  \\\n",
       "1200     20.00   1630.710000          1630.71     9957.0   1.04   14062.16   \n",
       "1083     11.99   3239.212599          3239.21     7271.0  18.82       0.00   \n",
       "2593     11.99   1623.250000          1623.25     1034.0  10.69   10868.70   \n",
       "1316     11.99    488.160000           488.16     6695.0  12.91   14651.72   \n",
       "2500     16.02  15574.523117         15574.52    22794.0  14.84       0.00   \n",
       "\n",
       "      pub_rec_bankruptcies  chargeoff_within_12_mths  tot_cur_bal  \\\n",
       "1200                   1.0                       0.0       9957.0   \n",
       "1083                   0.0                       0.0       7271.0   \n",
       "2593                   0.0                       0.0     381000.0   \n",
       "1316                   0.0                       0.0      67876.0   \n",
       "2500                   0.0                       0.0     118898.0   \n",
       "\n",
       "      tot_hi_cred_lim  \n",
       "1200          10800.0  \n",
       "1083          19700.0  \n",
       "2593         390910.0  \n",
       "1316          70819.0  \n",
       "2500         129270.0  "
      ]
     },
     "execution_count": 54,
     "metadata": {},
     "output_type": "execute_result"
    }
   ],
   "source": [
    "X_train_r.head()"
   ]
  },
  {
   "cell_type": "code",
   "execution_count": 55,
   "metadata": {},
   "outputs": [
    {
     "data": {
      "text/html": [
       "<div>\n",
       "<style scoped>\n",
       "    .dataframe tbody tr th:only-of-type {\n",
       "        vertical-align: middle;\n",
       "    }\n",
       "\n",
       "    .dataframe tbody tr th {\n",
       "        vertical-align: top;\n",
       "    }\n",
       "\n",
       "    .dataframe thead th {\n",
       "        text-align: right;\n",
       "    }\n",
       "</style>\n",
       "<table border=\"1\" class=\"dataframe\">\n",
       "  <thead>\n",
       "    <tr style=\"text-align: right;\">\n",
       "      <th></th>\n",
       "      <th>int_rate</th>\n",
       "      <th>total_pymnt</th>\n",
       "      <th>total_pymnt_inv</th>\n",
       "      <th>revol_bal</th>\n",
       "      <th>dti</th>\n",
       "      <th>out_prncp</th>\n",
       "      <th>pub_rec_bankruptcies</th>\n",
       "      <th>chargeoff_within_12_mths</th>\n",
       "      <th>tot_cur_bal</th>\n",
       "      <th>tot_hi_cred_lim</th>\n",
       "    </tr>\n",
       "  </thead>\n",
       "  <tbody>\n",
       "    <tr>\n",
       "      <td>1200</td>\n",
       "      <td>0.998138</td>\n",
       "      <td>-0.880171</td>\n",
       "      <td>-0.880064</td>\n",
       "      <td>-0.150265</td>\n",
       "      <td>-1.044104</td>\n",
       "      <td>1.069451</td>\n",
       "      <td>2.840504</td>\n",
       "      <td>-0.133139</td>\n",
       "      <td>-0.865808</td>\n",
       "      <td>-0.974444</td>\n",
       "    </tr>\n",
       "    <tr>\n",
       "      <td>1083</td>\n",
       "      <td>-0.476178</td>\n",
       "      <td>-0.730620</td>\n",
       "      <td>-0.730487</td>\n",
       "      <td>-0.243488</td>\n",
       "      <td>0.052137</td>\n",
       "      <td>-0.501512</td>\n",
       "      <td>-0.328413</td>\n",
       "      <td>-0.133139</td>\n",
       "      <td>-0.880202</td>\n",
       "      <td>-0.931298</td>\n",
       "    </tr>\n",
       "    <tr>\n",
       "      <td>2593</td>\n",
       "      <td>-0.476178</td>\n",
       "      <td>-0.880864</td>\n",
       "      <td>-0.880758</td>\n",
       "      <td>-0.459955</td>\n",
       "      <td>-0.449125</td>\n",
       "      <td>0.712691</td>\n",
       "      <td>-0.328413</td>\n",
       "      <td>-0.133139</td>\n",
       "      <td>1.122626</td>\n",
       "      <td>0.868276</td>\n",
       "    </tr>\n",
       "    <tr>\n",
       "      <td>1316</td>\n",
       "      <td>-0.476178</td>\n",
       "      <td>-0.986399</td>\n",
       "      <td>-0.986311</td>\n",
       "      <td>-0.263479</td>\n",
       "      <td>-0.312249</td>\n",
       "      <td>1.135314</td>\n",
       "      <td>-0.328413</td>\n",
       "      <td>-0.133139</td>\n",
       "      <td>-0.555418</td>\n",
       "      <td>-0.683480</td>\n",
       "    </tr>\n",
       "    <tr>\n",
       "      <td>2500</td>\n",
       "      <td>0.265582</td>\n",
       "      <td>0.416256</td>\n",
       "      <td>0.416591</td>\n",
       "      <td>0.295267</td>\n",
       "      <td>-0.193254</td>\n",
       "      <td>-0.501512</td>\n",
       "      <td>-0.328413</td>\n",
       "      <td>-0.133139</td>\n",
       "      <td>-0.281989</td>\n",
       "      <td>-0.400118</td>\n",
       "    </tr>\n",
       "  </tbody>\n",
       "</table>\n",
       "</div>"
      ],
      "text/plain": [
       "      int_rate  total_pymnt  total_pymnt_inv  revol_bal       dti  out_prncp  \\\n",
       "1200  0.998138    -0.880171        -0.880064  -0.150265 -1.044104   1.069451   \n",
       "1083 -0.476178    -0.730620        -0.730487  -0.243488  0.052137  -0.501512   \n",
       "2593 -0.476178    -0.880864        -0.880758  -0.459955 -0.449125   0.712691   \n",
       "1316 -0.476178    -0.986399        -0.986311  -0.263479 -0.312249   1.135314   \n",
       "2500  0.265582     0.416256         0.416591   0.295267 -0.193254  -0.501512   \n",
       "\n",
       "      pub_rec_bankruptcies  chargeoff_within_12_mths  tot_cur_bal  \\\n",
       "1200              2.840504                 -0.133139    -0.865808   \n",
       "1083             -0.328413                 -0.133139    -0.880202   \n",
       "2593             -0.328413                 -0.133139     1.122626   \n",
       "1316             -0.328413                 -0.133139    -0.555418   \n",
       "2500             -0.328413                 -0.133139    -0.281989   \n",
       "\n",
       "      tot_hi_cred_lim  \n",
       "1200        -0.974444  \n",
       "1083        -0.931298  \n",
       "2593         0.868276  \n",
       "1316        -0.683480  \n",
       "2500        -0.400118  "
      ]
     },
     "execution_count": 55,
     "metadata": {},
     "output_type": "execute_result"
    }
   ],
   "source": [
    "X_train_scaled_r.head()"
   ]
  },
  {
   "cell_type": "markdown",
   "metadata": {},
   "source": [
    "#### 4.1.3 Address the Unbalanced Training Set by Oversampling (SMOTE)"
   ]
  },
  {
   "cell_type": "code",
   "execution_count": 56,
   "metadata": {},
   "outputs": [
    {
     "data": {
      "text/plain": [
       "0    2012\n",
       "1     381\n",
       "Name: bad_loans, dtype: int64"
      ]
     },
     "execution_count": 56,
     "metadata": {},
     "output_type": "execute_result"
    }
   ],
   "source": [
    "# Merge X_train and y_train to obtain the training set\n",
    "training_set_r = X_train_scaled_r.merge(pd.DataFrame(y_train_r), left_index=True,right_index=True,how = \"left\")\n",
    "training_set_r[\"bad_loans\"].value_counts() # Unbalanced Training Set\n"
   ]
  },
  {
   "cell_type": "code",
   "execution_count": 57,
   "metadata": {},
   "outputs": [],
   "source": [
    "# Address the Unbalanced Training Set by Oversampling SMOTE\n",
    "sm = SMOTE(random_state=1234)\n",
    "sm_X_train_r, sm_y_train_r = sm.fit_sample(X_train_scaled_r, y_train_r.ravel())"
   ]
  },
  {
   "cell_type": "code",
   "execution_count": 58,
   "metadata": {},
   "outputs": [
    {
     "data": {
      "text/plain": [
       "1    2012\n",
       "0    2012\n",
       "dtype: int64"
      ]
     },
     "execution_count": 58,
     "metadata": {},
     "output_type": "execute_result"
    }
   ],
   "source": [
    "pd.Series(sm_y_train_r).value_counts()"
   ]
  },
  {
   "cell_type": "markdown",
   "metadata": {},
   "source": [
    "### 4.2 Machine Learning Models\n",
    "- Logistic Regression\n",
    "- Decision Tree Classifier\n",
    "- XGBoost Classifier"
   ]
  },
  {
   "cell_type": "markdown",
   "metadata": {},
   "source": [
    "#### 4.2.1 Logistic Regression"
   ]
  },
  {
   "cell_type": "code",
   "execution_count": 59,
   "metadata": {},
   "outputs": [],
   "source": [
    "# Initialize logistic regression model with L2 penalty: Ridge model\n",
    "lr = LogisticRegression(fit_intercept=True, \n",
    "                        penalty='l2',\n",
    "                        C = 1,\n",
    "                        random_state=1234)\n"
   ]
  },
  {
   "cell_type": "markdown",
   "metadata": {},
   "source": [
    "##### Evaluation of Logistic Regression\n",
    "- Cross Validation\n",
    "- Accuraucy, MCC, Confusion Matrix, AUC"
   ]
  },
  {
   "cell_type": "markdown",
   "metadata": {},
   "source": [
    "**Cross Validation**"
   ]
  },
  {
   "cell_type": "code",
   "execution_count": 60,
   "metadata": {
    "scrolled": true
   },
   "outputs": [
    {
     "data": {
      "image/png": "[encoded data removed]",
      "text/plain": [
       "<Figure size 864x288 with 2 Axes>"
      ]
     },
     "metadata": {
      "needs_background": "light"
     },
     "output_type": "display_data"
    }
   ],
   "source": [
    "results = cross_validation_smote(5, X_train_scaled_r.values, y_train_r.values, lr)"
   ]
  },
  {
   "cell_type": "code",
   "execution_count": 61,
   "metadata": {},
   "outputs": [
    {
     "name": "stdout",
     "output_type": "stream",
     "text": [
      "Cross Validation Results\n",
      "accuracy: 0.8583456607064346\n",
      "recall_score: 0.971120984278879\n",
      "precision: 0.5302424451324232\n",
      "f1_score: 0.6858509919901795\n",
      "roc_auc_score: 0.9040536343687398\n",
      "mcc: 0.6505799870692652\n"
     ]
    }
   ],
   "source": [
    "print(\"Cross Validation Results\")\n",
    "\n",
    "for key in results:\n",
    "    print(\"{0}: {1}\".format(key, np.mean(results[key])))\n"
   ]
  },
  {
   "cell_type": "markdown",
   "metadata": {},
   "source": [
    "**Test Results**"
   ]
  },
  {
   "cell_type": "code",
   "execution_count": 62,
   "metadata": {},
   "outputs": [],
   "source": [
    "# Initialize logistic regression model with L2 penalty: Ridge model\n",
    "lr = LogisticRegression(fit_intercept=True, \n",
    "                        penalty='l2',\n",
    "                        C = 1,\n",
    "                        random_state=1234)\n"
   ]
  },
  {
   "cell_type": "code",
   "execution_count": 63,
   "metadata": {
    "scrolled": true
   },
   "outputs": [
    {
     "data": {
      "text/plain": [
       "LogisticRegression(C=1, class_weight=None, dual=False, fit_intercept=True,\n",
       "                   intercept_scaling=1, l1_ratio=None, max_iter=100,\n",
       "                   multi_class='warn', n_jobs=None, penalty='l2',\n",
       "                   random_state=1234, solver='warn', tol=0.0001, verbose=0,\n",
       "                   warm_start=False)"
      ]
     },
     "execution_count": 63,
     "metadata": {},
     "output_type": "execute_result"
    }
   ],
   "source": [
    "lr.fit(sm_X_train_r, sm_y_train_r)"
   ]
  },
  {
   "cell_type": "code",
   "execution_count": 64,
   "metadata": {},
   "outputs": [],
   "source": [
    "y_pred_lr = lr.predict(X_test_scaled_r)"
   ]
  },
  {
   "cell_type": "code",
   "execution_count": 65,
   "metadata": {},
   "outputs": [
    {
     "name": "stdout",
     "output_type": "stream",
     "text": [
      "[[415  89]\n",
      " [  3  92]]\n",
      "415 89 3 92\n"
     ]
    }
   ],
   "source": [
    "# Create confusion matrix\n",
    "cm = confusion_matrix(y_test_r, y_pred_lr)\n",
    "TN, FP, FN, TP = cm.ravel()\n",
    "print (cm)\n",
    "print (TN, FP, FN, TP)"
   ]
  },
  {
   "cell_type": "code",
   "execution_count": 66,
   "metadata": {},
   "outputs": [
    {
     "name": "stdout",
     "output_type": "stream",
     "text": [
      "Accuracy:  0.8464106844741235\n",
      "Sensitivity:  0.968421052631579\n",
      "Precision:  0.5082872928176796\n",
      "f1 Score:  0.6666666666666667\n",
      "ROC_AUC_Score: 0.8959168755221386\n",
      "MCC:  0.6299174678701741\n"
     ]
    }
   ],
   "source": [
    "# Performance of Logistic Regression with L2\n",
    "print (\"Accuracy: \", accuracy_score(y_test_r, y_pred_lr))\n",
    "print(\"Sensitivity: \", recall_score(y_test_r, y_pred_lr))\n",
    "print(\"Precision: \", precision_score(y_test_r, y_pred_lr))\n",
    "print (\"f1 Score: \", f1_score(y_test_r, y_pred_lr))\n",
    "print(\"ROC_AUC_Score:\", roc_auc_score(y_test_r, y_pred_lr))\n",
    "print(\"MCC: \", matthews_corrcoef(y_test_r, y_pred_lr))\n"
   ]
  },
  {
   "cell_type": "code",
   "execution_count": 67,
   "metadata": {},
   "outputs": [
    {
     "data": {
      "image/png": "[encoded data removed]",
      "text/plain": [
       "<Figure size 1080x360 with 3 Axes>"
      ]
     },
     "metadata": {
      "needs_background": "light"
     },
     "output_type": "display_data"
    }
   ],
   "source": [
    "cm_and_roc(cm, [0, 1], y_test_r, y_pred_lr, figsize = (15,5), fontsize=12)"
   ]
  },
  {
   "cell_type": "markdown",
   "metadata": {},
   "source": [
    "#### 4.2.2 Decision Tree Classifier"
   ]
  },
  {
   "cell_type": "code",
   "execution_count": 68,
   "metadata": {},
   "outputs": [],
   "source": [
    "# Initialize Decision Tree Classifier model\n",
    "tree = DecisionTreeClassifier(criterion='entropy', # Entropy and information gain\n",
    "                              max_depth=7, # Stopping condition: maximum tree depth\n",
    "                              min_samples_split=30, # Stopping condition: Minimum number of samples required to split an internal node\n",
    "                              min_samples_leaf=10, # Stopping condition: Minimum number of samples required to be at a leaf node\n",
    "                              min_impurity_decrease=0.005, # Stopping condition: A node will be split if this split induces a decrease of the impurity greater than or equal to this value\n",
    "                              random_state=1234 # Set seed to 1234\n",
    "                             )"
   ]
  },
  {
   "cell_type": "code",
   "execution_count": 69,
   "metadata": {},
   "outputs": [
    {
     "data": {
      "text/plain": [
       "DecisionTreeClassifier(class_weight=None, criterion='entropy', max_depth=7,\n",
       "                       max_features=None, max_leaf_nodes=None,\n",
       "                       min_impurity_decrease=0.005, min_impurity_split=None,\n",
       "                       min_samples_leaf=10, min_samples_split=30,\n",
       "                       min_weight_fraction_leaf=0.0, presort=False,\n",
       "                       random_state=1234, splitter='best')"
      ]
     },
     "execution_count": 69,
     "metadata": {},
     "output_type": "execute_result"
    }
   ],
   "source": [
    "tree.fit(sm_X_train_r, sm_y_train_r)"
   ]
  },
  {
   "cell_type": "code",
   "execution_count": 70,
   "metadata": {
    "scrolled": false
   },
   "outputs": [
    {
     "data": {
      "image/svg+xml": [
       "<?xml version=\"1.0\" encoding=\"UTF-8\" standalone=\"no\"?>\n",
       "<!DOCTYPE svg PUBLIC \"-//W3C//DTD SVG 1.1//EN\"\n",
       " \"http://www.w3.org/Graphics/SVG/1.1/DTD/svg11.dtd\">\n",
       "<!-- Generated by graphviz version 2.40.1 (20161225.0304)\n",
       " -->\n",
       "<!-- Title: Tree Pages: 1 -->\n",
       "<svg width=\"457pt\" height=\"433pt\"\n",
       " viewBox=\"0.00 0.00 456.50 433.00\" xmlns=\"http://www.w3.org/2000/svg\" xmlns:xlink=\"http://www.w3.org/1999/xlink\">\n",
       "<g id=\"graph0\" class=\"graph\" transform=\"scale(1 1) rotate(0) translate(4 429)\">\n",
       "<title>Tree</title>\n",
       "<polygon fill=\"#ffffff\" stroke=\"transparent\" points=\"-4,4 -4,-429 452.5,-429 452.5,4 -4,4\"/>\n",
       "<!-- 0 -->\n",
       "<g id=\"node1\" class=\"node\">\n",
       "<title>0</title>\n",
       "<path fill=\"#ffffff\" stroke=\"#000000\" d=\"M256.5,-425C256.5,-425 168.5,-425 168.5,-425 162.5,-425 156.5,-419 156.5,-413 156.5,-413 156.5,-354 156.5,-354 156.5,-348 162.5,-342 168.5,-342 168.5,-342 256.5,-342 256.5,-342 262.5,-342 268.5,-348 268.5,-354 268.5,-354 268.5,-413 268.5,-413 268.5,-419 262.5,-425 256.5,-425\"/>\n",
       "<text text-anchor=\"start\" x=\"168\" y=\"-409.8\" font-family=\"Helvetica,sans-Serif\" font-size=\"14.00\" fill=\"#000000\">out_prncp ≤ &#45;0.499</text>\n",
       "<text text-anchor=\"start\" x=\"181.5\" y=\"-394.8\" font-family=\"Helvetica,sans-Serif\" font-size=\"14.00\" fill=\"#000000\">entropy = 1.0</text>\n",
       "<text text-anchor=\"start\" x=\"175\" y=\"-379.8\" font-family=\"Helvetica,sans-Serif\" font-size=\"14.00\" fill=\"#000000\">samples = 4024</text>\n",
       "<text text-anchor=\"start\" x=\"164.5\" y=\"-364.8\" font-family=\"Helvetica,sans-Serif\" font-size=\"14.00\" fill=\"#000000\">value = [2012, 2012]</text>\n",
       "<text text-anchor=\"start\" x=\"191.5\" y=\"-349.8\" font-family=\"Helvetica,sans-Serif\" font-size=\"14.00\" fill=\"#000000\">class = b</text>\n",
       "</g>\n",
       "<!-- 1 -->\n",
       "<g id=\"node2\" class=\"node\">\n",
       "<title>1</title>\n",
       "<path fill=\"#e68743\" stroke=\"#000000\" d=\"M186.5,-306C186.5,-306 98.5,-306 98.5,-306 92.5,-306 86.5,-300 86.5,-294 86.5,-294 86.5,-235 86.5,-235 86.5,-229 92.5,-223 98.5,-223 98.5,-223 186.5,-223 186.5,-223 192.5,-223 198.5,-229 198.5,-235 198.5,-235 198.5,-294 198.5,-294 198.5,-300 192.5,-306 186.5,-306\"/>\n",
       "<text text-anchor=\"start\" x=\"94.5\" y=\"-290.8\" font-family=\"Helvetica,sans-Serif\" font-size=\"14.00\" fill=\"#000000\">total_pymnt ≤ &#45;0.943</text>\n",
       "<text text-anchor=\"start\" x=\"105.5\" y=\"-275.8\" font-family=\"Helvetica,sans-Serif\" font-size=\"14.00\" fill=\"#000000\">entropy = 0.273</text>\n",
       "<text text-anchor=\"start\" x=\"105\" y=\"-260.8\" font-family=\"Helvetica,sans-Serif\" font-size=\"14.00\" fill=\"#000000\">samples = 1793</text>\n",
       "<text text-anchor=\"start\" x=\"100.5\" y=\"-245.8\" font-family=\"Helvetica,sans-Serif\" font-size=\"14.00\" fill=\"#000000\">value = [1709, 84]</text>\n",
       "<text text-anchor=\"start\" x=\"121.5\" y=\"-230.8\" font-family=\"Helvetica,sans-Serif\" font-size=\"14.00\" fill=\"#000000\">class = b</text>\n",
       "</g>\n",
       "<!-- 0&#45;&gt;1 -->\n",
       "<g id=\"edge1\" class=\"edge\">\n",
       "<title>0&#45;&gt;1</title>\n",
       "<path fill=\"none\" stroke=\"#000000\" d=\"M188.0174,-341.8796C182.9315,-333.2335 177.5189,-324.0322 172.2672,-315.1042\"/>\n",
       "<polygon fill=\"#000000\" stroke=\"#000000\" points=\"175.1741,-313.1428 167.0871,-306.2981 169.1406,-316.692 175.1741,-313.1428\"/>\n",
       "<text text-anchor=\"middle\" x=\"160.813\" y=\"-326.798\" font-family=\"Helvetica,sans-Serif\" font-size=\"14.00\" fill=\"#000000\">True</text>\n",
       "</g>\n",
       "<!-- 4 -->\n",
       "<g id=\"node5\" class=\"node\">\n",
       "<title>4</title>\n",
       "<path fill=\"#58ace9\" stroke=\"#000000\" d=\"M336,-306C336,-306 229,-306 229,-306 223,-306 217,-300 217,-294 217,-294 217,-235 217,-235 217,-229 223,-223 229,-223 229,-223 336,-223 336,-223 342,-223 348,-229 348,-235 348,-235 348,-294 348,-294 348,-300 342,-306 336,-306\"/>\n",
       "<text text-anchor=\"start\" x=\"225\" y=\"-290.8\" font-family=\"Helvetica,sans-Serif\" font-size=\"14.00\" fill=\"#000000\">total_pymnt_inv ≤ &#45;0.936</text>\n",
       "<text text-anchor=\"start\" x=\"245.5\" y=\"-275.8\" font-family=\"Helvetica,sans-Serif\" font-size=\"14.00\" fill=\"#000000\">entropy = 0.573</text>\n",
       "<text text-anchor=\"start\" x=\"245\" y=\"-260.8\" font-family=\"Helvetica,sans-Serif\" font-size=\"14.00\" fill=\"#000000\">samples = 2231</text>\n",
       "<text text-anchor=\"start\" x=\"237.5\" y=\"-245.8\" font-family=\"Helvetica,sans-Serif\" font-size=\"14.00\" fill=\"#000000\">value = [303, 1928]</text>\n",
       "<text text-anchor=\"start\" x=\"261.5\" y=\"-230.8\" font-family=\"Helvetica,sans-Serif\" font-size=\"14.00\" fill=\"#000000\">class = a</text>\n",
       "</g>\n",
       "<!-- 0&#45;&gt;4 -->\n",
       "<g id=\"edge4\" class=\"edge\">\n",
       "<title>0&#45;&gt;4</title>\n",
       "<path fill=\"none\" stroke=\"#000000\" d=\"M236.9826,-341.8796C242.0685,-333.2335 247.4811,-324.0322 252.7328,-315.1042\"/>\n",
       "<polygon fill=\"#000000\" stroke=\"#000000\" points=\"255.8594,-316.692 257.9129,-306.2981 249.8259,-313.1428 255.8594,-316.692\"/>\n",
       "<text text-anchor=\"middle\" x=\"264.187\" y=\"-326.798\" font-family=\"Helvetica,sans-Serif\" font-size=\"14.00\" fill=\"#000000\">False</text>\n",
       "</g>\n",
       "<!-- 2 -->\n",
       "<g id=\"node3\" class=\"node\">\n",
       "<title>2</title>\n",
       "<path fill=\"#399de5\" stroke=\"#000000\" d=\"M71,-179.5C71,-179.5 12,-179.5 12,-179.5 6,-179.5 0,-173.5 0,-167.5 0,-167.5 0,-123.5 0,-123.5 0,-117.5 6,-111.5 12,-111.5 12,-111.5 71,-111.5 71,-111.5 77,-111.5 83,-117.5 83,-123.5 83,-123.5 83,-167.5 83,-167.5 83,-173.5 77,-179.5 71,-179.5\"/>\n",
       "<text text-anchor=\"start\" x=\"10.5\" y=\"-164.3\" font-family=\"Helvetica,sans-Serif\" font-size=\"14.00\" fill=\"#000000\">entropy = 0.0</text>\n",
       "<text text-anchor=\"start\" x=\"10\" y=\"-149.3\" font-family=\"Helvetica,sans-Serif\" font-size=\"14.00\" fill=\"#000000\">samples = 77</text>\n",
       "<text text-anchor=\"start\" x=\"8\" y=\"-134.3\" font-family=\"Helvetica,sans-Serif\" font-size=\"14.00\" fill=\"#000000\">value = [0, 77]</text>\n",
       "<text text-anchor=\"start\" x=\"20.5\" y=\"-119.3\" font-family=\"Helvetica,sans-Serif\" font-size=\"14.00\" fill=\"#000000\">class = a</text>\n",
       "</g>\n",
       "<!-- 1&#45;&gt;2 -->\n",
       "<g id=\"edge2\" class=\"edge\">\n",
       "<title>1&#45;&gt;2</title>\n",
       "<path fill=\"none\" stroke=\"#000000\" d=\"M107.1751,-222.8796C97.469,-211.4436 86.9384,-199.0363 77.2107,-187.575\"/>\n",
       "<polygon fill=\"#000000\" stroke=\"#000000\" points=\"79.7638,-185.1743 70.6244,-179.8149 74.4269,-189.7039 79.7638,-185.1743\"/>\n",
       "</g>\n",
       "<!-- 3 -->\n",
       "<g id=\"node4\" class=\"node\">\n",
       "<title>3</title>\n",
       "<path fill=\"#e5823a\" stroke=\"#000000\" d=\"M183.5,-179.5C183.5,-179.5 113.5,-179.5 113.5,-179.5 107.5,-179.5 101.5,-173.5 101.5,-167.5 101.5,-167.5 101.5,-123.5 101.5,-123.5 101.5,-117.5 107.5,-111.5 113.5,-111.5 113.5,-111.5 183.5,-111.5 183.5,-111.5 189.5,-111.5 195.5,-117.5 195.5,-123.5 195.5,-123.5 195.5,-167.5 195.5,-167.5 195.5,-173.5 189.5,-179.5 183.5,-179.5\"/>\n",
       "<text text-anchor=\"start\" x=\"111.5\" y=\"-164.3\" font-family=\"Helvetica,sans-Serif\" font-size=\"14.00\" fill=\"#000000\">entropy = 0.038</text>\n",
       "<text text-anchor=\"start\" x=\"111\" y=\"-149.3\" font-family=\"Helvetica,sans-Serif\" font-size=\"14.00\" fill=\"#000000\">samples = 1716</text>\n",
       "<text text-anchor=\"start\" x=\"109.5\" y=\"-134.3\" font-family=\"Helvetica,sans-Serif\" font-size=\"14.00\" fill=\"#000000\">value = [1709, 7]</text>\n",
       "<text text-anchor=\"start\" x=\"127.5\" y=\"-119.3\" font-family=\"Helvetica,sans-Serif\" font-size=\"14.00\" fill=\"#000000\">class = b</text>\n",
       "</g>\n",
       "<!-- 1&#45;&gt;3 -->\n",
       "<g id=\"edge3\" class=\"edge\">\n",
       "<title>1&#45;&gt;3</title>\n",
       "<path fill=\"none\" stroke=\"#000000\" d=\"M144.5985,-222.8796C145.1363,-212.2134 145.7167,-200.7021 146.2613,-189.9015\"/>\n",
       "<polygon fill=\"#000000\" stroke=\"#000000\" points=\"149.7617,-189.9785 146.7698,-179.8149 142.7706,-189.626 149.7617,-189.9785\"/>\n",
       "</g>\n",
       "<!-- 5 -->\n",
       "<g id=\"node6\" class=\"node\">\n",
       "<title>5</title>\n",
       "<path fill=\"#4aa5e7\" stroke=\"#000000\" d=\"M318.5,-187C318.5,-187 236.5,-187 236.5,-187 230.5,-187 224.5,-181 224.5,-175 224.5,-175 224.5,-116 224.5,-116 224.5,-110 230.5,-104 236.5,-104 236.5,-104 318.5,-104 318.5,-104 324.5,-104 330.5,-110 330.5,-116 330.5,-116 330.5,-175 330.5,-175 330.5,-181 324.5,-187 318.5,-187\"/>\n",
       "<text text-anchor=\"start\" x=\"235\" y=\"-171.8\" font-family=\"Helvetica,sans-Serif\" font-size=\"14.00\" fill=\"#000000\">out_prncp ≤ 1.473</text>\n",
       "<text text-anchor=\"start\" x=\"240.5\" y=\"-156.8\" font-family=\"Helvetica,sans-Serif\" font-size=\"14.00\" fill=\"#000000\">entropy = 0.399</text>\n",
       "<text text-anchor=\"start\" x=\"240\" y=\"-141.8\" font-family=\"Helvetica,sans-Serif\" font-size=\"14.00\" fill=\"#000000\">samples = 1277</text>\n",
       "<text text-anchor=\"start\" x=\"232.5\" y=\"-126.8\" font-family=\"Helvetica,sans-Serif\" font-size=\"14.00\" fill=\"#000000\">value = [101, 1176]</text>\n",
       "<text text-anchor=\"start\" x=\"256.5\" y=\"-111.8\" font-family=\"Helvetica,sans-Serif\" font-size=\"14.00\" fill=\"#000000\">class = a</text>\n",
       "</g>\n",
       "<!-- 4&#45;&gt;5 -->\n",
       "<g id=\"edge5\" class=\"edge\">\n",
       "<title>4&#45;&gt;5</title>\n",
       "<path fill=\"none\" stroke=\"#000000\" d=\"M280.7512,-222.8796C280.4069,-214.6838 280.0416,-205.9891 279.6849,-197.5013\"/>\n",
       "<polygon fill=\"#000000\" stroke=\"#000000\" points=\"283.173,-197.1423 279.2562,-187.2981 276.1792,-197.4362 283.173,-197.1423\"/>\n",
       "</g>\n",
       "<!-- 8 -->\n",
       "<g id=\"node9\" class=\"node\">\n",
       "<title>8</title>\n",
       "<path fill=\"#6eb7ec\" stroke=\"#000000\" d=\"M436.5,-179.5C436.5,-179.5 360.5,-179.5 360.5,-179.5 354.5,-179.5 348.5,-173.5 348.5,-167.5 348.5,-167.5 348.5,-123.5 348.5,-123.5 348.5,-117.5 354.5,-111.5 360.5,-111.5 360.5,-111.5 436.5,-111.5 436.5,-111.5 442.5,-111.5 448.5,-117.5 448.5,-123.5 448.5,-123.5 448.5,-167.5 448.5,-167.5 448.5,-173.5 442.5,-179.5 436.5,-179.5\"/>\n",
       "<text text-anchor=\"start\" x=\"361.5\" y=\"-164.3\" font-family=\"Helvetica,sans-Serif\" font-size=\"14.00\" fill=\"#000000\">entropy = 0.745</text>\n",
       "<text text-anchor=\"start\" x=\"364\" y=\"-149.3\" font-family=\"Helvetica,sans-Serif\" font-size=\"14.00\" fill=\"#000000\">samples = 954</text>\n",
       "<text text-anchor=\"start\" x=\"356.5\" y=\"-134.3\" font-family=\"Helvetica,sans-Serif\" font-size=\"14.00\" fill=\"#000000\">value = [202, 752]</text>\n",
       "<text text-anchor=\"start\" x=\"377.5\" y=\"-119.3\" font-family=\"Helvetica,sans-Serif\" font-size=\"14.00\" fill=\"#000000\">class = a</text>\n",
       "</g>\n",
       "<!-- 4&#45;&gt;8 -->\n",
       "<g id=\"edge8\" class=\"edge\">\n",
       "<title>4&#45;&gt;8</title>\n",
       "<path fill=\"none\" stroke=\"#000000\" d=\"M323.0712,-222.8796C334.326,-211.3337 346.5461,-198.7976 357.8078,-187.2446\"/>\n",
       "<polygon fill=\"#000000\" stroke=\"#000000\" points=\"360.5762,-189.4188 365.0501,-179.8149 355.5636,-184.5326 360.5762,-189.4188\"/>\n",
       "</g>\n",
       "<!-- 6 -->\n",
       "<g id=\"node7\" class=\"node\">\n",
       "<title>6</title>\n",
       "<path fill=\"#4ea7e8\" stroke=\"#000000\" d=\"M258.5,-68C258.5,-68 182.5,-68 182.5,-68 176.5,-68 170.5,-62 170.5,-56 170.5,-56 170.5,-12 170.5,-12 170.5,-6 176.5,0 182.5,0 182.5,0 258.5,0 258.5,0 264.5,0 270.5,-6 270.5,-12 270.5,-12 270.5,-56 270.5,-56 270.5,-62 264.5,-68 258.5,-68\"/>\n",
       "<text text-anchor=\"start\" x=\"183.5\" y=\"-52.8\" font-family=\"Helvetica,sans-Serif\" font-size=\"14.00\" fill=\"#000000\">entropy = 0.454</text>\n",
       "<text text-anchor=\"start\" x=\"183\" y=\"-37.8\" font-family=\"Helvetica,sans-Serif\" font-size=\"14.00\" fill=\"#000000\">samples = 1049</text>\n",
       "<text text-anchor=\"start\" x=\"178.5\" y=\"-22.8\" font-family=\"Helvetica,sans-Serif\" font-size=\"14.00\" fill=\"#000000\">value = [100, 949]</text>\n",
       "<text text-anchor=\"start\" x=\"199.5\" y=\"-7.8\" font-family=\"Helvetica,sans-Serif\" font-size=\"14.00\" fill=\"#000000\">class = a</text>\n",
       "</g>\n",
       "<!-- 5&#45;&gt;6 -->\n",
       "<g id=\"edge6\" class=\"edge\">\n",
       "<title>5&#45;&gt;6</title>\n",
       "<path fill=\"none\" stroke=\"#000000\" d=\"M256.2753,-103.9815C251.8119,-95.2504 247.0933,-86.0202 242.5987,-77.2281\"/>\n",
       "<polygon fill=\"#000000\" stroke=\"#000000\" points=\"245.6842,-75.5745 238.016,-68.2637 239.4514,-78.7608 245.6842,-75.5745\"/>\n",
       "</g>\n",
       "<!-- 7 -->\n",
       "<g id=\"node8\" class=\"node\">\n",
       "<title>7</title>\n",
       "<path fill=\"#3a9de5\" stroke=\"#000000\" d=\"M366.5,-68C366.5,-68 300.5,-68 300.5,-68 294.5,-68 288.5,-62 288.5,-56 288.5,-56 288.5,-12 288.5,-12 288.5,-6 294.5,0 300.5,0 300.5,0 366.5,0 366.5,0 372.5,0 378.5,-6 378.5,-12 378.5,-12 378.5,-56 378.5,-56 378.5,-62 372.5,-68 366.5,-68\"/>\n",
       "<text text-anchor=\"start\" x=\"296.5\" y=\"-52.8\" font-family=\"Helvetica,sans-Serif\" font-size=\"14.00\" fill=\"#000000\">entropy = 0.041</text>\n",
       "<text text-anchor=\"start\" x=\"299\" y=\"-37.8\" font-family=\"Helvetica,sans-Serif\" font-size=\"14.00\" fill=\"#000000\">samples = 228</text>\n",
       "<text text-anchor=\"start\" x=\"297\" y=\"-22.8\" font-family=\"Helvetica,sans-Serif\" font-size=\"14.00\" fill=\"#000000\">value = [1, 227]</text>\n",
       "<text text-anchor=\"start\" x=\"312.5\" y=\"-7.8\" font-family=\"Helvetica,sans-Serif\" font-size=\"14.00\" fill=\"#000000\">class = a</text>\n",
       "</g>\n",
       "<!-- 5&#45;&gt;7 -->\n",
       "<g id=\"edge7\" class=\"edge\">\n",
       "<title>5&#45;&gt;7</title>\n",
       "<path fill=\"none\" stroke=\"#000000\" d=\"M298.3523,-103.9815C302.7375,-95.2504 307.3733,-86.0202 311.789,-77.2281\"/>\n",
       "<polygon fill=\"#000000\" stroke=\"#000000\" points=\"314.9308,-78.7708 316.2913,-68.2637 308.6754,-75.6291 314.9308,-78.7708\"/>\n",
       "</g>\n",
       "</g>\n",
       "</svg>\n"
      ],
      "text/plain": [
       "<graphviz.files.Source at 0x147add898>"
      ]
     },
     "execution_count": 70,
     "metadata": {},
     "output_type": "execute_result"
    }
   ],
   "source": [
    "dot_data = export_graphviz(tree, out_file=None, feature_names=selected_ten_features, class_names=output, \n",
    "                           filled=True, rounded=True, special_characters=True)  \n",
    "graph = graphviz.Source(dot_data)  \n",
    "graph"
   ]
  },
  {
   "cell_type": "markdown",
   "metadata": {},
   "source": [
    "##### Evaluation of Decision Tree Classifier\n",
    "- Cross Validation\n",
    "- Accuraucy, MCC, Confusion Matrix, AUC"
   ]
  },
  {
   "cell_type": "markdown",
   "metadata": {},
   "source": [
    "**Cross Validation**"
   ]
  },
  {
   "cell_type": "code",
   "execution_count": 71,
   "metadata": {},
   "outputs": [],
   "source": [
    "# Initialize Decision Tree Classifier model\n",
    "tree = DecisionTreeClassifier(criterion='entropy', # Entropy and information gain\n",
    "                              max_depth=7, # Stopping condition: maximum tree depth\n",
    "                              min_samples_split=30, # Stopping condition: Minimum number of samples required to split an internal node\n",
    "                              min_samples_leaf=10, # Stopping condition: Minimum number of samples required to be at a leaf node\n",
    "                              min_impurity_decrease=0.005, # Stopping condition: A node will be split if this split induces a decrease of the impurity greater than or equal to this value\n",
    "                              random_state=1234 # Set seed to 1234\n",
    "                             )"
   ]
  },
  {
   "cell_type": "code",
   "execution_count": 72,
   "metadata": {
    "scrolled": true
   },
   "outputs": [
    {
     "data": {
      "image/png": "[encoded data removed]",
      "text/plain": [
       "<Figure size 864x288 with 2 Axes>"
      ]
     },
     "metadata": {
      "needs_background": "light"
     },
     "output_type": "display_data"
    }
   ],
   "source": [
    "results = cross_validation_smote(5, X_train_scaled_r.values, y_train_r.values, tree)\n"
   ]
  },
  {
   "cell_type": "code",
   "execution_count": 73,
   "metadata": {},
   "outputs": [
    {
     "name": "stdout",
     "output_type": "stream",
     "text": [
      "Cross Validation Results\n",
      "accuracy: 0.8687919538322225\n",
      "recall_score: 0.9842105263157895\n",
      "precision: 0.5494164226693293\n",
      "f1_score: 0.7050415707705797\n",
      "roc_auc_score: 0.9155679744155025\n",
      "mcc: 0.6735809717133252\n"
     ]
    }
   ],
   "source": [
    "print(\"Cross Validation Results\")\n",
    "\n",
    "for key in results:\n",
    "    print(\"{0}: {1}\".format(key, np.mean(results[key])))\n"
   ]
  },
  {
   "cell_type": "markdown",
   "metadata": {},
   "source": [
    "**Test Results**"
   ]
  },
  {
   "cell_type": "code",
   "execution_count": 74,
   "metadata": {},
   "outputs": [],
   "source": [
    "# Initialize Decision Tree Classifier model\n",
    "tree = DecisionTreeClassifier(criterion='entropy', # Entropy and information gain\n",
    "                              max_depth=7, # Stopping condition: maximum tree depth\n",
    "                              min_samples_split=30, # Stopping condition: Minimum number of samples required to split an internal node\n",
    "                              min_samples_leaf=10, # Stopping condition: Minimum number of samples required to be at a leaf node\n",
    "                              min_impurity_decrease=0.005, # Stopping condition: A node will be split if this split induces a decrease of the impurity greater than or equal to this value\n",
    "                              random_state=1234 # Set seed to 1234\n",
    "                             )"
   ]
  },
  {
   "cell_type": "code",
   "execution_count": 75,
   "metadata": {},
   "outputs": [
    {
     "data": {
      "text/plain": [
       "DecisionTreeClassifier(class_weight=None, criterion='entropy', max_depth=7,\n",
       "                       max_features=None, max_leaf_nodes=None,\n",
       "                       min_impurity_decrease=0.005, min_impurity_split=None,\n",
       "                       min_samples_leaf=10, min_samples_split=30,\n",
       "                       min_weight_fraction_leaf=0.0, presort=False,\n",
       "                       random_state=1234, splitter='best')"
      ]
     },
     "execution_count": 75,
     "metadata": {},
     "output_type": "execute_result"
    }
   ],
   "source": [
    "tree.fit(sm_X_train_r, sm_y_train_r)"
   ]
  },
  {
   "cell_type": "code",
   "execution_count": 76,
   "metadata": {},
   "outputs": [],
   "source": [
    "y_pred_tree = tree.predict(X_test_scaled_r)"
   ]
  },
  {
   "cell_type": "code",
   "execution_count": 77,
   "metadata": {},
   "outputs": [
    {
     "name": "stdout",
     "output_type": "stream",
     "text": [
      "[[423  81]\n",
      " [  4  91]]\n",
      "423 81 4 91\n"
     ]
    }
   ],
   "source": [
    "# Create confusion matrix\n",
    "cm = confusion_matrix(y_test_r, y_pred_tree)\n",
    "TN, FP, FN, TP = cm.ravel()\n",
    "print (cm)\n",
    "print (TN, FP, FN, TP)"
   ]
  },
  {
   "cell_type": "code",
   "execution_count": 78,
   "metadata": {},
   "outputs": [
    {
     "name": "stdout",
     "output_type": "stream",
     "text": [
      "Accuracy:  0.8580968280467446\n",
      "Sensitivity:  0.9578947368421052\n",
      "Precision:  0.5290697674418605\n",
      "f1 Score:  0.6816479400749065\n",
      "ROC_AUC_Score: 0.8985902255639098\n",
      "MCC:  0.6436585611363641\n"
     ]
    }
   ],
   "source": [
    "# Performance of Logistic Regression with L1\n",
    "print (\"Accuracy: \", accuracy_score(y_test_r, y_pred_tree))\n",
    "print(\"Sensitivity: \", recall_score(y_test_r, y_pred_tree))\n",
    "print(\"Precision: \", precision_score(y_test_r, y_pred_tree))\n",
    "print (\"f1 Score: \", f1_score(y_test_r, y_pred_tree))\n",
    "print(\"ROC_AUC_Score:\", roc_auc_score(y_test_r, y_pred_tree))\n",
    "print(\"MCC: \", matthews_corrcoef(y_test_r, y_pred_tree))\n"
   ]
  },
  {
   "cell_type": "code",
   "execution_count": 79,
   "metadata": {},
   "outputs": [
    {
     "data": {
      "image/png": "[encoded data removed]",
      "text/plain": [
       "<Figure size 1080x360 with 3 Axes>"
      ]
     },
     "metadata": {
      "needs_background": "light"
     },
     "output_type": "display_data"
    }
   ],
   "source": [
    "cm_and_roc(cm, [0, 1], y_test_r, y_pred_tree, figsize = (15,5), fontsize=12)\n",
    "\n"
   ]
  },
  {
   "cell_type": "markdown",
   "metadata": {},
   "source": [
    "#### 4.2.3 XGBoost"
   ]
  },
  {
   "cell_type": "code",
   "execution_count": 80,
   "metadata": {},
   "outputs": [],
   "source": [
    "# Initialize XGBoost\n",
    "xgboost = xgb.XGBClassifier(n_estimators=500, \n",
    "                            random_state=1234,\n",
    "                            max_depth=7, \n",
    "                            reg_alpha=1, \n",
    "                            reg_lambda=2,\n",
    "                            gamma=1,\n",
    "                            min_child_weight=5\n",
    "                           )\n"
   ]
  },
  {
   "cell_type": "markdown",
   "metadata": {},
   "source": [
    "##### Evaluation of Decision Tree Classifier\n",
    "- Cross Validation\n",
    "- Accuraucy, MCC, Confusion Matrix, AUC"
   ]
  },
  {
   "cell_type": "markdown",
   "metadata": {},
   "source": [
    "**Cross Validation**"
   ]
  },
  {
   "cell_type": "code",
   "execution_count": 81,
   "metadata": {
    "scrolled": false
   },
   "outputs": [
    {
     "data": {
      "image/png": "[encoded data removed]",
      "text/plain": [
       "<Figure size 864x288 with 2 Axes>"
      ]
     },
     "metadata": {
      "needs_background": "light"
     },
     "output_type": "display_data"
    }
   ],
   "source": [
    "results = cross_validation_smote(5, X_train_scaled_r.values, y_train_r.values, xgboost)\n"
   ]
  },
  {
   "cell_type": "code",
   "execution_count": 82,
   "metadata": {},
   "outputs": [
    {
     "name": "stdout",
     "output_type": "stream",
     "text": [
      "Cross Validation Results\n",
      "accuracy: 0.8825794236598213\n",
      "recall_score: 0.8556390977443609\n",
      "precision: 0.591049937971831\n",
      "f1_score: 0.6990048992880308\n",
      "roc_auc_score: 0.8716586659419188\n",
      "mcc: 0.6458248426306537\n"
     ]
    }
   ],
   "source": [
    "print(\"Cross Validation Results\")\n",
    "\n",
    "for key in results:\n",
    "    print(\"{0}: {1}\".format(key, np.mean(results[key])))\n"
   ]
  },
  {
   "cell_type": "markdown",
   "metadata": {},
   "source": [
    "**Test Results**"
   ]
  },
  {
   "cell_type": "code",
   "execution_count": 83,
   "metadata": {},
   "outputs": [],
   "source": [
    "# Initialize XGBoost\n",
    "xgboost = xgb.XGBClassifier(n_estimators=500, \n",
    "                            random_state=1234,\n",
    "                            max_depth=7, \n",
    "                            reg_alpha=1, \n",
    "                            reg_lambda=2,\n",
    "                            gamma=1,\n",
    "                            min_child_weight=5\n",
    "                           )\n"
   ]
  },
  {
   "cell_type": "code",
   "execution_count": 84,
   "metadata": {},
   "outputs": [
    {
     "data": {
      "text/plain": [
       "XGBClassifier(base_score=0.5, booster='gbtree', colsample_bylevel=1,\n",
       "              colsample_bynode=1, colsample_bytree=1, gamma=1,\n",
       "              learning_rate=0.1, max_delta_step=0, max_depth=7,\n",
       "              min_child_weight=5, missing=None, n_estimators=500, n_jobs=1,\n",
       "              nthread=None, objective='binary:logistic', random_state=1234,\n",
       "              reg_alpha=1, reg_lambda=2, scale_pos_weight=1, seed=None,\n",
       "              silent=None, subsample=1, verbosity=1)"
      ]
     },
     "execution_count": 84,
     "metadata": {},
     "output_type": "execute_result"
    }
   ],
   "source": [
    "xgboost.fit(sm_X_train_r, sm_y_train_r)"
   ]
  },
  {
   "cell_type": "code",
   "execution_count": 85,
   "metadata": {},
   "outputs": [],
   "source": [
    "y_pred_xgb = xgboost.predict(X_test_scaled_r.values)"
   ]
  },
  {
   "cell_type": "code",
   "execution_count": 86,
   "metadata": {},
   "outputs": [
    {
     "name": "stdout",
     "output_type": "stream",
     "text": [
      "[[448  56]\n",
      " [ 21  74]]\n",
      "448 56 21 74\n"
     ]
    }
   ],
   "source": [
    "# Create confusion matrix\n",
    "cm = confusion_matrix(y_test_r, y_pred_xgb)\n",
    "TN, FP, FN, TP = cm.ravel()\n",
    "print (cm)\n",
    "print (TN, FP, FN, TP)"
   ]
  },
  {
   "cell_type": "code",
   "execution_count": 87,
   "metadata": {},
   "outputs": [
    {
     "name": "stdout",
     "output_type": "stream",
     "text": [
      "Accuracy:  0.8714524207011686\n",
      "Sensitivity:  0.7789473684210526\n",
      "Precision:  0.5692307692307692\n",
      "f1 Score:  0.6577777777777778\n",
      "ROC_AUC_Score: 0.8339181286549707\n",
      "MCC:  0.5918190859289546\n"
     ]
    }
   ],
   "source": [
    "# Performance of Logistic Regression with L1\n",
    "print (\"Accuracy: \", accuracy_score(y_test_r, y_pred_xgb))\n",
    "print(\"Sensitivity: \", recall_score(y_test_r, y_pred_xgb))\n",
    "print(\"Precision: \", precision_score(y_test_r, y_pred_xgb))\n",
    "print (\"f1 Score: \", f1_score(y_test_r, y_pred_xgb))\n",
    "print(\"ROC_AUC_Score:\", roc_auc_score(y_test_r, y_pred_xgb))\n",
    "print(\"MCC: \", matthews_corrcoef(y_test_r, y_pred_xgb))\n"
   ]
  },
  {
   "cell_type": "code",
   "execution_count": 88,
   "metadata": {},
   "outputs": [
    {
     "data": {
      "image/png": "[encoded data removed]",
      "text/plain": [
       "<Figure size 1080x360 with 3 Axes>"
      ]
     },
     "metadata": {
      "needs_background": "light"
     },
     "output_type": "display_data"
    }
   ],
   "source": [
    "cm_and_roc(cm, [0, 1], y_test_r, y_pred_xgb, figsize = (15,5), fontsize=12)\n",
    "\n"
   ]
  },
  {
   "cell_type": "markdown",
   "metadata": {},
   "source": [
    "# Lasso-reduced model"
   ]
  },
  {
   "cell_type": "markdown",
   "metadata": {},
   "source": [
    "Let's now try to use a statistical approach to select the variables."
   ]
  },
  {
   "cell_type": "markdown",
   "metadata": {},
   "source": [
    "## Question 5"
   ]
  },
  {
   "cell_type": "markdown",
   "metadata": {},
   "source": [
    "(a) (2 points) Calculate the accuracy and MCC of the LASSO approach, and compare it to previous methods. Apply the LASSO to the default response variable (1 or 0), and the entire set of 70 attributes, and constrain the model to have at most ten attributes in it. Find the best lambda. Let's call this the LASSO-MODEL.\n",
    "<br>\n",
    "<br>\n",
    "Which attributes are those?\n",
    "<br>\n",
    "<br>\n",
    "Compute the method's accuracy and MCC using 5-fold cross validation"
   ]
  },
  {
   "cell_type": "code",
   "execution_count": 89,
   "metadata": {},
   "outputs": [],
   "source": [
    "# Initialize logistic regression model with L1 penalty: Lasso model\n",
    "lr_1 = LogisticRegression(fit_intercept=True, penalty='l1', random_state=1234)\n"
   ]
  },
  {
   "cell_type": "markdown",
   "metadata": {},
   "source": [
    "### 5.1 Find the best regularization parameter that limits to at most 10 coefficients"
   ]
  },
  {
   "cell_type": "code",
   "execution_count": 90,
   "metadata": {},
   "outputs": [
    {
     "data": {
      "text/plain": [
       "array([1.00000000e-03, 1.02807322e-03, 1.05693455e-03, 1.08660611e-03,\n",
       "       1.11711065e-03, 1.14847155e-03, 1.18071285e-03, 1.21385926e-03,\n",
       "       1.24793621e-03, 1.28296980e-03, 1.31898690e-03, 1.35601511e-03,\n",
       "       1.39408283e-03, 1.43321923e-03, 1.47345431e-03, 1.51481892e-03,\n",
       "       1.55734477e-03, 1.60106446e-03, 1.64601150e-03, 1.69222035e-03,\n",
       "       1.73972643e-03, 1.78856616e-03, 1.83877698e-03, 1.89039738e-03,\n",
       "       1.94346693e-03, 1.99802631e-03, 2.05411735e-03, 2.11178304e-03,\n",
       "       2.17106760e-03, 2.23201647e-03, 2.29467637e-03, 2.35909533e-03,\n",
       "       2.42532274e-03, 2.49340937e-03, 2.56340741e-03, 2.63537052e-03,\n",
       "       2.70935387e-03, 2.78541416e-03, 2.86360972e-03, 2.94400048e-03,\n",
       "       3.02664806e-03, 3.11161583e-03, 3.19896892e-03, 3.28877429e-03,\n",
       "       3.38110078e-03, 3.47601918e-03, 3.57360225e-03, 3.67392478e-03,\n",
       "       3.77706369e-03, 3.88309805e-03, 3.99210913e-03, 4.10418050e-03,\n",
       "       4.21939808e-03, 4.33785019e-03, 4.45962763e-03, 4.58482375e-03,\n",
       "       4.71353453e-03, 4.84585864e-03, 4.98189752e-03, 5.12175544e-03,\n",
       "       5.26553963e-03, 5.41336030e-03, 5.56533078e-03, 5.72156756e-03,\n",
       "       5.88219040e-03, 6.04732245e-03, 6.21709029e-03, 6.39162405e-03,\n",
       "       6.57105755e-03, 6.75552832e-03, 6.94517777e-03, 7.14015130e-03,\n",
       "       7.34059837e-03, 7.54667263e-03, 7.75853206e-03, 7.97633907e-03,\n",
       "       8.20026062e-03, 8.43046837e-03, 8.66713880e-03, 8.91045332e-03,\n",
       "       9.16059848e-03, 9.41776601e-03, 9.68215306e-03, 9.95396231e-03,\n",
       "       1.02334021e-02, 1.05206867e-02, 1.08160363e-02, 1.11196773e-02,\n",
       "       1.14318425e-02, 1.17527712e-02, 1.20827094e-02, 1.24219100e-02,\n",
       "       1.27706330e-02, 1.31291459e-02, 1.34977233e-02, 1.38766479e-02,\n",
       "       1.42662102e-02, 1.46667087e-02, 1.50784505e-02, 1.55017512e-02,\n",
       "       1.59369353e-02, 1.63843365e-02, 1.68442976e-02, 1.73171713e-02,\n",
       "       1.78033202e-02, 1.83031168e-02, 1.88169442e-02, 1.93451965e-02,\n",
       "       1.98882786e-02, 2.04466067e-02, 2.10206088e-02, 2.16107251e-02,\n",
       "       2.22174078e-02, 2.28411221e-02, 2.34823460e-02, 2.41415712e-02,\n",
       "       2.48193029e-02, 2.55160607e-02, 2.62323788e-02, 2.69688063e-02,\n",
       "       2.77259076e-02, 2.85042632e-02, 2.93044698e-02, 3.01271407e-02,\n",
       "       3.09729067e-02, 3.18424160e-02, 3.27363353e-02, 3.36553498e-02,\n",
       "       3.46001639e-02, 3.55715021e-02, 3.65701088e-02, 3.75967497e-02,\n",
       "       3.86522116e-02, 3.97373038e-02, 4.08528580e-02, 4.19997295e-02,\n",
       "       4.31787973e-02, 4.43909653e-02, 4.56371628e-02, 4.69183451e-02,\n",
       "       4.82354943e-02, 4.95896201e-02, 5.09817606e-02, 5.24129830e-02,\n",
       "       5.38843844e-02, 5.53970928e-02, 5.69522678e-02, 5.85511016e-02,\n",
       "       6.01948197e-02, 6.18846824e-02, 6.36219849e-02, 6.54080591e-02,\n",
       "       6.72442742e-02, 6.91320378e-02, 7.10727970e-02, 7.30680395e-02,\n",
       "       7.51192949e-02, 7.72281357e-02, 7.93961785e-02, 8.16250851e-02,\n",
       "       8.39165644e-02, 8.62723729e-02, 8.86943166e-02, 9.11842520e-02,\n",
       "       9.37440879e-02, 9.63757866e-02, 9.90813657e-02, 1.01862899e-01,\n",
       "       1.04722519e-01, 1.07662418e-01, 1.10684849e-01, 1.13792129e-01,\n",
       "       1.16986641e-01, 1.20270833e-01, 1.23647224e-01, 1.27118400e-01,\n",
       "       1.30687023e-01, 1.34355829e-01, 1.38127630e-01, 1.42005318e-01,\n",
       "       1.45991865e-01, 1.50090328e-01, 1.54303847e-01, 1.58635653e-01,\n",
       "       1.63089068e-01, 1.67667503e-01, 1.72374471e-01, 1.77213578e-01,\n",
       "       1.82188534e-01, 1.87303154e-01, 1.92561357e-01, 1.97967175e-01,\n",
       "       2.03524752e-01, 2.09238348e-01, 2.15112343e-01, 2.21151240e-01,\n",
       "       2.27359668e-01, 2.33742387e-01, 2.40304289e-01, 2.47050406e-01,\n",
       "       2.53985907e-01, 2.61116110e-01, 2.68446481e-01, 2.75982639e-01,\n",
       "       2.83730362e-01, 2.91695588e-01, 2.99884423e-01, 3.08303146e-01,\n",
       "       3.16958209e-01, 3.25856248e-01, 3.35004083e-01, 3.44408728e-01,\n",
       "       3.54077391e-01, 3.64017485e-01, 3.74236629e-01, 3.84742658e-01,\n",
       "       3.95543624e-01, 4.06647809e-01, 4.18063724e-01, 4.29800121e-01,\n",
       "       4.41865996e-01, 4.54270599e-01, 4.67023439e-01, 4.80134292e-01,\n",
       "       4.93613210e-01, 5.07470524e-01, 5.21716858e-01, 5.36363132e-01,\n",
       "       5.51420574e-01, 5.66900727e-01, 5.82815458e-01, 5.99176967e-01,\n",
       "       6.15997796e-01, 6.33290840e-01, 6.51069356e-01, 6.69346971e-01,\n",
       "       6.88137699e-01, 7.07455942e-01, 7.27316511e-01, 7.47734631e-01,\n",
       "       7.68725952e-01, 7.90306568e-01, 8.12493021e-01, 8.35302320e-01,\n",
       "       8.58751948e-01, 8.82859884e-01, 9.07644607e-01, 9.33125118e-01,\n",
       "       9.59320948e-01, 9.86252179e-01, 1.01393946e+00, 1.04240401e+00,\n",
       "       1.07166765e+00, 1.10175281e+00, 1.13268257e+00, 1.16448062e+00,\n",
       "       1.19717134e+00, 1.23077980e+00, 1.26533176e+00, 1.30085370e+00,\n",
       "       1.33737286e+00, 1.37491723e+00, 1.41351558e+00, 1.45319752e+00,\n",
       "       1.49399346e+00, 1.53593468e+00, 1.57905331e+00, 1.62338243e+00,\n",
       "       1.66895601e+00, 1.71580899e+00, 1.76397728e+00, 1.81349780e+00,\n",
       "       1.86440853e+00, 1.91674849e+00, 1.97055780e+00, 2.02587771e+00,\n",
       "       2.08275063e+00, 2.14122015e+00, 2.20133111e+00, 2.26312957e+00,\n",
       "       2.32666291e+00, 2.39197984e+00, 2.45913043e+00, 2.52816614e+00,\n",
       "       2.59913992e+00, 2.67210616e+00, 2.74712079e+00, 2.82424133e+00,\n",
       "       2.90352688e+00, 2.98503825e+00, 3.06883789e+00, 3.15499006e+00,\n",
       "       3.24356081e+00, 3.33461802e+00, 3.42823149e+00, 3.52447300e+00,\n",
       "       3.62341632e+00, 3.72513730e+00, 3.82971391e+00, 3.93722633e+00,\n",
       "       4.04775697e+00, 4.16139055e+00, 4.27821420e+00, 4.39831747e+00,\n",
       "       4.52179242e+00, 4.64873371e+00, 4.77923865e+00, 4.91340729e+00,\n",
       "       5.05134247e+00, 5.19314994e+00, 5.33893840e+00, 5.48881961e+00,\n",
       "       5.64290847e+00, 5.80132310e+00, 5.96418495e+00, 6.13161884e+00,\n",
       "       6.30375315e+00, 6.48071983e+00, 6.66265452e+00, 6.84969672e+00,\n",
       "       7.04198979e+00, 7.23968114e+00, 7.44292233e+00, 7.65186915e+00,\n",
       "       7.86668179e+00, 8.08752491e+00, 8.31456781e+00, 8.54798453e+00,\n",
       "       8.78795401e+00, 9.03466021e+00, 9.28829225e+00, 9.54904456e+00,\n",
       "       9.81711702e+00, 1.00927151e+01, 1.03760502e+01, 1.06673394e+01,\n",
       "       1.09668060e+01, 1.12746796e+01, 1.15911962e+01, 1.19165984e+01,\n",
       "       1.22511358e+01, 1.25950646e+01, 1.29486487e+01, 1.33121590e+01,\n",
       "       1.36858742e+01, 1.40700809e+01, 1.44650734e+01, 1.48711546e+01,\n",
       "       1.52886359e+01, 1.57178372e+01, 1.61590875e+01, 1.66127252e+01,\n",
       "       1.70790980e+01, 1.75585633e+01, 1.80514888e+01, 1.85582523e+01,\n",
       "       1.90792422e+01, 1.96148581e+01, 2.01655104e+01, 2.07316213e+01,\n",
       "       2.13136247e+01, 2.19119669e+01, 2.25271064e+01, 2.31595149e+01,\n",
       "       2.38096772e+01, 2.44780916e+01, 2.51652705e+01, 2.58717408e+01,\n",
       "       2.65980440e+01, 2.73447368e+01, 2.81123917e+01, 2.89015972e+01,\n",
       "       2.97129582e+01, 3.05470967e+01, 3.14046522e+01, 3.22862820e+01,\n",
       "       3.31926620e+01, 3.41244871e+01, 3.50824714e+01, 3.60673495e+01,\n",
       "       3.70798763e+01, 3.81208280e+01, 3.91910025e+01, 4.02912203e+01,\n",
       "       4.14223247e+01, 4.25851829e+01, 4.37806863e+01, 4.50097513e+01,\n",
       "       4.62733201e+01, 4.75723614e+01, 4.89078709e+01, 5.02808725e+01,\n",
       "       5.16924187e+01, 5.31435916e+01, 5.46355035e+01, 5.61692982e+01,\n",
       "       5.77461515e+01, 5.93672722e+01, 6.10339029e+01, 6.27473213e+01,\n",
       "       6.45088409e+01, 6.63198120e+01, 6.81816229e+01, 7.00957009e+01,\n",
       "       7.20635132e+01, 7.40865683e+01, 7.61664172e+01, 7.83046540e+01,\n",
       "       8.05029181e+01, 8.27628946e+01, 8.50863158e+01, 8.74749630e+01,\n",
       "       8.99306672e+01, 9.24553110e+01, 9.50508296e+01, 9.77192128e+01,\n",
       "       1.00462506e+02, 1.03282813e+02, 1.06182294e+02, 1.09163173e+02,\n",
       "       1.12227736e+02, 1.15378330e+02, 1.18617372e+02, 1.21947344e+02,\n",
       "       1.25370799e+02, 1.28890361e+02, 1.32508729e+02, 1.36228676e+02,\n",
       "       1.40053055e+02, 1.43984795e+02, 1.48026913e+02, 1.52182505e+02,\n",
       "       1.56454759e+02, 1.60846948e+02, 1.65362441e+02, 1.70004698e+02,\n",
       "       1.74777277e+02, 1.79683839e+02, 1.84728144e+02, 1.89914058e+02,\n",
       "       1.95245558e+02, 2.00726730e+02, 2.06361777e+02, 2.12155017e+02,\n",
       "       2.18110892e+02, 2.24233968e+02, 2.30528939e+02, 2.37000629e+02,\n",
       "       2.43654001e+02, 2.50494154e+02, 2.57526333e+02, 2.64755927e+02,\n",
       "       2.72188479e+02, 2.79829688e+02, 2.87685409e+02, 2.95761666e+02,\n",
       "       3.04064649e+02, 3.12600724e+02, 3.21376434e+02, 3.30398507e+02,\n",
       "       3.39673858e+02, 3.49209598e+02, 3.59013038e+02, 3.69091691e+02,\n",
       "       3.79453285e+02, 3.90105762e+02, 4.01057288e+02, 4.12316259e+02,\n",
       "       4.23891306e+02, 4.35791301e+02, 4.48025368e+02, 4.60602884e+02,\n",
       "       4.73533492e+02, 4.86827104e+02, 5.00493910e+02, 5.14544388e+02,\n",
       "       5.28989308e+02, 5.43839743e+02, 5.59107078e+02, 5.74803016e+02,\n",
       "       5.90939590e+02, 6.07529169e+02, 6.24584471e+02, 6.42118571e+02,\n",
       "       6.60144909e+02, 6.78677305e+02, 6.97729965e+02, 7.17317494e+02,\n",
       "       7.37454909e+02, 7.58157646e+02, 7.79441575e+02, 8.01323013e+02,\n",
       "       8.23818733e+02, 8.46945981e+02, 8.70722485e+02, 8.95166472e+02,\n",
       "       9.20296681e+02, 9.46132376e+02, 9.72693362e+02, 1.00000000e+03])"
      ]
     },
     "execution_count": 90,
     "metadata": {},
     "output_type": "execute_result"
    }
   ],
   "source": [
    "# A list of regularization parameters/lambdas\n",
    "lbd = np.logspace(-3, 3, 500)\n",
    "lbd"
   ]
  },
  {
   "cell_type": "markdown",
   "metadata": {},
   "source": [
    "#### 5.1.1 Identify lambda that leads to at most 10 coefficients"
   ]
  },
  {
   "cell_type": "code",
   "execution_count": 91,
   "metadata": {},
   "outputs": [],
   "source": [
    "coefs = []\n",
    "parameters = []\n",
    "\n",
    "# Train the model with different regularization strengths\n",
    "for a in lbd:\n",
    "    lr_1.set_params(C=1/a) # Note that C is inverse value of regalurization factor lambda\n",
    "    lr_1.fit(sm_X_train, sm_y_train)\n",
    "    coefficients = lr_1.coef_[0]\n",
    "    count = len(list(filter(lambda f: f!=0, coefficients)))\n",
    "    \n",
    "    if count <= 10:\n",
    "        coefs.append(coefficients)\n",
    "        parameters.append(a)\n",
    "    "
   ]
  },
  {
   "cell_type": "code",
   "execution_count": 92,
   "metadata": {
    "scrolled": true
   },
   "outputs": [
    {
     "data": {
      "text/plain": [
       "[64.508840892677,\n",
       " 66.31981202212675,\n",
       " 68.18162294944479,\n",
       " 70.09570091165618,\n",
       " 72.06351321293045,\n",
       " 74.08656834939568,\n",
       " 76.16641716552891,\n",
       " 78.30465404301182,\n",
       " 80.50291812295973,\n",
       " 82.76289456246352,\n",
       " 85.08631582640582,\n",
       " 87.47496301554415,\n",
       " 89.93066723187614,\n",
       " 92.4553109823358,\n",
       " 95.05082962189512,\n",
       " 97.71921283717997,\n",
       " 100.46250617173403,\n",
       " 103.28281259410296,\n",
       " 106.18229410993847,\n",
       " 109.16317341936147,\n",
       " 112.22773562085071,\n",
       " 115.37832996296596,\n",
       " 118.61737164524791,\n",
       " 121.94734366967383,\n",
       " 125.37079874409197,\n",
       " 128.89036123908915,\n",
       " 132.5087291997954,\n",
       " 136.22867641416468,\n",
       " 140.05305453932198,\n",
       " 143.98479528760066,\n",
       " 148.02691267395102,\n",
       " 152.1825053264387,\n",
       " 156.45475886160958,\n",
       " 160.8469483265355,\n",
       " 165.36244070941822,\n",
       " 170.0046975206718,\n",
       " 174.77727744646808,\n",
       " 179.68383907677193,\n",
       " 184.7281437099636,\n",
       " 189.91405823619354,\n",
       " 195.2455581016861,\n",
       " 200.72673035625684,\n",
       " 206.36177678638566,\n",
       " 212.15501713624525,\n",
       " 218.11089241915198,\n",
       " 224.2339683219845,\n",
       " 230.52893870517062,\n",
       " 237.00062920093305,\n",
       " 243.6540009125466,\n",
       " 250.49415421745024,\n",
       " 257.52633267711985,\n",
       " 264.7559270567069,\n",
       " 272.188479457518,\n",
       " 279.82968756551156,\n",
       " 287.68540901905914,\n",
       " 295.76166589932564,\n",
       " 304.06464934670686,\n",
       " 312.60072430687035,\n",
       " 321.37643441002757,\n",
       " 330.3985069871855,\n",
       " 339.67385822722093,\n",
       " 349.2095984787271,\n",
       " 359.01303770070683,\n",
       " 369.09169106627746,\n",
       " 379.4532847236942,\n",
       " 390.10576171909935,\n",
       " 401.0572880855496,\n",
       " 412.3162591029748,\n",
       " 423.8913057338783,\n",
       " 435.791301239703,\n",
       " 448.025367982949,\n",
       " 460.60288442023983,\n",
       " 473.5334922917121,\n",
       " 486.8271040122284,\n",
       " 500.49391027009534,\n",
       " 514.5443878390925,\n",
       " 528.9893076098145,\n",
       " 543.8397428464801,\n",
       " 559.1070776755294,\n",
       " 574.8030158125351,\n",
       " 590.9395895340965,\n",
       " 607.5291689016077,\n",
       " 624.5844712439618,\n",
       " 642.1185709064758,\n",
       " 660.1449092734883,\n",
       " 678.6773050723302,\n",
       " 697.7299649665538,\n",
       " 717.3174944465612,\n",
       " 737.4549090259546,\n",
       " 758.1576457522118,\n",
       " 779.4415750404951,\n",
       " 801.3230128396887,\n",
       " 823.8187331399602,\n",
       " 846.9459808314593,\n",
       " 870.7224849239922,\n",
       " 895.1664721378302,\n",
       " 920.296680876041,\n",
       " 946.132375589076,\n",
       " 972.6933615426178,\n",
       " 1000.0]"
      ]
     },
     "execution_count": 92,
     "metadata": {},
     "output_type": "execute_result"
    }
   ],
   "source": [
    "parameters"
   ]
  },
  {
   "cell_type": "code",
   "execution_count": 93,
   "metadata": {},
   "outputs": [
    {
     "data": {
      "text/plain": [
       "100"
      ]
     },
     "execution_count": 93,
     "metadata": {},
     "output_type": "execute_result"
    }
   ],
   "source": [
    "len(parameters)"
   ]
  },
  {
   "cell_type": "markdown",
   "metadata": {},
   "source": [
    "#### 5.1.2 Find optimal lambda"
   ]
  },
  {
   "cell_type": "code",
   "execution_count": 94,
   "metadata": {},
   "outputs": [
    {
     "name": "stdout",
     "output_type": "stream",
     "text": [
      "64.508840892677 66.31981202212675\n"
     ]
    }
   ],
   "source": [
    "# Roughly find range of lambdas that limit to 10 features\n",
    "lower_index, upper_index = 0, 0\n",
    "for i in range(len(coefs)):\n",
    "    if len(list(filter(lambda f: f!=0, coefs[i+1]))) == 10:\n",
    "        lower_index, upper_index = i, i+1\n",
    "        break\n",
    "        \n",
    "print(parameters[lower_index], parameters[upper_index])"
   ]
  },
  {
   "cell_type": "code",
   "execution_count": 95,
   "metadata": {},
   "outputs": [],
   "source": [
    "low_range, high_range = parameters[lower_index], parameters[upper_index]"
   ]
  },
  {
   "cell_type": "code",
   "execution_count": 96,
   "metadata": {},
   "outputs": [
    {
     "data": {
      "text/plain": [
       "array([64.50884089, 64.52713353, 64.54542617, 64.56371881, 64.58201144,\n",
       "       64.60030408, 64.61859672, 64.63688936, 64.65518199, 64.67347463,\n",
       "       64.69176727, 64.71005991, 64.72835254, 64.74664518, 64.76493782,\n",
       "       64.78323046, 64.8015231 , 64.81981573, 64.83810837, 64.85640101,\n",
       "       64.87469365, 64.89298628, 64.91127892, 64.92957156, 64.9478642 ,\n",
       "       64.96615683, 64.98444947, 65.00274211, 65.02103475, 65.03932739,\n",
       "       65.05762002, 65.07591266, 65.0942053 , 65.11249794, 65.13079057,\n",
       "       65.14908321, 65.16737585, 65.18566849, 65.20396112, 65.22225376,\n",
       "       65.2405464 , 65.25883904, 65.27713167, 65.29542431, 65.31371695,\n",
       "       65.33200959, 65.35030223, 65.36859486, 65.3868875 , 65.40518014,\n",
       "       65.42347278, 65.44176541, 65.46005805, 65.47835069, 65.49664333,\n",
       "       65.51493596, 65.5332286 , 65.55152124, 65.56981388, 65.58810652,\n",
       "       65.60639915, 65.62469179, 65.64298443, 65.66127707, 65.6795697 ,\n",
       "       65.69786234, 65.71615498, 65.73444762, 65.75274025, 65.77103289,\n",
       "       65.78932553, 65.80761817, 65.82591081, 65.84420344, 65.86249608,\n",
       "       65.88078872, 65.89908136, 65.91737399, 65.93566663, 65.95395927,\n",
       "       65.97225191, 65.99054454, 66.00883718, 66.02712982, 66.04542246,\n",
       "       66.06371509, 66.08200773, 66.10030037, 66.11859301, 66.13688565,\n",
       "       66.15517828, 66.17347092, 66.19176356, 66.2100562 , 66.22834883,\n",
       "       66.24664147, 66.26493411, 66.28322675, 66.30151938, 66.31981202])"
      ]
     },
     "execution_count": 96,
     "metadata": {},
     "output_type": "execute_result"
    }
   ],
   "source": [
    "# Create multiple regularization strength paramaters: lambdas\n",
    "lbd = np.linspace(low_range, high_range, 100)\n",
    "lbd"
   ]
  },
  {
   "cell_type": "code",
   "execution_count": 97,
   "metadata": {},
   "outputs": [],
   "source": [
    "# Find lambdas that limit to exactly 10 coefficients\n",
    "lr_1 = LogisticRegression(fit_intercept=True, penalty='l1', random_state=1234)\n",
    "\n",
    "coefs = [] \n",
    "parameters = []\n",
    "\n",
    "# Train the model with different regularisation strengths\n",
    "for a in lbd:\n",
    "    lr_1.set_params(C=1/a) # Note that C is inverse value of regularization factor lambda\n",
    "    lr_1.fit(sm_X_train, sm_y_train)\n",
    "    coefficients = lr_1.coef_[0]\n",
    "    count = len(list(filter(lambda f: f!=0, coefficients)))\n",
    "    \n",
    "    if count == 10:\n",
    "        coefs.append(coefficients)\n",
    "        parameters.append(a)      "
   ]
  },
  {
   "cell_type": "code",
   "execution_count": 98,
   "metadata": {
    "scrolled": true
   },
   "outputs": [
    {
     "data": {
      "text/plain": [
       "[64.508840892677,\n",
       " 64.52713353034821,\n",
       " 64.54542616801942,\n",
       " 64.56371880569063,\n",
       " 64.58201144336184,\n",
       " 64.60030408103304,\n",
       " 64.61859671870425,\n",
       " 64.63688935637546,\n",
       " 64.65518199404667,\n",
       " 64.67347463171788,\n",
       " 64.6917672693891,\n",
       " 64.71005990706031,\n",
       " 64.72835254473152,\n",
       " 64.74664518240273,\n",
       " 64.76493782007394,\n",
       " 64.78323045774515,\n",
       " 64.80152309541636,\n",
       " 64.81981573308757,\n",
       " 64.83810837075877,\n",
       " 64.85640100842998,\n",
       " 64.87469364610119,\n",
       " 64.8929862837724,\n",
       " 64.91127892144361,\n",
       " 64.92957155911482,\n",
       " 64.94786419678603,\n",
       " 64.96615683445724,\n",
       " 64.98444947212845,\n",
       " 65.00274210979966,\n",
       " 65.02103474747086,\n",
       " 65.03932738514207,\n",
       " 65.0576200228133,\n",
       " 65.0759126604845,\n",
       " 65.09420529815571,\n",
       " 65.11249793582692,\n",
       " 65.13079057349813,\n",
       " 65.14908321116934,\n",
       " 65.16737584884055,\n",
       " 65.18566848651176,\n",
       " 65.20396112418297,\n",
       " 65.2588390371966,\n",
       " 65.36859486322385,\n",
       " 65.38688750089506,\n",
       " 65.40518013856627,\n",
       " 65.42347277623749,\n",
       " 65.4417654139087,\n",
       " 65.4600580515799,\n",
       " 65.47835068925112,\n",
       " 65.49664332692232,\n",
       " 65.51493596459353,\n",
       " 65.53322860226474,\n",
       " 65.55152123993595,\n",
       " 65.56981387760716,\n",
       " 65.58810651527837,\n",
       " 65.60639915294958,\n",
       " 65.62469179062079,\n",
       " 65.642984428292,\n",
       " 65.6612770659632,\n",
       " 65.67956970363441,\n",
       " 65.84420344267531,\n",
       " 65.86249608034652,\n",
       " 65.88078871801773,\n",
       " 65.89908135568893,\n",
       " 65.91737399336014,\n",
       " 65.93566663103135,\n",
       " 65.95395926870256,\n",
       " 65.97225190637377,\n",
       " 65.99054454404498,\n",
       " 66.00883718171619,\n",
       " 66.0271298193874,\n",
       " 66.0454224570586,\n",
       " 66.06371509472982,\n",
       " 66.08200773240102,\n",
       " 66.10030037007223,\n",
       " 66.11859300774344,\n",
       " 66.13688564541465,\n",
       " 66.15517828308587,\n",
       " 66.17347092075708,\n",
       " 66.19176355842829,\n",
       " 66.2100561960995,\n",
       " 66.22834883377071,\n",
       " 66.24664147144192,\n",
       " 66.26493410911313,\n",
       " 66.28322674678434,\n",
       " 66.30151938445555,\n",
       " 66.31981202212675]"
      ]
     },
     "execution_count": 98,
     "metadata": {},
     "output_type": "execute_result"
    }
   ],
   "source": [
    "parameters"
   ]
  },
  {
   "cell_type": "code",
   "execution_count": 99,
   "metadata": {},
   "outputs": [
    {
     "data": {
      "text/plain": [
       "85"
      ]
     },
     "execution_count": 99,
     "metadata": {},
     "output_type": "execute_result"
    }
   ],
   "source": [
    "len(parameters)"
   ]
  },
  {
   "cell_type": "code",
   "execution_count": 100,
   "metadata": {},
   "outputs": [],
   "source": [
    "# Create a n-fold cross validation\n",
    "def cross_validation_smote_no_plot(splits, X_train, y_train, classifier):\n",
    " \n",
    "    skf = StratifiedKFold(n_splits=splits,random_state=1234)    \n",
    "    accuracy = []\n",
    "    recall = []\n",
    "    precision = []\n",
    "    f1 = []\n",
    "    roc_auc = []\n",
    "    mcc = []\n",
    "    \n",
    "    for train_index, test_index in skf.split(X_train, y_train):\n",
    "        # train-test split in each fold\n",
    "        X_train_cv, X_test_cv = X_train[train_index], X_train[test_index]\n",
    "        y_train_cv, y_test_cv = y_train[train_index], y_train[test_index]\n",
    "        \n",
    "        # SMOTE oversampling on the training set of the fold \n",
    "        pipeline = make_pipeline_imb(SMOTE(random_state = 1234), classifier)\n",
    "        model = pipeline.fit(X_train_cv, y_train_cv)\n",
    "        y_pred = model.predict(X_test_cv)\n",
    "                \n",
    "        accuracy.append(accuracy_score(y_test_cv, y_pred))\n",
    "        recall.append(recall_score(y_test_cv, y_pred))\n",
    "        precision.append(precision_score(y_test_cv, y_pred))\n",
    "        f1.append(f1_score(y_test_cv, y_pred))\n",
    "        roc_auc.append(roc_auc_score(y_test_cv, y_pred))\n",
    "        mcc.append(matthews_corrcoef(y_test_cv, y_pred))\n",
    "        \n",
    "    result = {}\n",
    "    result[\"accuracy\"] = np.mean(accuracy)\n",
    "    result[\"recall_score\"] = np.mean(recall)\n",
    "    result[\"precision\"] = np.mean(precision)\n",
    "    result[\"f1_score\"] = np.mean(f1)\n",
    "    result[\"roc_auc_score\"] = np.mean(roc_auc)\n",
    "    result[\"mcc\"] = np.mean(mcc)  \n",
    "    \n",
    "    return result"
   ]
  },
  {
   "cell_type": "code",
   "execution_count": 101,
   "metadata": {},
   "outputs": [],
   "source": [
    "# NEW\n",
    "# Find the best lambda\n",
    "# Train the model with different lambdas, and find the best lambda\n",
    "lr_1 = LogisticRegression(fit_intercept=True, penalty='l1', random_state=1234)\n",
    "\n",
    "max_accuracy = 0\n",
    "best_lambda = 0\n",
    "\n",
    "for a in parameters:\n",
    "    lr_1.set_params(C=1/a) # Note that C is inverse value of regularization factor lambda\n",
    "    result = cross_validation_smote_no_plot(5, X_train_scaled_r.values, y_train_r.values, lr_1)\n",
    "    accuracy = result['accuracy']\n",
    "    \n",
    "    if accuracy >= max_accuracy:\n",
    "        max_accuracy = accuracy\n",
    "        best_lambda = a    "
   ]
  },
  {
   "cell_type": "code",
   "execution_count": 102,
   "metadata": {},
   "outputs": [
    {
     "name": "stdout",
     "output_type": "stream",
     "text": [
      "0.8537449009005862 65.51493596459353\n"
     ]
    }
   ],
   "source": [
    "print(max_accuracy, best_lambda)"
   ]
  },
  {
   "cell_type": "code",
   "execution_count": 103,
   "metadata": {},
   "outputs": [
    {
     "data": {
      "text/plain": [
       "array([64.50884089, 64.52713353, 64.54542617, 64.56371881, 64.58201144,\n",
       "       64.60030408, 64.61859672, 64.63688936, 64.65518199, 64.67347463,\n",
       "       64.69176727, 64.71005991, 64.72835254, 64.74664518, 64.76493782,\n",
       "       64.78323046, 64.8015231 , 64.81981573, 64.83810837, 64.85640101,\n",
       "       64.87469365, 64.89298628, 64.91127892, 64.92957156, 64.9478642 ,\n",
       "       64.96615683, 64.98444947, 65.00274211, 65.02103475, 65.03932739,\n",
       "       65.05762002, 65.07591266, 65.0942053 , 65.11249794, 65.13079057,\n",
       "       65.14908321, 65.16737585, 65.18566849, 65.20396112, 65.22225376,\n",
       "       65.2405464 , 65.25883904, 65.27713167, 65.29542431, 65.31371695,\n",
       "       65.33200959, 65.35030223, 65.36859486, 65.3868875 , 65.40518014,\n",
       "       65.42347278, 65.44176541, 65.46005805, 65.47835069, 65.49664333,\n",
       "       65.51493596, 65.5332286 , 65.55152124, 65.56981388, 65.58810652,\n",
       "       65.60639915, 65.62469179, 65.64298443, 65.66127707, 65.6795697 ,\n",
       "       65.69786234, 65.71615498, 65.73444762, 65.75274025, 65.77103289,\n",
       "       65.78932553, 65.80761817, 65.82591081, 65.84420344, 65.86249608,\n",
       "       65.88078872, 65.89908136, 65.91737399, 65.93566663, 65.95395927,\n",
       "       65.97225191, 65.99054454, 66.00883718, 66.02712982, 66.04542246,\n",
       "       66.06371509, 66.08200773, 66.10030037, 66.11859301, 66.13688565,\n",
       "       66.15517828, 66.17347092, 66.19176356, 66.2100562 , 66.22834883,\n",
       "       66.24664147, 66.26493411, 66.28322675, 66.30151938, 66.31981202])"
      ]
     },
     "execution_count": 103,
     "metadata": {},
     "output_type": "execute_result"
    }
   ],
   "source": [
    "lbd"
   ]
  },
  {
   "cell_type": "markdown",
   "metadata": {},
   "source": [
    "### 5.2 Evaluation of Lasso-reduced model\n",
    "- Cross Validation\n",
    "- Accuraucy, MCC, Confusion Matrix, AUC"
   ]
  },
  {
   "cell_type": "code",
   "execution_count": 104,
   "metadata": {},
   "outputs": [
    {
     "data": {
      "text/plain": [
       "65.51493596459353"
      ]
     },
     "execution_count": 104,
     "metadata": {},
     "output_type": "execute_result"
    }
   ],
   "source": [
    "best_lambda"
   ]
  },
  {
   "cell_type": "markdown",
   "metadata": {},
   "source": [
    "#### 5.2.1 Cross Validation"
   ]
  },
  {
   "cell_type": "code",
   "execution_count": 105,
   "metadata": {},
   "outputs": [],
   "source": [
    "# Logistic regression model:\n",
    "lasso = LogisticRegression(fit_intercept=True, penalty='l1', C=1/best_lambda, random_state=1234)"
   ]
  },
  {
   "cell_type": "code",
   "execution_count": 106,
   "metadata": {
    "scrolled": false
   },
   "outputs": [
    {
     "data": {
      "image/png": "[encoded data removed]",
      "text/plain": [
       "<Figure size 864x288 with 2 Axes>"
      ]
     },
     "metadata": {
      "needs_background": "light"
     },
     "output_type": "display_data"
    }
   ],
   "source": [
    "results = cross_validation_smote(5, X_train_scaled.values, y_train.values, lasso)\n"
   ]
  },
  {
   "cell_type": "code",
   "execution_count": 107,
   "metadata": {},
   "outputs": [
    {
     "name": "stdout",
     "output_type": "stream",
     "text": [
      "Cross Validation Results\n",
      "accuracy: 0.8545799739694797\n",
      "recall_score: 0.9710526315789474\n",
      "precision: 0.5237561375984194\n",
      "f1_score: 0.6802724789125699\n",
      "roc_auc_score: 0.901782503831892\n",
      "mcc: 0.6446864507148027\n"
     ]
    }
   ],
   "source": [
    "print(\"Cross Validation Results\")\n",
    "\n",
    "for key in results:\n",
    "    print(\"{0}: {1}\".format(key, np.mean(results[key])))\n"
   ]
  },
  {
   "cell_type": "markdown",
   "metadata": {},
   "source": [
    "#### 5.2.2 Test Results"
   ]
  },
  {
   "cell_type": "code",
   "execution_count": 108,
   "metadata": {},
   "outputs": [],
   "source": [
    "# Logistic regression model:\n",
    "lasso = LogisticRegression(fit_intercept=True, penalty='l1', C=1/best_lambda, random_state=1234)"
   ]
  },
  {
   "cell_type": "code",
   "execution_count": 109,
   "metadata": {},
   "outputs": [],
   "source": [
    "lasso_model = lasso.fit(sm_X_train, sm_y_train)"
   ]
  },
  {
   "cell_type": "code",
   "execution_count": 110,
   "metadata": {},
   "outputs": [],
   "source": [
    "# Get predicted labels for validation data\n",
    "y_pred_lasso = lasso_model.predict(X_test)"
   ]
  },
  {
   "cell_type": "code",
   "execution_count": 111,
   "metadata": {},
   "outputs": [
    {
     "name": "stdout",
     "output_type": "stream",
     "text": [
      "[[458  46]\n",
      " [ 35  60]]\n",
      "458 46 35 60\n"
     ]
    }
   ],
   "source": [
    "# Create confusion matrix\n",
    "cm = confusion_matrix(y_test, y_pred_lasso)\n",
    "TN, FP, FN, TP = cm.ravel()\n",
    "print (cm)\n",
    "print (TN, FP, FN, TP)"
   ]
  },
  {
   "cell_type": "code",
   "execution_count": 112,
   "metadata": {},
   "outputs": [
    {
     "name": "stdout",
     "output_type": "stream",
     "text": [
      "Accuracy:  0.8647746243739566\n",
      "Sensitivity:  0.631578947368421\n",
      "Precision:  0.5660377358490566\n",
      "f1 Score:  0.5970149253731343\n",
      "ROC_AUC_Score: 0.7701545530492899\n",
      "MCC:  0.5171814811327795\n"
     ]
    }
   ],
   "source": [
    "# Performance of Logistic Regression with L1\n",
    "print (\"Accuracy: \", accuracy_score(y_test, y_pred_lasso))\n",
    "print(\"Sensitivity: \", recall_score(y_test, y_pred_lasso))\n",
    "print(\"Precision: \", precision_score(y_test, y_pred_lasso))\n",
    "print (\"f1 Score: \", f1_score(y_test, y_pred_lasso))\n",
    "print(\"ROC_AUC_Score:\", roc_auc_score(y_test, y_pred_lasso))\n",
    "print(\"MCC: \", matthews_corrcoef(y_test, y_pred_lasso))\n"
   ]
  },
  {
   "cell_type": "code",
   "execution_count": 113,
   "metadata": {},
   "outputs": [
    {
     "data": {
      "image/png": "[encoded data removed]",
      "text/plain": [
       "<Figure size 1080x360 with 3 Axes>"
      ]
     },
     "metadata": {
      "needs_background": "light"
     },
     "output_type": "display_data"
    }
   ],
   "source": [
    "cm_and_roc(cm, [0, 1], y_test, y_pred_lasso, figsize = (15,5), fontsize=12)\n",
    "\n"
   ]
  },
  {
   "cell_type": "markdown",
   "metadata": {},
   "source": [
    "### 5.3 Identify important features from lasso"
   ]
  },
  {
   "cell_type": "code",
   "execution_count": 114,
   "metadata": {},
   "outputs": [
    {
     "data": {
      "text/plain": [
       "array([ 0.00000000e+00,  0.00000000e+00,  0.00000000e+00,  0.00000000e+00,\n",
       "        0.00000000e+00,  0.00000000e+00,  0.00000000e+00,  0.00000000e+00,\n",
       "        0.00000000e+00,  0.00000000e+00,  0.00000000e+00, -2.07746714e-02,\n",
       "        0.00000000e+00,  0.00000000e+00,  0.00000000e+00,  2.79169109e-01,\n",
       "        0.00000000e+00,  0.00000000e+00,  0.00000000e+00,  0.00000000e+00,\n",
       "        0.00000000e+00,  0.00000000e+00,  0.00000000e+00,  0.00000000e+00,\n",
       "        0.00000000e+00,  4.15439414e-03,  0.00000000e+00,  0.00000000e+00,\n",
       "        0.00000000e+00,  0.00000000e+00,  0.00000000e+00,  0.00000000e+00,\n",
       "        0.00000000e+00,  0.00000000e+00,  0.00000000e+00,  0.00000000e+00,\n",
       "        0.00000000e+00,  0.00000000e+00,  0.00000000e+00,  0.00000000e+00,\n",
       "        0.00000000e+00,  0.00000000e+00,  0.00000000e+00,  0.00000000e+00,\n",
       "        0.00000000e+00,  0.00000000e+00,  7.18386871e-04,  8.25847624e-01,\n",
       "        0.00000000e+00,  0.00000000e+00,  0.00000000e+00,  0.00000000e+00,\n",
       "        0.00000000e+00,  0.00000000e+00,  0.00000000e+00, -6.43457716e-02,\n",
       "        0.00000000e+00, -9.22414608e-02,  0.00000000e+00,  0.00000000e+00,\n",
       "        0.00000000e+00,  0.00000000e+00,  0.00000000e+00, -1.06155402e+00,\n",
       "       -1.16483487e+00, -1.05661752e-01,  0.00000000e+00,  0.00000000e+00,\n",
       "        0.00000000e+00,  0.00000000e+00])"
      ]
     },
     "execution_count": 114,
     "metadata": {},
     "output_type": "execute_result"
    }
   ],
   "source": [
    "lasso_coefficients = lasso_model.coef_[0]\n",
    "lasso_coefficients"
   ]
  },
  {
   "cell_type": "code",
   "execution_count": 115,
   "metadata": {},
   "outputs": [
    {
     "data": {
      "text/plain": [
       "[11, 15, 25, 46, 47, 55, 57, 63, 64, 65]"
      ]
     },
     "execution_count": 115,
     "metadata": {},
     "output_type": "execute_result"
    }
   ],
   "source": [
    "index = [i for i in range(len(lasso_coefficients)) if lasso_coefficients[i]!=0]\n",
    "index\n"
   ]
  },
  {
   "cell_type": "code",
   "execution_count": 116,
   "metadata": {},
   "outputs": [
    {
     "data": {
      "text/plain": [
       "['inq_fi',\n",
       " 'int_rate',\n",
       " 'mths_since_rcnt_il',\n",
       " 'out_prncp',\n",
       " 'out_prncp_inv',\n",
       " 'tot_cur_bal',\n",
       " 'total_acc',\n",
       " 'total_pymnt',\n",
       " 'total_pymnt_inv',\n",
       " 'total_rec_int']"
      ]
     },
     "execution_count": 116,
     "metadata": {},
     "output_type": "execute_result"
    }
   ],
   "source": [
    "lasso_features = [features[j] for j in index]\n",
    "lasso_features"
   ]
  },
  {
   "cell_type": "markdown",
   "metadata": {},
   "source": [
    "**Lasso Selected 10 Features**:\n",
    "- inq_fi\n",
    "- int_rate\n",
    "- mths_since_rcnt_il\n",
    "- out_prncp\n",
    "- out_prncp_inv\n",
    "- tot_cur_bal\n",
    "- total_acc\n",
    "- total_pymnt\n",
    "- total_pymnt_inv\n",
    "- total_rec_int"
   ]
  },
  {
   "cell_type": "markdown",
   "metadata": {},
   "source": [
    "(b) (2 points) Did your intuition about the correct set of attributes in the REDUCED-MODEL match the results that you obtained from the LASSO-MODEL? Discuss."
   ]
  },
  {
   "cell_type": "markdown",
   "metadata": {},
   "source": [
    "Only 4 of our selected features (int_rate,total_pymnt,total_pymnt_inv,tot_cur_bal) in the REDUCED-MODEL match with the features in the LASSO-MODEL. The reason for the discrepancy can be attributed to the fact that the data does not exhibit the separation of customers (bad and normal loans) for each feature as described by our intuition, in particular for those wrongly identified features. \n",
    "\n",
    "For example, we expected a high dti to have more bad loans and a low dti to have less bad loans - but this is generally not reflected in the data. We can instead see that there is no distinction in the customers in the `dti` distribution. When we look at the 4 features that are included in the LASSO Model, we can see that `total_pymt` and `total_pymnt_inv` shows a very different distribution for both types of customers, while  `int_rate` and `tot_cur_bal` shows some differences especially at low values which could be used for identification. \n",
    "All in all, the lasso model could probably identify some form of correlation and distribution of the features to distinguish the type of loans which if based on just our observation and intuition, cannot be identified."
   ]
  },
  {
   "cell_type": "code",
   "execution_count": 117,
   "metadata": {},
   "outputs": [],
   "source": [
    "test = ['int_rate', 'out_prncp', 'out_prncp_inv', 'total_pymnt', 'total_pymnt_inv', 'total_rec_prncp',\n",
    "'percent_bc_gt_75', 'dti', 'delinq_amnt'\n",
    "]"
   ]
  },
  {
   "cell_type": "code",
   "execution_count": 118,
   "metadata": {},
   "outputs": [
    {
     "data": {
      "image/png": "[encoded data removed]",
      "text/plain": [
       "<Figure size 1440x1440 with 10 Axes>"
      ]
     },
     "metadata": {
      "needs_background": "light"
     },
     "output_type": "display_data"
    }
   ],
   "source": [
    "fig = plt.figure(figsize=(20,20))\n",
    "fig.subplots_adjust(hspace=0.5)\n",
    "\n",
    "for i in range(1, len(selected_ten_features)+1):\n",
    "    variable = selected_ten_features[i-1]\n",
    "    plt.subplot(4, 3, i)\n",
    "    sns.distplot(loans[loans['bad_loans'] == 0][variable], \n",
    "             color='g', label=\"Good Loans\")\n",
    "    sns.distplot(loans[loans['bad_loans'] == 1][variable], \n",
    "                 color='r', label=\"Bad Loans\")\n",
    "    plt.title('Bad x Normal Loans by {}'.format(variable), fontsize=17)\n",
    "    plt.legend(prop={'size': 10})"
   ]
  },
  {
   "cell_type": "markdown",
   "metadata": {},
   "source": [
    "## Question 6"
   ]
  },
  {
   "cell_type": "markdown",
   "metadata": {},
   "source": [
    "6. (1 point) What other metric might you use to compare the performance of the different models? Explain what this metric means and how it might be computed. For this question, you will not have to compute the metric."
   ]
  },
  {
   "cell_type": "markdown",
   "metadata": {},
   "source": [
    "In this specific business context, we would use the F1 score. The F1 score is calculated as 2$*$((precision$*$recall)/(precision+recall)). It is a balance between precision and recall. Precision is calculated as TP/(TP+FP) and recall is calculated as TP/(TP+FN) also known as the true positive rate.\n",
    "\n",
    "A good F1 score indicates that there are low false positives and false negatives. In this scenario, it is important to have low false positives because a high false positive rate means that we wrongly classified good customers as loan defaulters. Doing so would result in a loss of revenue from not issuing the loan to these customers. It is even more crucial to have low false negatives. This is because we do not want to wrongly classify potential loan defaulters as good customers. If the lending club were to issue loans to these customers, they would suffer a much heavier loss as these customers will have a higher risk of defaulting. \n",
    "\n",
    "Hence, when selecting the model, we would base it on the highest F1 score as another metric of evaluation. \n"
   ]
  },
  {
   "cell_type": "markdown",
   "metadata": {},
   "source": [
    "## Question 7"
   ]
  },
  {
   "cell_type": "markdown",
   "metadata": {},
   "source": [
    "7. (2 points) How do the results using the full set of attributes FULL-MODEL and LASSO-model compare to those that you personally selected REDUCED-MODEL to predict if a loan will default? What do you think is more important in this particular example, the set of attributes, or the classification techniques? Discuss. "
   ]
  },
  {
   "cell_type": "markdown",
   "metadata": {},
   "source": [
    "**Comparison of Results:**\n",
    "\n",
    "When comparing the models, we will be primarily using the Test Results as a basis of comparison because this allows us to see how the models perform on a truly unseen data. \n",
    "\n",
    "*(1) Full Model vs Reduced Model*\n",
    "\n",
    "Observation:\n",
    "\n",
    "The Full Model performed better on the test set both in Accuracy (86.48% against 84.64%) and MCC (63.20% against 62.99%) compared to our personally selected reduced model. \n",
    "\n",
    "Explanation:\n",
    "\n",
    "This is because the Full Model considers all features and then uses `l2` regularization to penalise the weak features by means of statistical measures (e.g. does this one feature lead to a clear separation of class?). The different weights assigned to each feature helps to minimise overfitting of the Full Model and increases its predictive power. \n",
    "\n",
    "On the other hand, our hand-picked features were based off domain knowledge and not through a thorough understanding of the data. As such, we could have excluded the significant features from our reduced model. This reduces the predictive power of our reduced model. \n",
    "\n",
    "\n",
    "*(2) Lasso Model vs Reduced Model*\n",
    "\n",
    "Observation:\n",
    "\n",
    "- Looking at the Test results, the Lasso Model performed slightly better than the Reduced Model in Accuracy (86.48% against 84.64%) but worse than the Reduced Model in MCC (51.72% against 62.99%). \n",
    "\n",
    "- Looking at the CV results, the Lasso Model performed fairly similar both in Accuracy (85.46% against 85.83%) and MCC (64.47% against 65.06%) compared to the Reduced Model. \n",
    "\n",
    "Explanation:\n",
    "\n",
    "For the first observation, we do not have a conclusive explanation. \n",
    "\n",
    "However, for the second observation, we believe the similar CV performance could be because we managed to identify strong features such as ‘total_pymnt’ and ‘out_prncp’ that are able to separate the classes well. In addition, we are using `l2` regularization for our Reduced Model, which will lower the weight of the coefficient of those poor features we have chosen. \n",
    "\n",
    "*(3) Full Model and Lasso Model vs Reduced Model*\n",
    "\n",
    "Observation:\n",
    "\n",
    "When comparing the Test Accuracy, the Lasso Model and the Full Model perform equally well, while our Reduced Model has the lowest accuracy. \n",
    "\n",
    "Explanation:\n",
    "\n",
    "Both the Full Model and Lasso Model have similar performance results because they both consider the full feature set and then apply a penalty to the weak features - (reduce the coefficient of weak features close to 0 for `l2` in Full Model; penalise the coefficient of weak features to equal to 0 for `l1` in Lasso Model. This minimises overfitting and allow them to have a much better predictive performance. \n",
    "\n",
    "As mentioned above, we could have accidentally excluded some significant features in our reduced model, which explains the relatively poor performance in test accuracy. \n",
    "\n",
    "**Set of Attributes or Classification Techniques:**\n",
    "\n",
    "In our opinion, we feel the classification technique is more important. While the set of attributes used contributes largely to the performance of the classifier, the classifier has its own inbuilt parameters to select the best set of attributes eg `l1` and `l2` regularization/ Max Features. If we understand the parameters of a model well, we could utilise it to select the best set of attributes for us. In addition, it is evident from the results of the Full Models and Reduced Models, that classification methods are more important, as given the same set of attributes, the XGBoost always outperforms the other 2 classifiers. "
   ]
  },
  {
   "cell_type": "markdown",
   "metadata": {},
   "source": [
    "### Note: Question 8 is done in a seperate notebook."
   ]
  }
 ],
 "metadata": {
  "kernelspec": {
   "display_name": "Python 3",
   "language": "python",
   "name": "python3"
  },
  "language_info": {
   "codemirror_mode": {
    "name": "ipython",
    "version": 3
   },
   "file_extension": ".py",
   "mimetype": "text/x-python",
   "name": "python",
   "nbconvert_exporter": "python",
   "pygments_lexer": "ipython3",
   "version": "3.6.4"
  }
 },
 "nbformat": 4,
 "nbformat_minor": 2
}
